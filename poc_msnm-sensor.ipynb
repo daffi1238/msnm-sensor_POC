{
 "cells": [
  {
   "cell_type": "markdown",
   "metadata": {},
   "source": [
    "# Multiple linear regression"
   ]
  },
  {
   "cell_type": "markdown",
   "metadata": {},
   "source": [
    "## Import the relevant libraries"
   ]
  },
  {
   "cell_type": "code",
   "execution_count": 1,
   "metadata": {},
   "outputs": [],
   "source": [
    "import numpy as np\n",
    "from datetime import datetime\n",
    "import time\n",
    "from scipy.stats import norm\n",
    "import numpy.linalg as linalg"
   ]
  },
  {
   "cell_type": "markdown",
   "metadata": {},
   "source": [
    "## Load the data"
   ]
  },
  {
   "cell_type": "code",
   "execution_count": 2,
   "metadata": {},
   "outputs": [
    {
     "name": "stdout",
     "output_type": "stream",
     "text": [
      "Las dimensiones de la matriz de calibración son:  (20, 5)\n"
     ]
    }
   ],
   "source": [
    "#Generación e matriz aleatoria arbitraria\n",
    "nobs=20\n",
    "nvar=5\n",
    "calibration_matrix=np.random.random((nobs,nvar)) #matriz de 300x112\n",
    "#comprobar\n",
    "print \"Las dimensiones de la matriz de calibración son: \", calibration_matrix.shape\n"
   ]
  },
  {
   "cell_type": "markdown",
   "metadata": {},
   "source": [
    "## Información adicional para el cálculo"
   ]
  },
  {
   "cell_type": "code",
   "execution_count": 3,
   "metadata": {},
   "outputs": [],
   "source": [
    "#Configuraciones\n",
    "tstsDateFormat='%Y%m%d%H%M'\n",
    "model_backup_path = \"data/calibration/\"\n",
    "datetime.strftime(datetime.now(),tstsDateFormat)\n",
    "\n",
    "#información del yaml de configuración principal\n",
    "prep=2\n",
    "lv=2\n",
    "phase=1\n",
    "x=calibration_matrix\n"
   ]
  },
  {
   "cell_type": "markdown",
   "metadata": {},
   "source": [
    "### Preprocesamiento de la matriz calibración"
   ]
  },
  {
   "cell_type": "code",
   "execution_count": 4,
   "metadata": {},
   "outputs": [
    {
     "name": "stdout",
     "output_type": "stream",
     "text": [
      "average:  [[0.47191628 0.47270911 0.4020386  0.44044764 0.59037733]]\n",
      "('Las dimensiones de average: ', (1, 5), ' Se busca el valor medio de csda')\n",
      "scale:  [[0.3226111  0.30336455 0.26917673 0.26260354 0.31146312]]\n",
      "Las dimensiones de scale son:  (1, 5) Se busca la desviación de cada columna para centrarla en 1\n",
      "xcs:  [[-0.4893417   0.08297315 -0.66809013 -0.33776272  1.10974022]\n",
      " [ 0.36624061  1.54673393 -0.65550962 -0.28893527 -0.01272692]\n",
      " [ 1.19262797 -1.50587262 -0.90470108 -0.83499918 -1.31171509]\n",
      " [-1.26093473 -0.80659027  0.36997291 -0.44652472  0.41583683]\n",
      " [ 0.87946556  0.4733678  -0.87363655  0.16788317  0.58604103]\n",
      " [-0.53145919 -1.26925775 -0.52679628 -1.36211182  1.17541713]\n",
      " [-1.24592866  0.30930469 -0.03298969 -0.37503962 -0.45278567]\n",
      " [-0.98770838 -0.23458856 -0.92724663 -0.23604534  0.88093354]\n",
      " [-0.26304801 -0.93999737 -0.63828384  1.60057898  0.99684988]\n",
      " [ 1.40950777  0.60473813 -0.97094784  0.62929349 -0.54693542]\n",
      " [ 0.92105691  0.22054149 -1.3993101   1.59882626  1.27956226]\n",
      " [-0.87455687  1.70667662  1.47078854 -1.22384797 -0.07511592]\n",
      " [ 1.61683904 -0.38660823 -0.82764325 -0.4014511  -1.73435351]\n",
      " [-0.6880591  -0.78798101  1.80549206 -1.31293255  0.03179759]\n",
      " [-0.5260705   0.17801855  0.78553871  0.43097885 -0.44898327]\n",
      " [-0.97496802  1.70816807 -0.02088333  0.4638632   1.22519031]\n",
      " [-0.2435381   1.23881304  0.14909698  1.34321986 -1.87124562]\n",
      " [-0.844214   -1.07379629  0.97160552  1.91591843 -0.1226609 ]\n",
      " [ 1.13408113 -1.03812366  1.64763074 -0.37606556  0.265829  ]\n",
      " [ 1.41000827 -0.0265197   1.2459129  -0.9548464  -1.39067547]]\n",
      "Las dimensiones de xcs:  (20, 5)\n",
      "xcs es la matriz normalizada, con media 0 y desviación 1, paso necesario para aplicar PCA\n"
     ]
    }
   ],
   "source": [
    "#preprocesamiento -->method_name = \"preprocess_2D()\" La variables weight de momento en estos ejemplos no la tendremos en cuenta\n",
    "nanM = np.isnan(x)\n",
    "anM = 1 - nanM\n",
    "\n",
    "average = np.nanmean(x,axis=0)# array of M elements\n",
    "average = average.reshape((1,average.shape[0]))# Matrix of 1xM elements\n",
    "scale = np.nanstd(x,axis=0,ddof=1)\n",
    "\n",
    "#TODO: to ask Pepe what is this :(\n",
    "ind = np.nonzero(scale == 0)# # of zeroes in scale\n",
    "dem = 2.0*np.sum(anM[:,ind],axis=0) - 1\n",
    "scale[ind] = np.sqrt(np.ones((1,np.array(ind).size)) / dem)\n",
    "\n",
    "scale = scale.reshape((1,scale.shape[0]))# Matrix of 1xM elements\n",
    "xcs = x - np.dot(np.ones((x.shape[0],1)),average)\n",
    "xcs = xcs / np.dot(np.ones((x.shape[0],1)),scale)\n",
    "\n",
    "print \"average: \", average\n",
    "print (\"Las dimensiones de average: \", average.shape, \" Se busca el valor medio de csda\")#112x1, es decir, una media por cada columna\n",
    "\n",
    "print \"scale: \", scale\n",
    "print \"Las dimensiones de scale son: \", scale.shape, \"Se busca la desviación de cada columna para centrarla en 1\"\n",
    "\n",
    "#xcs tiene las dimensiones de la matriz original 300x112\n",
    "print \"xcs: \",xcs\n",
    "print \"Las dimensiones de xcs: \", xcs.shape\n",
    "print \"xcs es la matriz normalizada, con media 0 y desviación 1, paso necesario para aplicar PCA\"\n"
   ]
  },
  {
   "cell_type": "markdown",
   "metadata": {},
   "source": [
    "### PCA"
   ]
  },
  {
   "cell_type": "code",
   "execution_count": 5,
   "metadata": {},
   "outputs": [
    {
     "name": "stdout",
     "output_type": "stream",
     "text": [
      "Las dimensiones de u: (20, 20)\n",
      "Las dimensiones de s: (20, 5)\n",
      "Las dimensiones de v: (5, 5)\n"
     ]
    }
   ],
   "source": [
    "#PCA; La llamada de la funcion def runPCA(self, method='svd', **kwargs):\n",
    "#El ejemplo lo describo con el método svd que es el usado por defecto\n",
    "# Run SVD from the data matrix\n",
    "data=xcs\n",
    "pcs=lv\n",
    "\n",
    "u, s, v = linalg.svd(data)\n",
    "\n",
    "# Transform S from array to matrix with the corresponding dimensions\n",
    "# in U and V\n",
    "#Este punto no he conseguido obtener una comprensión profunda mas alla de lo que menciona\n",
    "sdiag = np.diag(s)\n",
    "s = np.zeros((u.shape[1], v.shape[0]))\n",
    "s[:sdiag.shape[0], :sdiag.shape[1]] = sdiag\n",
    "\n",
    "print \"Las dimensiones de u: %s\" % str(u.shape)\n",
    "\n",
    "print \"Las dimensiones de s: %s\" % str(s.shape)\n",
    "\n",
    "print \"Las dimensiones de v: %s\" % str(v.shape)\n"
   ]
  },
  {
   "cell_type": "code",
   "execution_count": 6,
   "metadata": {},
   "outputs": [
    {
     "name": "stdout",
     "output_type": "stream",
     "text": [
      "La dimensiones de t son : (20, 5)\n",
      "Las dimensiones de p son: (5, 5)\n",
      "Las dimensiones de scoresMatrix son: (20, 2)\n",
      "Las dimensiones de loadingsMatrix son: (5, 2)\n",
      "Las dimensiones de model son: (20, 5)\n",
      "Las dimensiones de residualsMatrix son: (20, 5)\n",
      "Las dimensiones de eigengvaluesMatrix son: (20, 5)\n"
     ]
    }
   ],
   "source": [
    "t = np.dot(u, s)   #  ->u: Matriz de similaridad de fila-clase       \n",
    "p = v.T #            ->v: Matriz de similaridad de columna-clase\n",
    "\n",
    "scoresMatrix = t[:, :pcs]  # (Las dos pc's)\n",
    "loadingsMatrix = p[:, :pcs] #M\n",
    "model = np.dot(scoresMatrix, loadingsMatrix.T) #Matriz de 300x112\n",
    "residualsMatrix = data - model #\n",
    "eigengvaluesMatrix = s #\n",
    "\n",
    "print \"La dimensiones de t son : %s\" % str(t.shape)\n",
    "print \"Las dimensiones de p son: %s\" % str(p.shape)\n",
    "print \"Las dimensiones de scoresMatrix son: %s\" % str(scoresMatrix.shape)\n",
    "print \"Las dimensiones de loadingsMatrix son: %s\" % str(loadingsMatrix.shape)\n",
    "print \"Las dimensiones de model son: %s\" % str(model.shape)\n",
    "print \"Las dimensiones de residualsMatrix son: %s\" % str(residualsMatrix.shape)\n",
    "print \"Las dimensiones de eigengvaluesMatrix son: %s\" % str(eigengvaluesMatrix.shape)\n"
   ]
  },
  {
   "cell_type": "markdown",
   "metadata": {},
   "source": [
    "## Calculamos los UCL's"
   ]
  },
  {
   "cell_type": "code",
   "execution_count": 7,
   "metadata": {},
   "outputs": [],
   "source": [
    "#definido en model.py\n",
    "alpha = 0.01\n",
    "\n",
    "\n",
    "####Para el calculo de UCLD\n",
    "phase=2\n",
    "mspc=lv\n",
    "npc=data.shape[0] #nº observaciones (300)"
   ]
  },
  {
   "cell_type": "markdown",
   "metadata": {},
   "source": [
    "### UCL-D"
   ]
  },
  {
   "cell_type": "code",
   "execution_count": 18,
   "metadata": {},
   "outputs": [
    {
     "name": "stdout",
     "output_type": "stream",
     "text": [
      "El valor de lim es: 13.328605717141173\n",
      "13.328605717141173\n"
     ]
    }
   ],
   "source": [
    "####Calculo de los UCL's\n",
    "#UCL-D\n",
    "#Definición\n",
    "#def computeUCLD(self,npc,nob,p_value,phase):\n",
    "#llamada\n",
    "#self._mspc.computeUCLD(self._lv, data.shape[0], self._alpha, self._phase)\n",
    "'''\n",
    "Parameters\n",
    "        ----------\n",
    "        npc: int \n",
    "            Number of PCs\n",
    "        nob: int \n",
    "            Number of observations\n",
    "        p_value: float \n",
    "            p-value of the test, in (0,1]\n",
    "        phase: int \n",
    "            SPC phase\n",
    "            1: Phase I\n",
    "            2: Phase II\n",
    "'''\n",
    "#method_name = \"computeUCLD()\"\n",
    "       \n",
    "#importar\n",
    "from scipy.stats import f as fisher\n",
    "\n",
    "####Para el calculo de UCLD\n",
    "phase=2\n",
    "npc=lv\n",
    "nob=data.shape[0]#nº observaciones (300)\n",
    "p_value=alpha #El p_value vale 0.01 muy significativo. A más pequeño más significativo. Basicamente busca le decimos a q que busque anomalías en el p-value dado\n",
    "\n",
    "        \n",
    "if phase == 2:\n",
    "   lim = (npc*(nob*nob-1.0)/(nob*(nob-npc)))*fisher.ppf(1-p_value,npc,nob-npc)\n",
    "else:\n",
    "   lim = (nob-1.0)**2/nob*beta.ppf(1-p_value,npc/2.0,(nob-npc-1)/2.0)\n",
    "         \n",
    "print \"El valor de lim es: %s\" %lim\n",
    "   \n",
    "# Check is the limit is and ndarray of [1x1] dimensions and get the float value\n",
    "if isinstance(lim, np.ndarray):\n",
    "   lim = lim[0,0]\n",
    "            \n",
    "# TODO: Sometimes after computations numpy takes UCLq as complex with 0j imaginary part\n",
    "if isinstance(lim, complex):\n",
    "   logging.warn(\"UCLd has a complex value of %s. Getting just the real part.\",lim)\n",
    "   lim = lim.real\n",
    "            \n",
    "UCLD=lim #Valor de ejemplo 9.416825881055232\n",
    "\n",
    "print UCLD\n"
   ]
  },
  {
   "cell_type": "markdown",
   "metadata": {},
   "source": [
    "### UCL-Q"
   ]
  },
  {
   "cell_type": "code",
   "execution_count": 9,
   "metadata": {},
   "outputs": [
    {
     "name": "stdout",
     "output_type": "stream",
     "text": [
      "9.079596700175381\n"
     ]
    }
   ],
   "source": [
    "#definido en model.py\n",
    "alpha = 0.01\n",
    "\n",
    "####Para el calculo de UCLQ\n",
    "res=residualsMatrix\n",
    "p_value=alpha #El p_value vale 0.01 muy significativo. A más pequeño más significativo. Basicamente busca le decimos a q que busque anomalías en el p-value dado\n",
    "# Rows of E matrix\n",
    "N = res.shape[0] #300 observaciones\n",
    "            \n",
    "# rank of E\n",
    "pcs_left = np.linalg.matrix_rank(res);#rango 110, este valor variará según la matriz utilizada\n",
    "    \n",
    "#\n",
    "lambda_eig = np.linalg.eigvals((1.0/(N-1))*np.dot(res.T,res)) #Array de 112 valores, \n",
    "# Get the DESC order according to the ABS value of eigenvalues\n",
    "lambda_eig = lambda_eig[np.abs(lambda_eig).argsort()[::-1]]        \n",
    "    \n",
    "theta1 = np.sum(lambda_eig[:pcs_left])\n",
    "theta2 = np.sum(lambda_eig[:pcs_left]**2)\n",
    "theta3 = np.sum(lambda_eig[:pcs_left]**3)\n",
    "    \n",
    "h0 = 1-((2*theta1*theta3)/(3*theta2**2))\n",
    "    \n",
    "z = norm.ppf(1-p_value)\n",
    "\n",
    "UCLq = theta1*((z*np.sqrt(2*theta2*(h0**2))/theta1) + 1 + (theta2*h0*(h0-1)/(theta1**2)))**(1/h0)\n",
    "#Comprobaciones para evitar errorewres\n",
    "# Check is the limit is and ndarray of [1x1] dimensions and get the float value\n",
    "if isinstance(UCLq, np.ndarray):\n",
    "   UCLq = UCLq[0,0]\n",
    "                \n",
    "# TODO: Sometimes after computations numpy takes UCLq as complex with 0j imaginary part\n",
    "if isinstance(UCLq, complex):\n",
    "    logging.warn(\"UCLq has a complex value of %s. Getting just the real part.\",UCLq)\n",
    "    UCLq = UCLq.real\n",
    "\n",
    "UCLQ=UCLq #valor de ejemplo 150.99231878043952\n",
    "\n",
    "print UCLQ"
   ]
  },
  {
   "cell_type": "markdown",
   "metadata": {},
   "source": [
    "## Cálculo de los estadísticos"
   ]
  },
  {
   "cell_type": "markdown",
   "metadata": {},
   "source": [
    "### Q-st"
   ]
  },
  {
   "cell_type": "code",
   "execution_count": 10,
   "metadata": {},
   "outputs": [
    {
     "name": "stdout",
     "output_type": "stream",
     "text": [
      "[[3.80170218]]\n"
     ]
    }
   ],
   "source": [
    "#Comenzamos con el cálculo de Q-st\n",
    "#Primero obtenemos un arry de 1x112\n",
    "test=np.random.random((1,5))\n",
    "#La preprocesamos, es una funcion distinta a la usada en la matriz de calibración\n",
    "#Es decir media 0 y desviación 1 respecto la calibración\n",
    "testMeanCenterting = test - np.dot(np.ones((test.shape[0],1)),average)\n",
    "testAutoScaled = testMeanCenterting / (np.dot(np.ones((test.shape[0],1)),scale))\n",
    "testcs = testAutoScaled\n",
    "#Ahora comenzamos el cálculo del estadístico, ¿Qué necesitamos?\n",
    "#self._mspc.computeQst(testcs, self._model.get_pca().getLoadings())\n",
    "#La observación preporcesada y la matriz Loading del PCA\n",
    "\n",
    "#def computeQst(self,testcs,P):\n",
    "P=loadingsMatrix\n",
    "#new scores from testcs and the loadings (Q) of the calibration model\n",
    "t = np.dot(testcs,P)\n",
    "# Model residuals from the observations in testcs\n",
    "e = testcs - np.dot(t,np.transpose(P))\n",
    "# Computes Q-statistics from the observations in testcs\n",
    "Qst = np.sum(np.power(e,2),axis=1).reshape(testcs.shape[0],1);\n",
    "#->Qst = 89.84502164\n",
    "\n",
    "print Qst"
   ]
  },
  {
   "cell_type": "markdown",
   "metadata": {},
   "source": [
    "### D-st"
   ]
  },
  {
   "cell_type": "code",
   "execution_count": 11,
   "metadata": {},
   "outputs": [
    {
     "name": "stdout",
     "output_type": "stream",
     "text": [
      "2.219034581647613\n"
     ]
    }
   ],
   "source": [
    "#Partiendo de las ejecuciones anteriores cn ya test definido e incluso\n",
    "\"\"\"\n",
    "Parameters\n",
    "        ----------        \n",
    "        testcs: numpy.ndarray\n",
    "            [NxM] preprocessed billinear data set with the observations to be monitored.\n",
    "        P: numpy.ndarray \n",
    "            [MxA] Matrix to perform the projection from the original to the latent subspace. \n",
    "            For PCA (testcs = T*P'), this is the matrix of loadings\n",
    "        T: numpy.ndarray \n",
    "            [MxA] Matrix to perform the projection from the original to the latent subspace. \n",
    "            For PCA (testcs = T*P'), this is the matrix of scores\n",
    "\"\"\"\n",
    "testcs=testcs\n",
    "P=loadingsMatrix\n",
    "T=scoresMatrix\n",
    "#new scores from testcs and the loadings (R) of the calibration model\n",
    "t = np.dot(testcs,P)        \n",
    "            \n",
    "#inverse of the model calibration scores (T)\n",
    "#Note: inv() method just allows at least 2D arrays \n",
    "t_cov = np.cov(T,rowvar=False)\n",
    "\n",
    "try:\n",
    "\tinvCT = np.linalg.inv(t_cov)\n",
    "except LinAlgError:\n",
    "\tinvCT = 1 / t_cov\n",
    "\n",
    "#         if all(t_cov.shape):# True the shape tuple is empty\n",
    "#             # When T has only one variable -> cov(T) computes the variance\n",
    "#             invCT = 1 / t_cov\n",
    "#         else:    \n",
    "#             invCT = np.linalg.inv(t_cov)\n",
    "\n",
    "dotAux = np.dot(t,invCT)\n",
    "\n",
    "# Computes D-statistics from the observations in testcs\n",
    "Dst = np.sum(np.multiply(dotAux,t),axis=1).reshape(testcs.shape[0],1);\n",
    "            \n",
    "# Check is the statistic is and ndarray of [1x1] dimensions and get the float value\n",
    "if isinstance(Dst, np.ndarray):\n",
    "\tDst = Dst[0,0]\n",
    "            \n",
    "# TODO: Sometimes after computations numpy takes UCLq as complex with 0j imaginary part\n",
    "if isinstance(Dst, complex):\n",
    "\tlogging.warn(\"Dst has a complex value of %s. Getting just the real part.\",self._Dst)\n",
    "\tDst = Dst.real\n",
    "    \n",
    "print Dst"
   ]
  },
  {
   "cell_type": "markdown",
   "metadata": {},
   "source": [
    "En este punto tenemos calculado los UCL's correspondientes a una calibración y los estadísticos correspondientes a una observación. Para comprobar si tenermos una anomalía tan sólo debemos ver si ambos estadísticos se encuentran por debajo de sus UCL's respectivos."
   ]
  },
  {
   "cell_type": "markdown",
   "metadata": {},
   "source": [
    "## Diagnóstico"
   ]
  },
  {
   "cell_type": "markdown",
   "metadata": {},
   "source": [
    "El punto ahora es poder obtener el origen de dicha anomalía para ello se aplica el método oMEDA calculando un vector de diagnóstico de la siguiente manera:"
   ]
  },
  {
   "cell_type": "code",
   "execution_count": 12,
   "metadata": {},
   "outputs": [
    {
     "data": {
      "text/plain": [
       "array([[-1.73423996],\n",
       "       [ 0.5620792 ],\n",
       "       [ 1.32848689],\n",
       "       [-0.66446484],\n",
       "       [-0.08181854]])"
      ]
     },
     "execution_count": 12,
     "metadata": {},
     "output_type": "execute_result"
    }
   ],
   "source": [
    "# Set up which observations are compared\n",
    "dummy = np.zeros((1,test.shape[0]))\n",
    "# We evaluate the observation 1\n",
    "dummy[0,0] = 1\n",
    "\n",
    "# Computes oMEDA\n",
    "#self._mspc.computeoMEDA(testcs, dummy, self._model.get_pca().getLoadings())\n",
    "if dummy.shape[0] == 1:\n",
    "  dummy = dummy.T\n",
    "                            \n",
    "# To normalice the dummy vector [-1, 1]\n",
    "if dummy[dummy > 0].size != 0:\n",
    "  dummy[dummy > 0] = dummy[dummy > 0] / np.max(dummy[dummy > 0])\n",
    "\n",
    "\n",
    "if dummy[dummy < 0].size != 0:\n",
    "  dummy[dummy < 0] = (dummy[dummy < 0] / np.min(dummy[dummy < 0]))*(-1)\n",
    "                  \n",
    "xA = np.dot(np.dot(testcs,P),P.T);   \n",
    "sumA = np.dot(xA.T,dummy);       \n",
    "sumTotal = np.dot(testcs.T,dummy);        \n",
    "            \n",
    "oMEDA = ((2*sumTotal - sumA)*np.abs(sumA)) / np.sqrt(np.dot(dummy.T,dummy))\n",
    "\n",
    "diagnosis_vec=oMEDA\n",
    "\n",
    "diagnosis_vec"
   ]
  },
  {
   "cell_type": "code",
   "execution_count": null,
   "metadata": {},
   "outputs": [],
   "source": []
  },
  {
   "cell_type": "code",
   "execution_count": null,
   "metadata": {},
   "outputs": [],
   "source": []
  },
  {
   "cell_type": "code",
   "execution_count": null,
   "metadata": {},
   "outputs": [],
   "source": []
  },
  {
   "cell_type": "code",
   "execution_count": null,
   "metadata": {},
   "outputs": [],
   "source": []
  },
  {
   "cell_type": "code",
   "execution_count": null,
   "metadata": {},
   "outputs": [],
   "source": []
  }
 ],
 "metadata": {
  "kernelspec": {
   "display_name": "py27",
   "language": "python",
   "name": "py27"
  },
  "language_info": {
   "codemirror_mode": {
    "name": "ipython",
    "version": 2
   },
   "file_extension": ".py",
   "mimetype": "text/x-python",
   "name": "python",
   "nbconvert_exporter": "python",
   "pygments_lexer": "ipython2",
   "version": "2.7.18"
  }
 },
 "nbformat": 4,
 "nbformat_minor": 2
}
