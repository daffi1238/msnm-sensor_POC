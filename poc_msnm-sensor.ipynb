{
 "cells": [
  {
   "cell_type": "markdown",
   "metadata": {},
   "source": [
    "# Multiple linear regression"
   ]
  },
  {
   "cell_type": "markdown",
   "metadata": {},
   "source": [
    "## Import the relevant libraries"
   ]
  },
  {
   "cell_type": "code",
   "execution_count": 11,
   "metadata": {},
   "outputs": [],
   "source": [
    "import numpy as np\n",
    "from datetime import datetime\n",
    "import time\n",
    "from scipy.stats import norm\n",
    "import numpy.linalg as linalg\n",
    "\n",
    "#Para el cálculo de UCL-D\n",
    "from scipy.stats import f as fisher\n",
    "from scipy.stats import beta"
   ]
  },
  {
   "cell_type": "markdown",
   "metadata": {},
   "source": [
    "## Load the data"
   ]
  },
  {
   "cell_type": "code",
   "execution_count": 12,
   "metadata": {},
   "outputs": [
    {
     "name": "stdout",
     "output_type": "stream",
     "text": [
      "Las dimensiones de la matriz de calibración son:  (20, 5)\n"
     ]
    }
   ],
   "source": [
    "#Generación e matriz aleatoria arbitraria\n",
    "nobs=20\n",
    "nvar=5\n",
    "calibration_matrix=np.random.random((nobs,nvar)) #matriz de 300x112\n",
    "#comprobar\n",
    "print \"Las dimensiones de la matriz de calibración son: \", calibration_matrix.shape\n"
   ]
  },
  {
   "cell_type": "markdown",
   "metadata": {},
   "source": [
    "## Información adicional para el cálculo"
   ]
  },
  {
   "cell_type": "code",
   "execution_count": 13,
   "metadata": {},
   "outputs": [],
   "source": [
    "#Configuraciones\n",
    "tstsDateFormat='%Y%m%d%H%M'\n",
    "model_backup_path = \"data/calibration/\"\n",
    "datetime.strftime(datetime.now(),tstsDateFormat)\n",
    "\n",
    "#información del yaml de configuración principal\n",
    "prep=2\n",
    "lv=2\n",
    "phase=1\n",
    "x=calibration_matrix\n"
   ]
  },
  {
   "cell_type": "markdown",
   "metadata": {},
   "source": [
    "### Preprocesamiento de la matriz calibración"
   ]
  },
  {
   "cell_type": "code",
   "execution_count": 14,
   "metadata": {},
   "outputs": [
    {
     "name": "stdout",
     "output_type": "stream",
     "text": [
      "average:  [[0.37916459 0.58166851 0.5815468  0.48463985 0.4912082 ]]\n",
      "('Las dimensiones de average: ', (1, 5), ' Se busca el valor medio de csda')\n",
      "scale:  [[0.30846677 0.31061904 0.29167431 0.27856233 0.22722671]]\n",
      "Las dimensiones de scale son:  (1, 5) Se busca la desviación de cada columna para centrarla en 1\n",
      "xcs:  [[ 1.83479186  0.85384676  0.28706502  0.47799762  1.52375721]\n",
      " [-0.0760604   1.0165558  -1.20745779  0.55849043 -0.01860767]\n",
      " [ 0.25774409 -1.66817402  1.03992924  1.50120889 -0.02039791]\n",
      " [-0.10952328  1.07420205  0.1826727  -0.85340902  1.73406897]\n",
      " [-0.25384788 -1.17848239  0.33933176  1.02420728  0.14172457]\n",
      " [-0.7054806   0.65950515  1.24642765 -1.13020968 -0.12488635]\n",
      " [-0.93986959  0.69640518  1.30746155 -0.84820965 -0.23475916]\n",
      " [ 0.29353228  0.13638133  1.40697292 -0.90847083  0.77521301]\n",
      " [-0.34905221  0.1807923   0.16783521  1.33790994  0.66277956]\n",
      " [ 0.1000085   0.61873258  0.64743735  0.35177678 -0.27535029]\n",
      " [-1.04038343 -0.5299567  -1.20260449 -1.47137959  0.64353733]\n",
      " [-1.08955642  0.44189284 -0.15312983 -0.18472778  0.06381348]\n",
      " [ 0.92636895 -1.74261381 -1.5823883  -1.23346578 -0.9398353 ]\n",
      " [-0.37287667  0.96795662 -1.12438253  0.00830302 -1.20747095]\n",
      " [-1.02491364  0.92072662 -0.40141848 -0.85760833  1.09153185]\n",
      " [ 2.00709005 -1.15785165 -0.354376    0.55648847 -1.63480266]\n",
      " [ 1.78711464 -0.30484016 -1.91388582 -0.73905093  1.18218453]\n",
      " [-1.05163736  0.31743585  0.58823259  1.55966424 -1.3786217 ]\n",
      " [-0.87832939 -1.85081805  0.97239512  1.31591546 -1.52766628]\n",
      " [ 0.6848805   0.54830369 -0.24611787 -0.46543055 -0.45621223]]\n",
      "Las dimensiones de xcs:  (20, 5)\n",
      "xcs es la matriz normalizada, con media 0 y desviación 1, paso necesario para aplicar PCA\n"
     ]
    }
   ],
   "source": [
    "#preprocesamiento -->method_name = \"preprocess_2D()\" La variables weight de momento en estos ejemplos no la tendremos en cuenta\n",
    "nanM = np.isnan(x)\n",
    "anM = 1 - nanM\n",
    "\n",
    "average = np.nanmean(x,axis=0)# array of M elements\n",
    "average = average.reshape((1,average.shape[0]))# Matrix of 1xM elements\n",
    "scale = np.nanstd(x,axis=0,ddof=1)\n",
    "\n",
    "#TODO: to ask Pepe what is this :(\n",
    "ind = np.nonzero(scale == 0)# # of zeroes in scale\n",
    "dem = 2.0*np.sum(anM[:,ind],axis=0) - 1\n",
    "scale[ind] = np.sqrt(np.ones((1,np.array(ind).size)) / dem)\n",
    "\n",
    "scale = scale.reshape((1,scale.shape[0]))# Matrix of 1xM elements\n",
    "xcs = x - np.dot(np.ones((x.shape[0],1)),average)\n",
    "xcs = xcs / np.dot(np.ones((x.shape[0],1)),scale)\n",
    "\n",
    "print \"average: \", average\n",
    "print (\"Las dimensiones de average: \", average.shape, \" Se busca el valor medio de csda\")#112x1, es decir, una media por cada columna\n",
    "\n",
    "print \"scale: \", scale\n",
    "print \"Las dimensiones de scale son: \", scale.shape, \"Se busca la desviación de cada columna para centrarla en 1\"\n",
    "\n",
    "#xcs tiene las dimensiones de la matriz original 300x112\n",
    "print \"xcs: \",xcs\n",
    "print \"Las dimensiones de xcs: \", xcs.shape\n",
    "print \"xcs es la matriz normalizada, con media 0 y desviación 1, paso necesario para aplicar PCA\"\n"
   ]
  },
  {
   "cell_type": "markdown",
   "metadata": {},
   "source": [
    "### PCA"
   ]
  },
  {
   "cell_type": "code",
   "execution_count": 15,
   "metadata": {},
   "outputs": [
    {
     "name": "stdout",
     "output_type": "stream",
     "text": [
      "Las dimensiones de u: (20, 20)\n",
      "Las dimensiones de s: (20, 5)\n",
      "Las dimensiones de v: (5, 5)\n"
     ]
    }
   ],
   "source": [
    "#PCA; La llamada de la funcion def runPCA(self, method='svd', **kwargs):\n",
    "#El ejemplo lo describo con el método svd que es el usado por defecto\n",
    "# Run SVD from the data matrix\n",
    "data=xcs\n",
    "pcs=lv\n",
    "\n",
    "u, s, v = linalg.svd(data)\n",
    "\n",
    "# Transform S from array to matrix with the corresponding dimensions\n",
    "# in U and V\n",
    "#Este punto no he conseguido obtener una comprensión profunda mas alla de lo que menciona\n",
    "sdiag = np.diag(s)\n",
    "s = np.zeros((u.shape[1], v.shape[0]))\n",
    "s[:sdiag.shape[0], :sdiag.shape[1]] = sdiag\n",
    "\n",
    "print \"Las dimensiones de u: %s\" % str(u.shape)\n",
    "\n",
    "print \"Las dimensiones de s: %s\" % str(s.shape)\n",
    "\n",
    "print \"Las dimensiones de v: %s\" % str(v.shape)\n"
   ]
  },
  {
   "cell_type": "code",
   "execution_count": 16,
   "metadata": {},
   "outputs": [
    {
     "name": "stdout",
     "output_type": "stream",
     "text": [
      "La dimensiones de t son : (20, 5)\n",
      "Las dimensiones de p son: (5, 5)\n",
      "Las dimensiones de scoresMatrix son: (20, 2)\n",
      "Las dimensiones de loadingsMatrix son: (5, 2)\n",
      "Las dimensiones de model son: (20, 5)\n",
      "Las dimensiones de residualsMatrix son: (20, 5)\n",
      "Las dimensiones de eigengvaluesMatrix son: (20, 5)\n"
     ]
    }
   ],
   "source": [
    "t = np.dot(u, s)   #  ->u: Matriz de similaridad de fila-clase       \n",
    "p = v.T         # ->v: Matriz de similaridad de columna-clase\n",
    "\n",
    "scoresMatrix = t[:, :pcs]  # (Las dos pc's)\n",
    "loadingsMatrix = p[:, :pcs] #M\n",
    "model = np.dot(scoresMatrix, loadingsMatrix.T) #Matriz de 300x112\n",
    "residualsMatrix = data - model #\n",
    "eigengvaluesMatrix = s #¿Qué uso tiene?\n",
    "\n",
    "print \"La dimensiones de t son : %s\" % str(t.shape)\n",
    "print \"Las dimensiones de p son: %s\" % str(p.shape)\n",
    "print \"Las dimensiones de scoresMatrix son: %s\" % str(scoresMatrix.shape)\n",
    "print \"Las dimensiones de loadingsMatrix son: %s\" % str(loadingsMatrix.shape)\n",
    "print \"Las dimensiones de model son: %s\" % str(model.shape)\n",
    "print \"Las dimensiones de residualsMatrix son: %s\" % str(residualsMatrix.shape)\n",
    "print \"Las dimensiones de eigengvaluesMatrix son: %s\" % str(eigengvaluesMatrix.shape)\n"
   ]
  },
  {
   "cell_type": "markdown",
   "metadata": {},
   "source": [
    "## Calculamos los UCL's"
   ]
  },
  {
   "cell_type": "code",
   "execution_count": 17,
   "metadata": {},
   "outputs": [],
   "source": [
    "#definido en model.py\n",
    "alpha = 0.01\n",
    "\n",
    "\n",
    "####Para el calculo de UCLD\n",
    "phase=2\n",
    "mspc=lv\n",
    "npc=data.shape[0] #nº observaciones (300)"
   ]
  },
  {
   "cell_type": "markdown",
   "metadata": {},
   "source": [
    "### UCL-D"
   ]
  },
  {
   "cell_type": "code",
   "execution_count": 18,
   "metadata": {},
   "outputs": [
    {
     "name": "stdout",
     "output_type": "stream",
     "text": [
      "El valor de lim es: 7.550150150479281\n",
      "7.550150150479281\n"
     ]
    }
   ],
   "source": [
    "####Calculo de los UCL's\n",
    "#UCL-D\n",
    "#Definición\n",
    "#def computeUCLD(self,npc,nob,p_value,phase):\n",
    "#llamada\n",
    "#self._mspc.computeUCLD(self._lv, data.shape[0], self._alpha, self._phase)\n",
    "'''\n",
    "Parameters\n",
    "        ----------\n",
    "        npc: int \n",
    "            Number of PCs\n",
    "        nob: int \n",
    "            Number of observations\n",
    "        p_value: float \n",
    "            p-value of the test, in (0,1]\n",
    "        phase: int \n",
    "            SPC phase\n",
    "            1: Phase I\n",
    "            2: Phase II\n",
    "'''\n",
    "#method_name = \"computeUCLD()\"\n",
    "       \n",
    "#importar\n",
    "from scipy.stats import f as fisher\n",
    "\n",
    "####Para el calculo de UCLD\n",
    "phase=1\n",
    "npc=lv\n",
    "nob=data.shape[0]#nº observaciones (300)\n",
    "p_value=alpha #El p_value vale 0.01 muy significativo. A más pequeño más significativo. Basicamente busca le decimos a q que busque anomalías en el p-value dado\n",
    "\n",
    "        \n",
    "if phase == 2:\n",
    "   lim = (npc*(nob*nob-1.0)/(nob*(nob-npc)))*fisher.ppf(1-p_value,npc,nob-npc)\n",
    "else:\n",
    "   lim = (nob-1.0)**2/nob*beta.ppf(1-p_value,npc/2.0,(nob-npc-1)/2.0)\n",
    "         \n",
    "print \"El valor de lim es: %s\" %lim\n",
    "   \n",
    "# Check is the limit is and ndarray of [1x1] dimensions and get the float value\n",
    "if isinstance(lim, np.ndarray):\n",
    "   lim = lim[0,0]\n",
    "            \n",
    "# TODO: Sometimes after computations numpy takes UCLq as complex with 0j imaginary part\n",
    "if isinstance(lim, complex):\n",
    "   logging.warn(\"UCLd has a complex value of %s. Getting just the real part.\",lim)\n",
    "   lim = lim.real\n",
    "            \n",
    "UCLD=lim #Valor de ejemplo 9.416825881055232\n",
    "\n",
    "print UCLD\n"
   ]
  },
  {
   "cell_type": "markdown",
   "metadata": {},
   "source": [
    "### UCL-Q"
   ]
  },
  {
   "cell_type": "code",
   "execution_count": 19,
   "metadata": {},
   "outputs": [
    {
     "name": "stdout",
     "output_type": "stream",
     "text": [
      "7.469198476328422\n"
     ]
    }
   ],
   "source": [
    "#definido en model.py\n",
    "alpha = 0.01\n",
    "\n",
    "####Para el calculo de UCLQ\n",
    "res=residualsMatrix\n",
    "p_value=alpha #El p_value vale 0.01 muy significativo. A más pequeño más significativo. Basicamente busca le decimos a q que busque anomalías en el p-value dado\n",
    "# Rows of E matrix\n",
    "N = res.shape[0] #300 observaciones\n",
    "            \n",
    "# rank of E\n",
    "pcs_left = np.linalg.matrix_rank(res);#rango 110, este valor variará según la matriz utilizada\n",
    "    \n",
    "#\n",
    "lambda_eig = np.linalg.eigvals((1.0/(N-1))*np.dot(res.T,res)) #Array de 112 valores, \n",
    "# Get the DESC order according to the ABS value of eigenvalues\n",
    "lambda_eig = lambda_eig[np.abs(lambda_eig).argsort()[::-1]]        \n",
    "    \n",
    "theta1 = np.sum(lambda_eig[:pcs_left])\n",
    "theta2 = np.sum(lambda_eig[:pcs_left]**2)\n",
    "theta3 = np.sum(lambda_eig[:pcs_left]**3)\n",
    "    \n",
    "h0 = 1-((2*theta1*theta3)/(3*theta2**2))\n",
    "    \n",
    "z = norm.ppf(1-p_value)\n",
    "\n",
    "UCLq = theta1*((z*np.sqrt(2*theta2*(h0**2))/theta1) + 1 + (theta2*h0*(h0-1)/(theta1**2)))**(1/h0)\n",
    "#Comprobaciones para evitar errorewres\n",
    "# Check is the limit is and ndarray of [1x1] dimensions and get the float value\n",
    "if isinstance(UCLq, np.ndarray):\n",
    "   UCLq = UCLq[0,0]\n",
    "                \n",
    "# TODO: Sometimes after computations numpy takes UCLq as complex with 0j imaginary part\n",
    "if isinstance(UCLq, complex):\n",
    "    logging.warn(\"UCLq has a complex value of %s. Getting just the real part.\",UCLq)\n",
    "    UCLq = UCLq.real\n",
    "\n",
    "UCLQ=UCLq #valor de ejemplo 150.99231878043952\n",
    "\n",
    "print UCLQ"
   ]
  },
  {
   "cell_type": "markdown",
   "metadata": {},
   "source": [
    "## Cálculo de los estadísticos"
   ]
  },
  {
   "cell_type": "markdown",
   "metadata": {},
   "source": [
    "### Q-st"
   ]
  },
  {
   "cell_type": "code",
   "execution_count": 20,
   "metadata": {},
   "outputs": [
    {
     "name": "stdout",
     "output_type": "stream",
     "text": [
      "[[1.97094825]]\n"
     ]
    }
   ],
   "source": [
    "#Comenzamos con el cálculo de Q-st\n",
    "#Primero obtenemos un arry de 1x112\n",
    "test=np.random.random((1,5))\n",
    "#La preprocesamos, es una funcion distinta a la usada en la matriz de calibración\n",
    "#Es decir media 0 y desviación 1 respecto la calibración\n",
    "testMeanCenterting = test - np.dot(np.ones((test.shape[0],1)),average)\n",
    "testAutoScaled = testMeanCenterting / (np.dot(np.ones((test.shape[0],1)),scale))\n",
    "testcs = testAutoScaled\n",
    "#Ahora comenzamos el cálculo del estadístico, ¿Qué necesitamos?\n",
    "#self._mspc.computeQst(testcs, self._model.get_pca().getLoadings())\n",
    "#La observación preporcesada y la matriz Loading del PCA\n",
    "\n",
    "#def computeQst(self,testcs,P):\n",
    "P=loadingsMatrix\n",
    "#new scores from testcs and the loadings (Q) of the calibration model\n",
    "t = np.dot(testcs,P)\n",
    "# Model residuals from the observations in testcs\n",
    "e = testcs - np.dot(t,np.transpose(P))\n",
    "# Computes Q-statistics from the observations in testcs\n",
    "Qst = np.sum(np.power(e,2),axis=1).reshape(testcs.shape[0],1);\n",
    "#->Qst = 89.84502164\n",
    "\n",
    "print Qst"
   ]
  },
  {
   "cell_type": "markdown",
   "metadata": {},
   "source": [
    "### D-st"
   ]
  },
  {
   "cell_type": "code",
   "execution_count": 21,
   "metadata": {},
   "outputs": [
    {
     "name": "stdout",
     "output_type": "stream",
     "text": [
      "1.8553568654348247\n"
     ]
    }
   ],
   "source": [
    "#Partiendo de las ejecuciones anteriores cn ya test definido e incluso\n",
    "\"\"\"\n",
    "Parameters\n",
    "        ----------        \n",
    "        testcs: numpy.ndarray\n",
    "            [NxM] preprocessed billinear data set with the observations to be monitored.\n",
    "        P: numpy.ndarray \n",
    "            [MxA] Matrix to perform the projection from the original to the latent subspace. \n",
    "            For PCA (testcs = T*P'), this is the matrix of loadings\n",
    "        T: numpy.ndarray \n",
    "            [MxA] Matrix to perform the projection from the original to the latent subspace. \n",
    "            For PCA (testcs = T*P'), this is the matrix of scores\n",
    "\"\"\"\n",
    "testcs=testcs\n",
    "P=loadingsMatrix\n",
    "T=scoresMatrix\n",
    "#new scores from testcs and the loadings (R) of the calibration model\n",
    "t = np.dot(testcs,P)        \n",
    "            \n",
    "#inverse of the model calibration scores (T)\n",
    "#Note: inv() method just allows at least 2D arrays \n",
    "t_cov = np.cov(T,rowvar=False)\n",
    "\n",
    "try:\n",
    "\tinvCT = np.linalg.inv(t_cov)\n",
    "except LinAlgError:\n",
    "\tinvCT = 1 / t_cov\n",
    "\n",
    "#         if all(t_cov.shape):# True the shape tuple is empty\n",
    "#             # When T has only one variable -> cov(T) computes the variance\n",
    "#             invCT = 1 / t_cov\n",
    "#         else:    \n",
    "#             invCT = np.linalg.inv(t_cov)\n",
    "\n",
    "dotAux = np.dot(t,invCT)\n",
    "\n",
    "# Computes D-statistics from the observations in testcs\n",
    "Dst = np.sum(np.multiply(dotAux,t),axis=1).reshape(testcs.shape[0],1);\n",
    "            \n",
    "# Check is the statistic is and ndarray of [1x1] dimensions and get the float value\n",
    "if isinstance(Dst, np.ndarray):\n",
    "\tDst = Dst[0,0]\n",
    "            \n",
    "# TODO: Sometimes after computations numpy takes UCLq as complex with 0j imaginary part\n",
    "if isinstance(Dst, complex):\n",
    "\tlogging.warn(\"Dst has a complex value of %s. Getting just the real part.\",self._Dst)\n",
    "\tDst = Dst.real\n",
    "    \n",
    "print Dst"
   ]
  },
  {
   "cell_type": "markdown",
   "metadata": {},
   "source": [
    "En este punto tenemos calculado los UCL's correspondientes a una calibración y los estadísticos correspondientes a una observación. Para comprobar si tenermos una anomalía tan sólo debemos ver si ambos estadísticos se encuentran por debajo de sus UCL's respectivos."
   ]
  },
  {
   "cell_type": "markdown",
   "metadata": {},
   "source": [
    "## Diagnóstico"
   ]
  },
  {
   "cell_type": "markdown",
   "metadata": {},
   "source": [
    "El punto ahora es poder obtener el origen de dicha anomalía para ello se aplica el método oMEDA calculando un vector de diagnóstico de la siguiente manera:"
   ]
  },
  {
   "cell_type": "code",
   "execution_count": 14,
   "metadata": {},
   "outputs": [
    {
     "data": {
      "text/plain": [
       "array([[-0.31102915],\n",
       "       [ 0.76384637],\n",
       "       [ 0.81820243],\n",
       "       [ 0.31136717],\n",
       "       [-1.25496098]])"
      ]
     },
     "execution_count": 14,
     "metadata": {},
     "output_type": "execute_result"
    }
   ],
   "source": [
    "# Set up which observations are compared\n",
    "dummy = np.zeros((1,test.shape[0]))\n",
    "# We evaluate the observation 1\n",
    "dummy[0,0] = 1\n",
    "\n",
    "# Computes oMEDA\n",
    "#self._mspc.computeoMEDA(testcs, dummy, self._model.get_pca().getLoadings())\n",
    "if dummy.shape[0] == 1:\n",
    "  dummy = dummy.T\n",
    "                            \n",
    "# To normalice the dummy vector [-1, 1]\n",
    "if dummy[dummy > 0].size != 0:\n",
    "  dummy[dummy > 0] = dummy[dummy > 0] / np.max(dummy[dummy > 0])\n",
    "\n",
    "\n",
    "if dummy[dummy < 0].size != 0:\n",
    "  dummy[dummy < 0] = (dummy[dummy < 0] / np.min(dummy[dummy < 0]))*(-1)\n",
    "                  \n",
    "xA = np.dot(np.dot(testcs,P),P.T);   \n",
    "sumA = np.dot(xA.T,dummy);       \n",
    "sumTotal = np.dot(testcs.T,dummy);        \n",
    "            \n",
    "oMEDA = ((2*sumTotal - sumA)*np.abs(sumA)) / np.sqrt(np.dot(dummy.T,dummy))\n",
    "\n",
    "diagnosis_vec=oMEDA\n",
    "\n",
    "diagnosis_vec"
   ]
  },
  {
   "cell_type": "code",
   "execution_count": null,
   "metadata": {},
   "outputs": [],
   "source": []
  },
  {
   "cell_type": "code",
   "execution_count": null,
   "metadata": {},
   "outputs": [],
   "source": []
  },
  {
   "cell_type": "code",
   "execution_count": null,
   "metadata": {},
   "outputs": [],
   "source": []
  },
  {
   "cell_type": "code",
   "execution_count": null,
   "metadata": {},
   "outputs": [],
   "source": []
  },
  {
   "cell_type": "code",
   "execution_count": null,
   "metadata": {},
   "outputs": [],
   "source": []
  }
 ],
 "metadata": {
  "kernelspec": {
   "display_name": "py27",
   "language": "python",
   "name": "py27"
  },
  "language_info": {
   "codemirror_mode": {
    "name": "ipython",
    "version": 2
   },
   "file_extension": ".py",
   "mimetype": "text/x-python",
   "name": "python",
   "nbconvert_exporter": "python",
   "pygments_lexer": "ipython2",
   "version": "2.7.18"
  }
 },
 "nbformat": 4,
 "nbformat_minor": 2
}
