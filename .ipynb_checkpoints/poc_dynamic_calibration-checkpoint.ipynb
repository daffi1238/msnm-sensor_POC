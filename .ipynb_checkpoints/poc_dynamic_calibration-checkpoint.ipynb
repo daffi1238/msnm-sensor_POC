{
 "cells": [
  {
   "cell_type": "markdown",
   "metadata": {},
   "source": [
    "# Dynamic Calibration example"
   ]
  },
  {
   "cell_type": "markdown",
   "metadata": {},
   "source": [
    "## Import the relevant libraries"
   ]
  },
  {
   "cell_type": "code",
   "execution_count": 111,
   "metadata": {},
   "outputs": [],
   "source": [
    "import numpy as np\n",
    "from datetime import datetime\n",
    "import time\n",
    "from scipy.stats import norm\n",
    "import numpy.linalg as linalg\n",
    "#For plots\n",
    "import matplotlib.pyplot as plt\n",
    "\n",
    "#ucl\n",
    "from scipy.stats import f as fisher\n",
    "\n",
    "import time\n"
   ]
  },
  {
   "cell_type": "markdown",
   "metadata": {},
   "source": [
    "## Load the data"
   ]
  },
  {
   "cell_type": "code",
   "execution_count": 112,
   "metadata": {},
   "outputs": [
    {
     "name": "stdout",
     "output_type": "stream",
     "text": [
      "Las dimensiones de la matriz de calibración son:  (20, 5)\n"
     ]
    }
   ],
   "source": [
    "#Generación e matriz aleatoria arbitraria\n",
    "nobs=20\n",
    "nvar=5\n",
    "calibration_matrix=np.random.random((nobs,nvar)) #matriz de 300x112\n",
    "#comprobar\n",
    "print \"Las dimensiones de la matriz de calibración son: \", calibration_matrix.shape\n"
   ]
  },
  {
   "cell_type": "markdown",
   "metadata": {},
   "source": [
    "## Información adicional para el cálculo"
   ]
  },
  {
   "cell_type": "code",
   "execution_count": 113,
   "metadata": {},
   "outputs": [],
   "source": [
    "#Configuraciones\n",
    "tstsDateFormat='%Y%m%d%H%M'\n",
    "model_backup_path = \"data/calibration/\"\n",
    "datetime.strftime(datetime.now(),tstsDateFormat)\n",
    "\n",
    "#información del yaml de configuración principal\n",
    "prep=2\n",
    "lv=2\n",
    "phase=1\n",
    "x=calibration_matrix\n"
   ]
  },
  {
   "cell_type": "markdown",
   "metadata": {},
   "source": [
    "### Preprocesamiento de la matriz calibración"
   ]
  },
  {
   "cell_type": "code",
   "execution_count": 114,
   "metadata": {},
   "outputs": [
    {
     "name": "stdout",
     "output_type": "stream",
     "text": [
      "average:  [[0.48990804 0.51514215 0.47684278 0.46098995 0.48742132]]\n",
      "('Las dimensiones de average: ', (1, 5), ' Se busca el valor medio de csda')\n",
      "scale:  [[0.30992034 0.27356017 0.34783064 0.33881717 0.28794549]]\n",
      "Las dimensiones de scale son:  (1, 5) Se busca la desviación de cada columna para centrarla en 1\n",
      "xcs:  [[-1.30729389  0.67696642 -0.40732295 -1.24585539  1.01353108]\n",
      " [ 0.16144933 -0.78432955  0.60746849  1.3951692   0.73920237]\n",
      " [ 0.70975725 -0.91979828  1.02547056  0.67115661 -0.74263959]\n",
      " [ 1.36450373  0.66317608 -0.63583648  1.42435023 -1.53658957]\n",
      " [ 0.25325256 -0.7719576   1.50385922  0.29068886 -0.27711244]\n",
      " [-0.14927585 -0.92047614 -0.89400855 -0.16491906 -1.65757966]\n",
      " [ 1.3831433   0.08966252  1.28002326 -0.36023386 -0.49280715]\n",
      " [-0.98094155  0.53288253 -1.35074404 -1.2806131  -1.26892726]\n",
      " [ 0.13396249 -1.71365623 -0.89216691 -1.31638475  0.92893133]\n",
      " [ 1.38112592 -0.0109648  -0.16079165 -0.54068313  0.50709401]\n",
      " [-1.42523006  0.76029531 -0.62514637  0.38635346 -0.07220474]\n",
      " [ 0.58960509  0.69400327 -0.04087344 -0.93563198  0.75047986]\n",
      " [-0.12348576 -1.53796002  1.36863795  1.33591454  1.42993921]\n",
      " [-0.92556183  1.57391046 -0.99705954  1.26908879 -1.35878798]\n",
      " [-1.47566506  1.24060043  1.36787987  0.28292306  1.12606032]\n",
      " [-1.54484946 -1.25577844 -1.3429288   1.5789654  -0.16821631]\n",
      " [ 0.29178674  1.58438832 -0.57447568 -0.50091946  1.18677605]\n",
      " [ 1.40076164 -0.32248439 -0.05787541 -0.72308773 -1.00834247]\n",
      " [ 0.3715437  -0.14093627 -0.60066584 -0.53618337  0.19641193]\n",
      " [-0.10858829  0.56245637  1.42655632 -1.03009833  0.704781  ]]\n",
      "Las dimensiones de xcs:  (20, 5)\n",
      "xcs es la matriz normalizada, con media 0 y desviación 1, paso necesario para aplicar PCA\n"
     ]
    }
   ],
   "source": [
    "#preprocesamiento -->method_name = \"preprocess_2D()\" La variables weight de momento en estos ejemplos no la tendremos en cuenta\n",
    "def preproccess(x):\n",
    "    nanM = np.isnan(x)\n",
    "    anM = 1 - nanM\n",
    "\n",
    "    average = np.nanmean(x,axis=0)# array of M elements\n",
    "    average = average.reshape((1,average.shape[0]))# Matrix of 1xM elements\n",
    "    scale = np.nanstd(x,axis=0,ddof=1)\n",
    "\n",
    "    #TODO: to ask Pepe what is this :(\n",
    "    ind = np.nonzero(scale == 0)# # of zeroes in scale\n",
    "    dem = 2.0*np.sum(anM[:,ind],axis=0) - 1\n",
    "    scale[ind] = np.sqrt(np.ones((1,np.array(ind).size)) / dem)\n",
    "\n",
    "    scale = scale.reshape((1,scale.shape[0]))# Matrix of 1xM elements\n",
    "    xcs = x - np.dot(np.ones((x.shape[0],1)),average)\n",
    "    xcs = xcs / np.dot(np.ones((x.shape[0],1)),scale)\n",
    "\n",
    "    print \"average: \", average\n",
    "    print (\"Las dimensiones de average: \", average.shape, \" Se busca el valor medio de csda\")#112x1, es decir, una media por cada columna\n",
    "\n",
    "    print \"scale: \", scale\n",
    "    print \"Las dimensiones de scale son: \", scale.shape, \"Se busca la desviación de cada columna para centrarla en 1\"\n",
    "\n",
    "    #xcs tiene las dimensiones de la matriz original 300x112\n",
    "    print \"xcs: \",xcs\n",
    "    print \"Las dimensiones de xcs: \", xcs.shape\n",
    "    print \"xcs es la matriz normalizada, con media 0 y desviación 1, paso necesario para aplicar PCA\"\n",
    "    \n",
    "    return xcs,average,scale;\n",
    "    \n",
    "xcs,average,scale=preproccess(x)"
   ]
  },
  {
   "cell_type": "markdown",
   "metadata": {},
   "source": [
    "### PCA"
   ]
  },
  {
   "cell_type": "code",
   "execution_count": 119,
   "metadata": {},
   "outputs": [
    {
     "name": "stdout",
     "output_type": "stream",
     "text": [
      "Las dimensiones de u: (20, 20)\n",
      "Las dimensiones de s: (20, 5)\n",
      "Las dimensiones de v: (5, 5)\n",
      "La dimensiones de t son : (20, 5)\n",
      "Las dimensiones de p son: (5, 5)\n",
      "Las dimensiones de scoresMatrix son: (20, 2)\n",
      "Las dimensiones de loadingsMatrix son: (5, 2)\n",
      "Las dimensiones de model son: (20, 5)\n",
      "Las dimensiones de residualsMatrix son: (20, 5)\n",
      "Las dimensiones de eigengvaluesMatrix son: (20, 5)\n"
     ]
    }
   ],
   "source": [
    "#PCA; La llamada de la funcion def runPCA(self, method='svd', **kwargs):\n",
    "#El ejemplo lo describo con el método svd que es el usado por defecto\n",
    "# Run SVD from the data matrix\n",
    "data=xcs\n",
    "pcs=lv\n",
    "\n",
    "def pca(data, pcs,method='svd'):\n",
    "    if method == 'svd':\n",
    "        u, s, v = linalg.svd(data)\n",
    "\n",
    "        # Transform S from array to matrix with the corresponding dimensions\n",
    "        # in U and V\n",
    "        #Este punto no he conseguido obtener una comprensión profunda mas alla de lo que menciona\n",
    "        sdiag = np.diag(s)\n",
    "        s = np.zeros((u.shape[1], v.shape[0]))\n",
    "        s[:sdiag.shape[0], :sdiag.shape[1]] = sdiag\n",
    "\n",
    "        print \"Las dimensiones de u: %s\" % str(u.shape)\n",
    "\n",
    "        print \"Las dimensiones de s: %s\" % str(s.shape)\n",
    "\n",
    "        print \"Las dimensiones de v: %s\" % str(v.shape)\n",
    "\n",
    "        t = np.dot(u, s)   #  ->u: Matriz de similaridad de fila-clase       \n",
    "        p = v.T #            ->v: Matriz de similaridad de columna-clase\n",
    "\n",
    "    elif method == 'eig':\n",
    "        if 'xxcrossdata' not in kwargs:\n",
    "            # Computing cross-product\n",
    "            XX = np.dot(self._data.T,self._data)\n",
    "        else:\n",
    "            XX = kwargs['xxcrossdata']     \n",
    "    \n",
    "    \n",
    "    \n",
    "    \n",
    "    scoresMatrix = t[:, :pcs]  # (Las dos pc's)\n",
    "    loadingsMatrix = p[:, :pcs] #M\n",
    "    model = np.dot(scoresMatrix, loadingsMatrix.T) #Matriz de 300x112\n",
    "    residualsMatrix = data - model #\n",
    "    eigengvaluesMatrix = s #\n",
    "\n",
    "    print \"La dimensiones de t son : %s\" % str(t.shape)\n",
    "    print \"Las dimensiones de p son: %s\" % str(p.shape)\n",
    "    print \"Las dimensiones de scoresMatrix son: %s\" % str(scoresMatrix.shape)\n",
    "    print \"Las dimensiones de loadingsMatrix son: %s\" % str(loadingsMatrix.shape)\n",
    "    print \"Las dimensiones de model son: %s\" % str(model.shape)\n",
    "    print \"Las dimensiones de residualsMatrix son: %s\" % str(residualsMatrix.shape)\n",
    "    print \"Las dimensiones de eigengvaluesMatrix son: %s\" % str(eigengvaluesMatrix.shape)\n",
    "    \n",
    "    return scoresMatrix,loadingsMatrix,model,residualsMatrix,eigengvaluesMatrix\n",
    "\n",
    "scoresMatrix,loadingsMatrix,model,residualsMatrix,eigengvaluesMatrix=pca(data, pcs)"
   ]
  },
  {
   "cell_type": "code",
   "execution_count": 120,
   "metadata": {},
   "outputs": [
    {
     "data": {
      "text/plain": [
       "(5,)"
      ]
     },
     "execution_count": 120,
     "metadata": {},
     "output_type": "execute_result"
    }
   ],
   "source": [
    "u, s, v = linalg.svd(data)\n",
    "s.shape"
   ]
  },
  {
   "cell_type": "markdown",
   "metadata": {},
   "source": [
    "## Calculamos los UCL's"
   ]
  },
  {
   "cell_type": "code",
   "execution_count": 121,
   "metadata": {},
   "outputs": [],
   "source": [
    "#definido en model.py\n",
    "alpha = 0.01\n",
    "\n",
    "\n",
    "####Para el calculo de UCLD\n",
    "phase=2\n",
    "mspc=lv\n",
    "npc=data.shape[0] #nº observaciones (300)"
   ]
  },
  {
   "cell_type": "markdown",
   "metadata": {},
   "source": [
    "### UCL-D"
   ]
  },
  {
   "cell_type": "code",
   "execution_count": 122,
   "metadata": {},
   "outputs": [
    {
     "name": "stdout",
     "output_type": "stream",
     "text": [
      "El valor de lim es: 13.328605717141173\n",
      "13.328605717141173\n"
     ]
    }
   ],
   "source": [
    "####Para el calculo de UCLD\n",
    "phase=2\n",
    "npc=lv\n",
    "nob=data.shape[0]#nº observaciones (300)\n",
    "p_value=alpha #El p_value vale 0.01 muy significativo. A más pequeño más significativo. Basicamente busca le decimos a q que busque anomalías en el p-value dado\n",
    "\n",
    "def calcularUCLD(nobs,p_value,nob,npc):        \n",
    "    if phase == 2:\n",
    "       lim = (npc*(nob*nob-1.0)/(nob*(nob-npc)))*fisher.ppf(1-p_value,npc,nob-npc)\n",
    "    else:\n",
    "       lim = (nob-1.0)**2/nob*beta.ppf(1-p_value,npc/2.0,(nob-npc-1)/2.0)\n",
    "\n",
    "    print \"El valor de lim es: %s\" %lim\n",
    "\n",
    "    # Check is the limit is and ndarray of [1x1] dimensions and get the float value\n",
    "    if isinstance(lim, np.ndarray):\n",
    "       lim = lim[0,0]\n",
    "\n",
    "    # TODO: Sometimes after computations numpy takes UCLq as complex with 0j imaginary part\n",
    "    if isinstance(lim, complex):\n",
    "       logging.warn(\"UCLd has a complex value of %s. Getting just the real part.\",lim)\n",
    "       lim = lim.real\n",
    "\n",
    "    UCLD=lim #Valor de ejemplo 9.416825881055232\n",
    "\n",
    "    print UCLD\n",
    "\n",
    "calcularUCLD(nobs,p_value,nob,npc)   \n"
   ]
  },
  {
   "cell_type": "markdown",
   "metadata": {},
   "source": [
    "### UCL-Q"
   ]
  },
  {
   "cell_type": "code",
   "execution_count": 123,
   "metadata": {},
   "outputs": [
    {
     "name": "stdout",
     "output_type": "stream",
     "text": [
      "9.62764034786788\n"
     ]
    }
   ],
   "source": [
    "#definido en model.py\n",
    "#alpha = 0.01\n",
    "\n",
    "####Para el calculo de UCLQ\n",
    "res=residualsMatrix\n",
    "p_value=alpha #El p_value vale 0.01 muy significativo. A más pequeño más significativo. Basicamente busca le decimos a q que busque anomalías en el p-value dado\n",
    "# Rows of E matrix\n",
    "N = res.shape[0] #300 observaciones\n",
    "\n",
    "def calcularUCLQ(res,p_value,N):\n",
    "    # rank of E\n",
    "    pcs_left = np.linalg.matrix_rank(res);#rango 110, este valor variará según la matriz utilizada\n",
    "\n",
    "    #\n",
    "    lambda_eig = np.linalg.eigvals((1.0/(N-1))*np.dot(res.T,res)) #Array de 112 valores, \n",
    "    # Get the DESC order according to the ABS value of eigenvalues\n",
    "    lambda_eig = lambda_eig[np.abs(lambda_eig).argsort()[::-1]]        \n",
    "\n",
    "    theta1 = np.sum(lambda_eig[:pcs_left])\n",
    "    theta2 = np.sum(lambda_eig[:pcs_left]**2)\n",
    "    theta3 = np.sum(lambda_eig[:pcs_left]**3)\n",
    "\n",
    "    h0 = 1-((2*theta1*theta3)/(3*theta2**2))\n",
    "\n",
    "    z = norm.ppf(1-p_value)\n",
    "\n",
    "    UCLq = theta1*((z*np.sqrt(2*theta2*(h0**2))/theta1) + 1 + (theta2*h0*(h0-1)/(theta1**2)))**(1/h0)\n",
    "    #Comprobaciones para evitar errorewres\n",
    "    # Check is the limit is and ndarray of [1x1] dimensions and get the float value\n",
    "    if isinstance(UCLq, np.ndarray):\n",
    "       UCLq = UCLq[0,0]\n",
    "\n",
    "    # TODO: Sometimes after computations numpy takes UCLq as complex with 0j imaginary part\n",
    "    if isinstance(UCLq, complex):\n",
    "        logging.warn(\"UCLq has a complex value of %s. Getting just the real part.\",UCLq)\n",
    "        UCLq = UCLq.real\n",
    "\n",
    "    UCLQ=UCLq #valor de ejemplo 150.99231878043952\n",
    "\n",
    "    print UCLQ\n",
    "    \n",
    "calcularUCLQ(res,p_value,N)"
   ]
  },
  {
   "cell_type": "markdown",
   "metadata": {},
   "source": [
    "## Cálculo de los estadísticos"
   ]
  },
  {
   "cell_type": "markdown",
   "metadata": {},
   "source": [
    "### Q-st"
   ]
  },
  {
   "cell_type": "code",
   "execution_count": 124,
   "metadata": {},
   "outputs": [
    {
     "name": "stdout",
     "output_type": "stream",
     "text": [
      "[[1.99837243]]\n"
     ]
    }
   ],
   "source": [
    "#Comenzamos con el cálculo de Q-st\n",
    "#Primero obtenemos un arry de 1x112\n",
    "test=np.random.random((1,nvar))\n",
    "testMeanCenterting = test - np.dot(np.ones((test.shape[0],1)),average)\n",
    "testAutoScaled = testMeanCenterting / (np.dot(np.ones((test.shape[0],1)),scale))\n",
    "testcs = testAutoScaled\n",
    "\n",
    "def qst(test,loadingsMatrix):\n",
    "    #La preprocesamos, es una funcion distinta a la usada en la matriz de calibración\n",
    "    #Es decir media 0 y desviación 1 respecto la calibración\n",
    "\n",
    "    #Ahora comenzamos el cálculo del estadístico, ¿Qué necesitamos?\n",
    "    #self._mspc.computeQst(testcs, self._model.get_pca().getLoadings())\n",
    "    #La observación preporcesada y la matriz Loading del PCA\n",
    "\n",
    "    #def computeQst(self,testcs,P):\n",
    "    P=loadingsMatrix\n",
    "    #new scores from testcs and the loadings (Q) of the calibration model\n",
    "    t = np.dot(testcs,P)\n",
    "    # Model residuals from the observations in testcs\n",
    "    e = testcs - np.dot(t,np.transpose(P))\n",
    "    # Computes Q-statistics from the observations in testcs\n",
    "    Qst = np.sum(np.power(e,2),axis=1).reshape(testcs.shape[0],1);\n",
    "    #->Qst = 89.84502164\n",
    "\n",
    "    print Qst\n",
    "    \n",
    "qst(test,loadingsMatrix)"
   ]
  },
  {
   "cell_type": "markdown",
   "metadata": {},
   "source": [
    "### D-st"
   ]
  },
  {
   "cell_type": "code",
   "execution_count": 125,
   "metadata": {},
   "outputs": [
    {
     "name": "stdout",
     "output_type": "stream",
     "text": [
      "2.846614647475078\n"
     ]
    }
   ],
   "source": [
    "\n",
    "def dst(testcs,loadingsMatrix,scoresMatrix):\n",
    "    testcs=testcs\n",
    "    P=loadingsMatrix\n",
    "    T=scoresMatrix\n",
    "    #new scores from testcs and the loadings (R) of the calibration model\n",
    "    t = np.dot(testcs,P)        \n",
    "\n",
    "    #inverse of the model calibration scores (T)\n",
    "    #Note: inv() method just allows at least 2D arrays \n",
    "    t_cov = np.cov(T,rowvar=False)\n",
    "\n",
    "    try:\n",
    "        invCT = np.linalg.inv(t_cov)\n",
    "    except LinAlgError:\n",
    "        invCT = 1 / t_cov\n",
    "\n",
    "    #         if all(t_cov.shape):# True the shape tuple is empty\n",
    "    #             # When T has only one variable -> cov(T) computes the variance\n",
    "    #             invCT = 1 / t_cov\n",
    "    #         else:    \n",
    "    #             invCT = np.linalg.inv(t_cov)\n",
    "\n",
    "    dotAux = np.dot(t,invCT)\n",
    "\n",
    "    # Computes D-statistics from the observations in testcs\n",
    "    Dst = np.sum(np.multiply(dotAux,t),axis=1).reshape(testcs.shape[0],1);\n",
    "\n",
    "    # Check is the statistic is and ndarray of [1x1] dimensions and get the float value\n",
    "    if isinstance(Dst, np.ndarray):\n",
    "        Dst = Dst[0,0]\n",
    "\n",
    "    # TODO: Sometimes after computations numpy takes UCLq as complex with 0j imaginary part\n",
    "    if isinstance(Dst, complex):\n",
    "        logging.warn(\"Dst has a complex value of %s. Getting just the real part.\",self._Dst)\n",
    "        Dst = Dst.real\n",
    "\n",
    "    print Dst\n",
    "\n",
    "\n",
    "dst(testcs,loadingsMatrix,scoresMatrix)"
   ]
  },
  {
   "cell_type": "markdown",
   "metadata": {},
   "source": [
    "En este punto tenemos calculado los UCL's correspondientes a una calibración y los estadísticos correspondientes a una observación. Para comprobar si tenermos una anomalía tan sólo debemos ver si ambos estadísticos se encuentran por debajo de sus UCL's respectivos."
   ]
  },
  {
   "cell_type": "markdown",
   "metadata": {},
   "source": [
    "## Diagnóstico"
   ]
  },
  {
   "cell_type": "markdown",
   "metadata": {},
   "source": [
    "El punto ahora es poder obtener el origen de dicha anomalía para ello se aplica el método oMEDA calculando un vector de diagnóstico de la siguiente manera:"
   ]
  },
  {
   "cell_type": "code",
   "execution_count": 126,
   "metadata": {},
   "outputs": [
    {
     "data": {
      "text/plain": [
       "array([[-0.42166067],\n",
       "       [-1.04421854],\n",
       "       [-0.93903889],\n",
       "       [ 0.91355628],\n",
       "       [-1.25194665]])"
      ]
     },
     "execution_count": 126,
     "metadata": {},
     "output_type": "execute_result"
    }
   ],
   "source": [
    "def omeda(test,testcs,loadingsMatrix,scoresMatrix):\n",
    "    # Set up which observations are compared\n",
    "    dummy = np.zeros((1,test.shape[0]))\n",
    "    # We evaluate the observation 1\n",
    "    dummy[0,0] = 1\n",
    "    \n",
    "    P=loadingsMatrix\n",
    "    T=scoresMatrix\n",
    "\n",
    "    # Computes oMEDA\n",
    "    #self._mspc.computeoMEDA(testcs, dummy, self._model.get_pca().getLoadings())\n",
    "    if dummy.shape[0] == 1:\n",
    "      dummy = dummy.T\n",
    "\n",
    "    # To normalice the dummy vector [-1, 1]\n",
    "    if dummy[dummy > 0].size != 0:\n",
    "      dummy[dummy > 0] = dummy[dummy > 0] / np.max(dummy[dummy > 0])\n",
    "\n",
    "\n",
    "    if dummy[dummy < 0].size != 0:\n",
    "      dummy[dummy < 0] = (dummy[dummy < 0] / np.min(dummy[dummy < 0]))*(-1)\n",
    "\n",
    "    xA = np.dot(np.dot(testcs,P),P.T);   \n",
    "    sumA = np.dot(xA.T,dummy);       \n",
    "    sumTotal = np.dot(testcs.T,dummy);        \n",
    "\n",
    "    oMEDA = ((2*sumTotal - sumA)*np.abs(sumA)) / np.sqrt(np.dot(dummy.T,dummy))\n",
    "\n",
    "    diagnosis_vec=oMEDA\n",
    "\n",
    "    return diagnosis_vec\n",
    "    \n",
    "diagnosis_vec=omeda(test,testcs,loadingsMatrix,scoresMatrix)\n",
    "diagnosis_vec"
   ]
  },
  {
   "cell_type": "markdown",
   "metadata": {},
   "source": [
    "### Dynamic Calibration"
   ]
  },
  {
   "cell_type": "code",
   "execution_count": 127,
   "metadata": {},
   "outputs": [],
   "source": [
    "def preprocess2Di(x, prep, lamda, average, scale, N, weights):\n",
    "\n",
    "    method_name = \"preprocess_2D()\"\n",
    "\n",
    "    # EWMA mean update model\n",
    "    # M_t^x = lambda * M_(t-1)^x + X_t\n",
    "    # m_t^x = (1/N_t) * M_t^x\n",
    "    # N_t = lambda * N_(t-1) + B_t\n",
    "\n",
    "    # acc <=> M_t^x --> Current model accumulated\n",
    "    # average <=> m_t^x --> Current model mean\n",
    "    acc = average*N;\n",
    "\n",
    "    # acc2 <=> (sigma_t^x)^2 --> Current model variability accumulated\n",
    "    # scale <=> sigma_t^x --> Current model standard deviation\n",
    "    acc2 = (scale**2)*np.max([N-1,0]);\n",
    "\n",
    "    # Current number of real observations to compute the mean and standard\n",
    "    # deviation\n",
    "    N = lamda*N + x.shape[0];\n",
    "\n",
    "    try:\n",
    "\n",
    "        if prep == 1:# mean centering\n",
    "\n",
    "            logging.debug(\"EWMA mean centering\")\n",
    "\n",
    "            # Computes the current model mean\n",
    "            acc = lamda*acc + np.sum(x, axis=0)\n",
    "            average = acc/N\n",
    "            average = average.reshape(1,x.shape[1])\n",
    "            # array 1xM, being M the number of variables.\n",
    "            scale = np.ones((1,x.shape[1]))\n",
    "            # subtract the average to the data set x\n",
    "            xcs = x - np.dot(np.ones((x.shape[0],1)),average)\n",
    "\n",
    "            # TODO: do test with NaN in the data set\n",
    "\n",
    "        elif prep == 2: # auto-scaling\n",
    "            #EWMA auto-scaling\n",
    "\n",
    "            # Computes the current model mean\n",
    "            acc = lamda*acc + np.sum(x, axis=0)\n",
    "            average = acc/N;\n",
    "            average = average.reshape(1,x.shape[1])\n",
    "\n",
    "            # subtract the average to the data set x\n",
    "            xc = x - np.dot(np.ones((x.shape[0],1)),average)\n",
    "            # Computes the current model standard deviation\n",
    "            acc2 = lamda*acc2 + np.sum(xc**2,axis=0)\n",
    "            scale = np.sqrt(acc2/(N-1))\n",
    "\n",
    "            # scale is all of zeros?\n",
    "            if np.nonzero(scale)[0].shape[0] == 0:\n",
    "                mS = 2\n",
    "            else:\n",
    "                mS = np.min(scale[np.nonzero(scale)])\n",
    "\n",
    "            scale[np.nonzero(scale == 0)] = mS/2# use 1 by default may reduce detection of anomalous events\n",
    "            # apply the scale\n",
    "            scale = scale.reshape(1,x.shape[1])\n",
    "            xcs = xc / np.dot(np.ones((x.shape[0],1)),scale)\n",
    "\n",
    "            # TODO: do test with NaN in the data set\n",
    "\n",
    "        elif prep == 3:\n",
    "            #EWMA scaling\n",
    "\n",
    "            # Computes the current model mean\n",
    "            average = np.zeros((1,x.shape[1]))\n",
    "\n",
    "            # Computes the current model standard deviation\n",
    "            acc2 = lamda*acc2 + np.sum(x**2,axis=0)\n",
    "            scale = np.sqrt(acc2/(N-1))\n",
    "\n",
    "            # scale is all of zeros?\n",
    "            if np.nonzero(scale)[0].shape[0] == 0:\n",
    "                mS = 2\n",
    "            else:\n",
    "                mS = np.min(scale[np.nonzero(scale)])\n",
    "\n",
    "            scale[np.nonzero(scale == 0)] = mS/2# use 1 by default may reduce detection of anomalous events\n",
    "            # apply the scale\n",
    "            scale = scale.reshape(1,x.shape[1])\n",
    "            xcs = x / np.dot(np.ones((x.shape[0],1)),scale)\n",
    "\n",
    "            # TODO: do test with NaN in the data set\n",
    "\n",
    "        else:\n",
    "            #logging.warn(\"The selected preprocessing method is not valid\")\n",
    "            average = np.zeros((1,x.shape[1]))\n",
    "            scale = np.ones((1,x.shape[1]))\n",
    "            xcs = x\n",
    "\n",
    "    except Exception:\n",
    "        #logging.error(\"Error preprocessing the data: %s\",sys.exc_info()[1])\n",
    "        raise MSNMError(None,sys.exc_info()[1],method_name)\n",
    "\n",
    "    return xcs, average, scale, N"
   ]
  },
  {
   "cell_type": "code",
   "execution_count": 128,
   "metadata": {},
   "outputs": [
    {
     "name": "stdout",
     "output_type": "stream",
     "text": [
      "OOOOOOOOOOOOOOOOOOH\n",
      "[[19.         -3.39589175  4.80900284 -2.33811243 -3.10931092]\n",
      " [-3.39589175 19.         -2.32842543 -3.24482053 -0.49713787]\n",
      " [ 4.80900284 -2.32842543 19.          2.06072029  6.84627699]\n",
      " [-2.33811243 -3.24482053  2.06072029 19.         -3.60803498]\n",
      " [-3.10931092 -0.49713787  6.84627699 -3.60803498 19.        ]]\n"
     ]
    }
   ],
   "source": [
    "#self._sensor.do_dynamic_calibration(phase=2,lv=3,lamda=lambda_param)\n",
    "#self._model.calibrate_dynamically(self._data, **kwargs)\n",
    "\n",
    "\n",
    "\n",
    "\n",
    "def calibrate_dynamically(data,N,prep,av,sd,dataXX,**kwargs):\n",
    "    \n",
    "    method_name = \"calibrate()\"\n",
    "    \n",
    "    # Check the data type as ndarray\n",
    "    if not isinstance(data, np.ndarray):\n",
    "        raise ModelError(self,\"Data is not an ndarray\", method_name)\n",
    "    # Data must be a [NxM] ndarray\n",
    "    if (data.shape[0] < 1) or (data.shape[1] < 1):\n",
    "        raise ModelError(self,\"Data does not has [NxM] dimensions\", method_name)\n",
    "                \n",
    "    # TODO: currently weights is not implemented in prepprocess2D        \n",
    "    weights = np.ones((data.shape[0],1))\n",
    "        \n",
    "    # Check optional parameters\n",
    "    if 'prep' in kwargs:\n",
    "        prep = kwargs['prep']            \n",
    "    if 'lv' in kwargs:\n",
    "        lv = kwargs['lv']\n",
    "    if 'phase' in kwargs:\n",
    "        phase = kwargs['phase']\n",
    "    if 'lamda' in kwargs:\n",
    "        lamda = kwargs['lamda']\n",
    "          \n",
    "\n",
    "        \n",
    "    # Removing NaN if they exist\n",
    "    # TODO test this method\n",
    "    #data = tools.averagedMissingData(data, self._av)\n",
    "        \n",
    "    # Data preprocessing\n",
    "    dataxcs, av, sd, N = preprocess2Di(data, prep, lamda, av, sd, N, weights)\n",
    "        \n",
    "    # EWMA cross-product\n",
    "    dataXX = lamda * dataXX + np.dot(dataxcs.T, dataxcs)\n",
    "    print dataXX\n",
    "         \n",
    "    # Compute PCA\n",
    "    #pca.setData(dataxcs)\n",
    "    #pca.setPCs(lv)\n",
    "    #pca.runPCA(method='eig', xxcrossdata=self._dataXX)\n",
    "                 \n",
    "    # Compute UCLs\n",
    "    #self._mspc.computeUCLQ(self._pca.getResidual(), self._alpha)\n",
    "    #logging.debug(\"UCLq obtained: %s\",self._mspc.getUCLQ())            \n",
    "    #self._mspc.computeUCLD(self._lv, data.shape[0], self._alpha, self._phase)\n",
    "    #logging.debug(\"UCLd obtained: %s\",self._mspc.getUCLD())\n",
    "        \n",
    "    \n",
    "N=0\n",
    "av=average \n",
    "sd=scale\n",
    "weights = np.ones((data.shape[0],1))\n",
    "lambda_param= 0.1\n",
    "dataXX = np.zeros([])\n",
    "\n",
    "print \"OOOOOOOOOOOOOOOOOOH\"\n",
    "\n",
    "#time.sleep(2.4)\n",
    "\n",
    "calibrate_dynamically(data,N,prep,av,sd,dataXX,phase=2,lv=3,lamda=lambda_param)"
   ]
  },
  {
   "cell_type": "code",
   "execution_count": null,
   "metadata": {},
   "outputs": [],
   "source": []
  },
  {
   "cell_type": "code",
   "execution_count": null,
   "metadata": {},
   "outputs": [],
   "source": []
  },
  {
   "cell_type": "code",
   "execution_count": null,
   "metadata": {},
   "outputs": [],
   "source": []
  }
 ],
 "metadata": {
  "kernelspec": {
   "display_name": "py27",
   "language": "python",
   "name": "py27"
  },
  "language_info": {
   "codemirror_mode": {
    "name": "ipython",
    "version": 2
   },
   "file_extension": ".py",
   "mimetype": "text/x-python",
   "name": "python",
   "nbconvert_exporter": "python",
   "pygments_lexer": "ipython2",
   "version": "2.7.18"
  }
 },
 "nbformat": 4,
 "nbformat_minor": 2
}
