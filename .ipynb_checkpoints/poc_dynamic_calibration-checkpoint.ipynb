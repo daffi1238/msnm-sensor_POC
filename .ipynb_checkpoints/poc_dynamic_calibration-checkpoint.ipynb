{
 "cells": [
  {
   "cell_type": "markdown",
   "metadata": {},
   "source": [
    "# Dynamic Calibration example"
   ]
  },
  {
   "cell_type": "markdown",
   "metadata": {},
   "source": [
    "## Import the relevant libraries"
   ]
  },
  {
   "cell_type": "code",
   "execution_count": 99,
   "metadata": {},
   "outputs": [],
   "source": [
    "import numpy as np\n",
    "from datetime import datetime\n",
    "import time\n",
    "from scipy.stats import norm\n",
    "import numpy.linalg as linalg\n",
    "#For plots\n",
    "import matplotlib.pyplot as plt\n",
    "\n",
    "#ucl\n",
    "from scipy.stats import f as fisher\n",
    "\n",
    "import time\n"
   ]
  },
  {
   "cell_type": "markdown",
   "metadata": {},
   "source": [
    "## Load the data"
   ]
  },
  {
   "cell_type": "code",
   "execution_count": 100,
   "metadata": {},
   "outputs": [
    {
     "name": "stdout",
     "output_type": "stream",
     "text": [
      "Las dimensiones de la matriz de calibración son:  (20, 5)\n"
     ]
    }
   ],
   "source": [
    "#Generación e matriz aleatoria arbitraria\n",
    "nobs=20\n",
    "nvar=5\n",
    "calibration_matrix=np.random.random((nobs,nvar)) #matriz de 300x112\n",
    "#comprobar\n",
    "print \"Las dimensiones de la matriz de calibración son: \", calibration_matrix.shape\n"
   ]
  },
  {
   "cell_type": "markdown",
   "metadata": {},
   "source": [
    "## Información adicional para el cálculo"
   ]
  },
  {
   "cell_type": "code",
   "execution_count": 101,
   "metadata": {},
   "outputs": [],
   "source": [
    "#Configuraciones\n",
    "tstsDateFormat='%Y%m%d%H%M'\n",
    "model_backup_path = \"data/calibration/\"\n",
    "datetime.strftime(datetime.now(),tstsDateFormat)\n",
    "\n",
    "#información del yaml de configuración principal\n",
    "prep=2\n",
    "lv=2\n",
    "phase=1\n",
    "x=calibration_matrix\n"
   ]
  },
  {
   "cell_type": "markdown",
   "metadata": {},
   "source": [
    "### Preprocesamiento de la matriz calibración"
   ]
  },
  {
   "cell_type": "code",
   "execution_count": 102,
   "metadata": {},
   "outputs": [
    {
     "name": "stdout",
     "output_type": "stream",
     "text": [
      "average:  [[0.3745726  0.3736417  0.53211979 0.56334738 0.4686648 ]]\n",
      "('Las dimensiones de average: ', (1, 5), ' Se busca el valor medio de csda')\n",
      "scale:  [[0.26569626 0.23370455 0.31392771 0.28552773 0.28424967]]\n",
      "Las dimensiones de scale son:  (1, 5) Se busca la desviación de cada columna para centrarla en 1\n",
      "xcs:  [[ 0.29605051  0.7292286   1.1001337  -1.62541357 -0.61442843]\n",
      " [-0.50789454  0.98976162 -1.66444602  0.4325772   1.48957181]\n",
      " [-1.08028714  0.16589983  0.31779003  1.15850872  0.01625614]\n",
      " [ 1.39234827  1.46660719 -1.63893955 -1.03271572 -0.82548946]\n",
      " [-0.53829687 -1.48945807 -0.75876507  1.51157554 -0.71879471]\n",
      " [-1.07407312 -1.00829078  1.22541383 -0.25862488  0.75396329]\n",
      " [-0.49466068 -0.72053404  1.2476477  -1.26374314  0.66185565]\n",
      " [ 0.62830225 -0.44918896 -1.15291239  0.65111697  0.14641696]\n",
      " [ 0.99698119 -0.11829163 -0.85290014  1.44925619  1.7521695 ]\n",
      " [ 0.28374741  1.67004243  1.12536519 -1.90623288  0.90913883]\n",
      " [-1.35136095 -0.11963839 -1.27632858  0.32205458 -0.88807252]\n",
      " [-1.00057424 -0.99158485  0.99169853 -0.33291019 -1.5762262 ]\n",
      " [ 1.74678999  0.62616009 -0.0848641   0.40789876  0.66322217]\n",
      " [ 1.32437912  0.05879394  0.09198217  0.65924082 -1.02006815]\n",
      " [ 1.12857231 -0.28084079  0.78194373 -0.14164771  0.51117659]\n",
      " [-0.14540417  0.26435519  0.2804275  -0.09646308 -1.59358376]\n",
      " [ 1.04333841 -0.3891282   0.97788358  0.59585706  0.94300085]\n",
      " [-1.04024315 -1.30785285  0.50679747  0.63658375 -1.23381775]\n",
      " [-0.82596262  1.99125146 -0.57626385  0.24401209  0.55707801]\n",
      " [-0.78175199 -1.08729179 -0.64166374 -1.4109305   0.06663118]]\n",
      "Las dimensiones de xcs:  (20, 5)\n",
      "xcs es la matriz normalizada, con media 0 y desviación 1, paso necesario para aplicar PCA\n"
     ]
    }
   ],
   "source": [
    "#preprocesamiento -->method_name = \"preprocess_2D()\" La variables weight de momento en estos ejemplos no la tendremos en cuenta\n",
    "def preproccess(x):\n",
    "    nanM = np.isnan(x)\n",
    "    anM = 1 - nanM\n",
    "\n",
    "    average = np.nanmean(x,axis=0)# array of M elements\n",
    "    average = average.reshape((1,average.shape[0]))# Matrix of 1xM elements\n",
    "    scale = np.nanstd(x,axis=0,ddof=1)\n",
    "\n",
    "    #TODO: to ask Pepe what is this :(\n",
    "    ind = np.nonzero(scale == 0)# # of zeroes in scale\n",
    "    dem = 2.0*np.sum(anM[:,ind],axis=0) - 1\n",
    "    scale[ind] = np.sqrt(np.ones((1,np.array(ind).size)) / dem)\n",
    "\n",
    "    scale = scale.reshape((1,scale.shape[0]))# Matrix of 1xM elements\n",
    "    xcs = x - np.dot(np.ones((x.shape[0],1)),average)\n",
    "    xcs = xcs / np.dot(np.ones((x.shape[0],1)),scale)\n",
    "\n",
    "    print \"average: \", average\n",
    "    print (\"Las dimensiones de average: \", average.shape, \" Se busca el valor medio de csda\")#112x1, es decir, una media por cada columna\n",
    "\n",
    "    print \"scale: \", scale\n",
    "    print \"Las dimensiones de scale son: \", scale.shape, \"Se busca la desviación de cada columna para centrarla en 1\"\n",
    "\n",
    "    #xcs tiene las dimensiones de la matriz original 300x112\n",
    "    print \"xcs: \",xcs\n",
    "    print \"Las dimensiones de xcs: \", xcs.shape\n",
    "    print \"xcs es la matriz normalizada, con media 0 y desviación 1, paso necesario para aplicar PCA\"\n",
    "    \n",
    "    return xcs,average,scale;\n",
    "    \n",
    "xcs,average,scale=preproccess(x)"
   ]
  },
  {
   "cell_type": "markdown",
   "metadata": {},
   "source": [
    "### PCA"
   ]
  },
  {
   "cell_type": "code",
   "execution_count": 103,
   "metadata": {},
   "outputs": [
    {
     "name": "stdout",
     "output_type": "stream",
     "text": [
      "Las dimensiones de u: (20, 20)\n",
      "Las dimensiones de s: (20, 5)\n",
      "Las dimensiones de v: (5, 5)\n",
      "La dimensiones de t son : (20, 5)\n",
      "Las dimensiones de p son: (5, 5)\n",
      "Las dimensiones de scoresMatrix son: (20, 2)\n",
      "Las dimensiones de loadingsMatrix son: (5, 2)\n",
      "Las dimensiones de model son: (20, 5)\n",
      "Las dimensiones de residualsMatrix son: (20, 5)\n",
      "Las dimensiones de eigengvaluesMatrix son: (20, 5)\n"
     ]
    }
   ],
   "source": [
    "#PCA; La llamada de la funcion def runPCA(self, method='svd', **kwargs):\n",
    "#El ejemplo lo describo con el método svd que es el usado por defecto\n",
    "# Run SVD from the data matrix\n",
    "data=xcs\n",
    "pcs=lv\n",
    "\n",
    "def pca(data, pcs,method='svd', **kwargs):\n",
    "    if method == 'svd':\n",
    "        u, s, v = linalg.svd(data)\n",
    "\n",
    "        # Transform S from array to matrix with the corresponding dimensions\n",
    "        # in U and V\n",
    "        #Este punto no he conseguido obtener una comprensión profunda mas alla de lo que menciona\n",
    "        sdiag = np.diag(s)\n",
    "        s = np.zeros((u.shape[1], v.shape[0]))\n",
    "        s[:sdiag.shape[0], :sdiag.shape[1]] = sdiag\n",
    "\n",
    "        print \"Las dimensiones de u: %s\" % str(u.shape)\n",
    "\n",
    "        print \"Las dimensiones de s: %s\" % str(s.shape)\n",
    "\n",
    "        print \"Las dimensiones de v: %s\" % str(v.shape)\n",
    "\n",
    "        t = np.dot(u, s)   #  ->u: Matriz de similaridad de fila-clase       \n",
    "        p = v.T #            ->v: Matriz de similaridad de columna-clase\n",
    "\n",
    "    elif method == 'eig':\n",
    "        if 'xxcrossdata' not in kwargs:\n",
    "            # Computing cross-product\n",
    "            XX = np.dot(data.T,data)\n",
    "        else:\n",
    "            XX = kwargs['xxcrossdata']     \n",
    "            \n",
    "        s,p = linalg.eig(XX)\n",
    "    \n",
    "        # Sort the eigenvectors their corresponding eigenvalue\n",
    "        ind = np.argsort(s)[::-1]# get the indexes in descending order\n",
    "        p = p[:,ind]# get the complete P matrix\n",
    "        # get the complete score matrix\n",
    "        t = np.dot(data, p)\n",
    "    \n",
    "    \n",
    "    scoresMatrix = t[:, :pcs]  # (Las dos pc's)\n",
    "    loadingsMatrix = p[:, :pcs] #M\n",
    "    model = np.dot(scoresMatrix, loadingsMatrix.T) #Matriz de 300x112\n",
    "    residualsMatrix = data - model #\n",
    "    eigengvaluesMatrix = s #\n",
    "\n",
    "    print \"La dimensiones de t son : %s\" % str(t.shape)\n",
    "    print \"Las dimensiones de p son: %s\" % str(p.shape)\n",
    "    print \"Las dimensiones de scoresMatrix son: %s\" % str(scoresMatrix.shape)\n",
    "    print \"Las dimensiones de loadingsMatrix son: %s\" % str(loadingsMatrix.shape)\n",
    "    print \"Las dimensiones de model son: %s\" % str(model.shape)\n",
    "    print \"Las dimensiones de residualsMatrix son: %s\" % str(residualsMatrix.shape)\n",
    "    print \"Las dimensiones de eigengvaluesMatrix son: %s\" % str(eigengvaluesMatrix.shape)\n",
    "    \n",
    "    return scoresMatrix,loadingsMatrix,model,residualsMatrix,eigengvaluesMatrix\n",
    "\n",
    "scoresMatrix,loadingsMatrix,model,residualsMatrix,eigengvaluesMatrix=pca(data, pcs)\n",
    "#scoresMatrix,loadingsMatrix,model,residualsMatrix,eigengvaluesMatrix=pca(data, pcs,method=\"eig\")\n",
    "\n",
    "#type(data)#numpy.ndarray\n",
    "#data.shape#20, 5"
   ]
  },
  {
   "cell_type": "code",
   "execution_count": 104,
   "metadata": {},
   "outputs": [
    {
     "data": {
      "text/plain": [
       "(5,)"
      ]
     },
     "execution_count": 104,
     "metadata": {},
     "output_type": "execute_result"
    }
   ],
   "source": [
    "u, s, v = linalg.svd(data)\n",
    "s.shape"
   ]
  },
  {
   "cell_type": "markdown",
   "metadata": {},
   "source": [
    "## Calculamos los UCL's"
   ]
  },
  {
   "cell_type": "code",
   "execution_count": 105,
   "metadata": {},
   "outputs": [],
   "source": [
    "#definido en model.py\n",
    "alpha = 0.01\n",
    "\n",
    "\n",
    "####Para el calculo de UCLD\n",
    "phase=2\n",
    "mspc=lv\n",
    "npc=data.shape[0] #nº observaciones (300)"
   ]
  },
  {
   "cell_type": "markdown",
   "metadata": {},
   "source": [
    "### UCL-D"
   ]
  },
  {
   "cell_type": "code",
   "execution_count": 106,
   "metadata": {},
   "outputs": [
    {
     "name": "stdout",
     "output_type": "stream",
     "text": [
      "El valor de UCLD:  13.328605717141173\n"
     ]
    }
   ],
   "source": [
    "####Para el calculo de UCLD\n",
    "phase=2\n",
    "npc=lv\n",
    "nob=data.shape[0]#nº observaciones (300)\n",
    "p_value=alpha #El p_value vale 0.01 muy significativo. A más pequeño más significativo. Basicamente busca le decimos a q que busque anomalías en el p-value dado\n",
    "\n",
    "def calcularUCLD(nobs,p_value,nob,npc):        \n",
    "    if phase == 2:\n",
    "       lim = (npc*(nob*nob-1.0)/(nob*(nob-npc)))*fisher.ppf(1-p_value,npc,nob-npc)\n",
    "    else:\n",
    "       lim = (nob-1.0)**2/nob*beta.ppf(1-p_value,npc/2.0,(nob-npc-1)/2.0)\n",
    "\n",
    "\n",
    "    # Check is the limit is and ndarray of [1x1] dimensions and get the float value\n",
    "    if isinstance(lim, np.ndarray):\n",
    "       lim = lim[0,0]\n",
    "\n",
    "    # TODO: Sometimes after computations numpy takes UCLq as complex with 0j imaginary part\n",
    "    if isinstance(lim, complex):\n",
    "       logging.warn(\"UCLd has a complex value of %s. Getting just the real part.\",lim)\n",
    "       lim = lim.real\n",
    "\n",
    "    UCLD=lim #Valor de ejemplo 9.416825881055232\n",
    "\n",
    "    print \"El valor de UCLD: \",  UCLD\n",
    "    return UCLD\n",
    "\n",
    "UCLD=calcularUCLD(nobs,p_value,nob,npc)   \n"
   ]
  },
  {
   "cell_type": "markdown",
   "metadata": {},
   "source": [
    "### UCL-Q"
   ]
  },
  {
   "cell_type": "code",
   "execution_count": 107,
   "metadata": {},
   "outputs": [
    {
     "name": "stdout",
     "output_type": "stream",
     "text": [
      "El valor de UCLQ:  8.322917112102253\n"
     ]
    }
   ],
   "source": [
    "#definido en model.py\n",
    "#alpha = 0.01\n",
    "\n",
    "####Para el calculo de UCLQ\n",
    "res=residualsMatrix\n",
    "p_value=alpha #El p_value vale 0.01 muy significativo. A más pequeño más significativo. Basicamente busca le decimos a q que busque anomalías en el p-value dado\n",
    "# Rows of E matrix\n",
    "N = res.shape[0] #300 observaciones\n",
    "\n",
    "def calcularUCLQ(res,p_value,N):\n",
    "    # rank of E\n",
    "    pcs_left = np.linalg.matrix_rank(res);#rango 110, este valor variará según la matriz utilizada\n",
    "\n",
    "    #\n",
    "    lambda_eig = np.linalg.eigvals((1.0/(N-1))*np.dot(res.T,res)) #Array de 112 valores, \n",
    "    # Get the DESC order according to the ABS value of eigenvalues\n",
    "    lambda_eig = lambda_eig[np.abs(lambda_eig).argsort()[::-1]]        \n",
    "\n",
    "    theta1 = np.sum(lambda_eig[:pcs_left])\n",
    "    theta2 = np.sum(lambda_eig[:pcs_left]**2)\n",
    "    theta3 = np.sum(lambda_eig[:pcs_left]**3)\n",
    "\n",
    "    h0 = 1-((2*theta1*theta3)/(3*theta2**2))\n",
    "\n",
    "    z = norm.ppf(1-p_value)\n",
    "\n",
    "    UCLq = theta1*((z*np.sqrt(2*theta2*(h0**2))/theta1) + 1 + (theta2*h0*(h0-1)/(theta1**2)))**(1/h0)\n",
    "    #Comprobaciones para evitar errorewres\n",
    "    # Check is the limit is and ndarray of [1x1] dimensions and get the float value\n",
    "    if isinstance(UCLq, np.ndarray):\n",
    "       UCLq = UCLq[0,0]\n",
    "\n",
    "    # TODO: Sometimes after computations numpy takes UCLq as complex with 0j imaginary part\n",
    "    if isinstance(UCLq, complex):\n",
    "        #logging.warn(\"UCLq has a complex value of %s. Getting just the real part.\",UCLq)\n",
    "        UCLq = UCLq.real\n",
    "\n",
    "    UCLQ=UCLq #valor de ejemplo 150.99231878043952\n",
    "\n",
    "    print \"El valor de UCLQ: \", UCLQ\n",
    "    return UCLQ\n",
    "    \n",
    "UCLQ=calcularUCLQ(res,p_value,N)"
   ]
  },
  {
   "cell_type": "markdown",
   "metadata": {},
   "source": [
    "## Cálculo de los estadísticos"
   ]
  },
  {
   "cell_type": "markdown",
   "metadata": {},
   "source": [
    "### Q-st"
   ]
  },
  {
   "cell_type": "code",
   "execution_count": 108,
   "metadata": {},
   "outputs": [
    {
     "name": "stdout",
     "output_type": "stream",
     "text": [
      "[[3.59375639]]\n"
     ]
    }
   ],
   "source": [
    "#Comenzamos con el cálculo de Q-st\n",
    "#Primero obtenemos un arry de 1x112\n",
    "test=np.random.random((1,nvar))\n",
    "testMeanCenterting = test - np.dot(np.ones((test.shape[0],1)),average)\n",
    "testAutoScaled = testMeanCenterting / (np.dot(np.ones((test.shape[0],1)),scale))\n",
    "testcs = testAutoScaled\n",
    "\n",
    "def qst(test,loadingsMatrix):\n",
    "    #La preprocesamos, es una funcion distinta a la usada en la matriz de calibración\n",
    "    #Es decir media 0 y desviación 1 respecto la calibración\n",
    "\n",
    "    #Ahora comenzamos el cálculo del estadístico, ¿Qué necesitamos?\n",
    "    #self._mspc.computeQst(testcs, self._model.get_pca().getLoadings())\n",
    "    #La observación preporcesada y la matriz Loading del PCA\n",
    "\n",
    "    #def computeQst(self,testcs,P):\n",
    "    P=loadingsMatrix\n",
    "    #new scores from testcs and the loadings (Q) of the calibration model\n",
    "    t = np.dot(testcs,P)\n",
    "    # Model residuals from the observations in testcs\n",
    "    e = testcs - np.dot(t,np.transpose(P))\n",
    "    # Computes Q-statistics from the observations in testcs\n",
    "    Qst = np.sum(np.power(e,2),axis=1).reshape(testcs.shape[0],1);\n",
    "    #->Qst = 89.84502164\n",
    "\n",
    "    print Qst\n",
    "    \n",
    "qst(test,loadingsMatrix)"
   ]
  },
  {
   "cell_type": "markdown",
   "metadata": {},
   "source": [
    "### D-st"
   ]
  },
  {
   "cell_type": "code",
   "execution_count": 109,
   "metadata": {},
   "outputs": [
    {
     "name": "stdout",
     "output_type": "stream",
     "text": [
      "0.9404680918845983\n"
     ]
    }
   ],
   "source": [
    "\n",
    "def dst(testcs,loadingsMatrix,scoresMatrix):\n",
    "    testcs=testcs\n",
    "    P=loadingsMatrix\n",
    "    T=scoresMatrix\n",
    "    #new scores from testcs and the loadings (R) of the calibration model\n",
    "    t = np.dot(testcs,P)        \n",
    "\n",
    "    #inverse of the model calibration scores (T)\n",
    "    #Note: inv() method just allows at least 2D arrays \n",
    "    t_cov = np.cov(T,rowvar=False)\n",
    "\n",
    "    try:\n",
    "        invCT = np.linalg.inv(t_cov)\n",
    "    except LinAlgError:\n",
    "        invCT = 1 / t_cov\n",
    "\n",
    "    #         if all(t_cov.shape):# True the shape tuple is empty\n",
    "    #             # When T has only one variable -> cov(T) computes the variance\n",
    "    #             invCT = 1 / t_cov\n",
    "    #         else:    \n",
    "    #             invCT = np.linalg.inv(t_cov)\n",
    "\n",
    "    dotAux = np.dot(t,invCT)\n",
    "\n",
    "    # Computes D-statistics from the observations in testcs\n",
    "    Dst = np.sum(np.multiply(dotAux,t),axis=1).reshape(testcs.shape[0],1);\n",
    "\n",
    "    # Check is the statistic is and ndarray of [1x1] dimensions and get the float value\n",
    "    if isinstance(Dst, np.ndarray):\n",
    "        Dst = Dst[0,0]\n",
    "\n",
    "    # TODO: Sometimes after computations numpy takes UCLq as complex with 0j imaginary part\n",
    "    if isinstance(Dst, complex):\n",
    "        logging.warn(\"Dst has a complex value of %s. Getting just the real part.\",self._Dst)\n",
    "        Dst = Dst.real\n",
    "\n",
    "    print Dst\n",
    "\n",
    "\n",
    "dst(testcs,loadingsMatrix,scoresMatrix)"
   ]
  },
  {
   "cell_type": "markdown",
   "metadata": {},
   "source": [
    "En este punto tenemos calculado los UCL's correspondientes a una calibración y los estadísticos correspondientes a una observación. Para comprobar si tenermos una anomalía tan sólo debemos ver si ambos estadísticos se encuentran por debajo de sus UCL's respectivos."
   ]
  },
  {
   "cell_type": "markdown",
   "metadata": {},
   "source": [
    "## Diagnóstico"
   ]
  },
  {
   "cell_type": "markdown",
   "metadata": {},
   "source": [
    "El punto ahora es poder obtener el origen de dicha anomalía para ello se aplica el método oMEDA calculando un vector de diagnóstico de la siguiente manera:"
   ]
  },
  {
   "cell_type": "code",
   "execution_count": 110,
   "metadata": {},
   "outputs": [
    {
     "data": {
      "text/plain": [
       "array([[ 1.21729594],\n",
       "       [ 0.4723187 ],\n",
       "       [-0.58688935],\n",
       "       [-0.33878461],\n",
       "       [-1.11723731]])"
      ]
     },
     "execution_count": 110,
     "metadata": {},
     "output_type": "execute_result"
    }
   ],
   "source": [
    "def omeda(test,testcs,loadingsMatrix,scoresMatrix):\n",
    "    # Set up which observations are compared\n",
    "    dummy = np.zeros((1,test.shape[0]))\n",
    "    # We evaluate the observation 1\n",
    "    dummy[0,0] = 1\n",
    "    \n",
    "    P=loadingsMatrix\n",
    "    T=scoresMatrix\n",
    "\n",
    "    # Computes oMEDA\n",
    "    #self._mspc.computeoMEDA(testcs, dummy, self._model.get_pca().getLoadings())\n",
    "    if dummy.shape[0] == 1:\n",
    "      dummy = dummy.T\n",
    "\n",
    "    # To normalice the dummy vector [-1, 1]\n",
    "    if dummy[dummy > 0].size != 0:\n",
    "      dummy[dummy > 0] = dummy[dummy > 0] / np.max(dummy[dummy > 0])\n",
    "\n",
    "\n",
    "    if dummy[dummy < 0].size != 0:\n",
    "      dummy[dummy < 0] = (dummy[dummy < 0] / np.min(dummy[dummy < 0]))*(-1)\n",
    "\n",
    "    xA = np.dot(np.dot(testcs,P),P.T);   \n",
    "    sumA = np.dot(xA.T,dummy);       \n",
    "    sumTotal = np.dot(testcs.T,dummy);        \n",
    "\n",
    "    oMEDA = ((2*sumTotal - sumA)*np.abs(sumA)) / np.sqrt(np.dot(dummy.T,dummy))\n",
    "\n",
    "    diagnosis_vec=oMEDA\n",
    "\n",
    "    return diagnosis_vec\n",
    "    \n",
    "diagnosis_vec=omeda(test,testcs,loadingsMatrix,scoresMatrix)\n",
    "diagnosis_vec"
   ]
  },
  {
   "cell_type": "markdown",
   "metadata": {},
   "source": [
    "### Dynamic Calibration"
   ]
  },
  {
   "cell_type": "code",
   "execution_count": 111,
   "metadata": {},
   "outputs": [],
   "source": [
    "#Función de preprocesado dinámico, tiene algunas diferencisa al respecto del preprocesado\n",
    "#inicial\n",
    "def preprocess2Di(x, prep, lamda, average, scale, N, weights):\n",
    "\n",
    "    method_name = \"preprocess_2D()\"\n",
    "\n",
    "    # EWMA mean update model\n",
    "    # M_t^x = lambda * M_(t-1)^x + X_t\n",
    "    # m_t^x = (1/N_t) * M_t^x\n",
    "    # N_t = lambda * N_(t-1) + B_t\n",
    "\n",
    "    # acc <=> M_t^x --> Current model accumulated\n",
    "    # average <=> m_t^x --> Current model mean\n",
    "    acc = average*N;\n",
    "\n",
    "    # acc2 <=> (sigma_t^x)^2 --> Current model variability accumulated\n",
    "    # scale <=> sigma_t^x --> Current model standard deviation\n",
    "    acc2 = (scale**2)*np.max([N-1,0]);\n",
    "\n",
    "    # Current number of real observations to compute the mean and standard\n",
    "    # deviation\n",
    "    N = lamda*N + x.shape[0];\n",
    "\n",
    "    try:\n",
    "\n",
    "        if prep == 1:# mean centering\n",
    "\n",
    "            #logging.debug(\"EWMA mean centering\")\n",
    "\n",
    "            # Computes the current model mean\n",
    "            acc = lamda*acc + np.sum(x, axis=0)\n",
    "            average = acc/N\n",
    "            average = average.reshape(1,x.shape[1])\n",
    "            # array 1xM, being M the number of variables.\n",
    "            scale = np.ones((1,x.shape[1]))\n",
    "            # subtract the average to the data set x\n",
    "            xcs = x - np.dot(np.ones((x.shape[0],1)),average)\n",
    "\n",
    "            # TODO: do test with NaN in the data set\n",
    "\n",
    "        elif prep == 2: # auto-scaling\n",
    "            #EWMA auto-scaling\n",
    "            \n",
    "\n",
    "            # Computes the current model mean\n",
    "            acc = lamda*acc + np.sum(x, axis=0)\n",
    "            average = acc/N;\n",
    "            average = average.reshape(1,x.shape[1])\n",
    "\n",
    "            # subtract the average to the data set x\n",
    "            xc = x - np.dot(np.ones((x.shape[0],1)),average)\n",
    "            # Computes the current model standard deviation\n",
    "            acc2 = lamda*acc2 + np.sum(xc**2,axis=0)\n",
    "            scale = np.sqrt(acc2/(N-1))\n",
    "\n",
    "            # scale is all of zeros?\n",
    "            if np.nonzero(scale)[0].shape[0] == 0:\n",
    "                mS = 2\n",
    "            else:\n",
    "                mS = np.min(scale[np.nonzero(scale)])\n",
    "\n",
    "            scale[np.nonzero(scale == 0)] = mS/2# use 1 by default may reduce detection of anomalous events\n",
    "            # apply the scale\n",
    "            scale = scale.reshape(1,x.shape[1])\n",
    "            xcs = xc / np.dot(np.ones((x.shape[0],1)),scale)\n",
    "            \n",
    "            \n",
    "\n",
    "            # TODO: do test with NaN in the data set\n",
    "\n",
    "        elif prep == 3:\n",
    "            #EWMA scaling\n",
    "\n",
    "            # Computes the current model mean\n",
    "            average = np.zeros((1,x.shape[1]))\n",
    "\n",
    "            # Computes the current model standard deviation\n",
    "            acc2 = lamda*acc2 + np.sum(x**2,axis=0)\n",
    "            scale = np.sqrt(acc2/(N-1))\n",
    "\n",
    "            # scale is all of zeros?\n",
    "            if np.nonzero(scale)[0].shape[0] == 0:\n",
    "                mS = 2\n",
    "            else:\n",
    "                mS = np.min(scale[np.nonzero(scale)])\n",
    "\n",
    "            scale[np.nonzero(scale == 0)] = mS/2# use 1 by default may reduce detection of anomalous events\n",
    "            # apply the scale\n",
    "            scale = scale.reshape(1,x.shape[1])\n",
    "            xcs = x / np.dot(np.ones((x.shape[0],1)),scale)\n",
    "\n",
    "            # TODO: do test with NaN in the data set\n",
    "\n",
    "        else:\n",
    "            #logging.warn(\"The selected preprocessing method is not valid\")\n",
    "            average = np.zeros((1,x.shape[1]))\n",
    "            scale = np.ones((1,x.shape[1]))\n",
    "            xcs = x\n",
    "\n",
    "    except Exception:\n",
    "        #logging.error(\"Error preprocessing the data: %s\",sys.exc_info()[1])\n",
    "        #raise MSNMError(None,sys.exc_info()[1],method_name)\n",
    "        print \"Salta la excepcion\"\n",
    "    \n",
    "    #print \"El valor de xcs es: \", xcs\n",
    "\n",
    "    return xcs, average, scale, N"
   ]
  },
  {
   "cell_type": "code",
   "execution_count": 113,
   "metadata": {},
   "outputs": [
    {
     "name": "stdout",
     "output_type": "stream",
     "text": [
      "[[19.          6.02074315 -1.21604777  0.21057593  4.38971086]\n",
      " [ 6.02074315 19.         -4.21934252 -5.25144247  4.64029207]\n",
      " [-1.21604777 -4.21934252 19.         -6.80292924 -0.83609774]\n",
      " [ 0.21057593 -5.25144247 -6.80292924 19.          1.03460206]\n",
      " [ 4.38971086  4.64029207 -0.83609774  1.03460206 19.        ]]\n",
      "La dimensiones de t son : (20, 5)\n",
      "Las dimensiones de p son: (5, 5)\n",
      "Las dimensiones de scoresMatrix son: (20, 2)\n",
      "Las dimensiones de loadingsMatrix son: (5, 2)\n",
      "Las dimensiones de model son: (20, 5)\n",
      "Las dimensiones de residualsMatrix son: (20, 5)\n",
      "Las dimensiones de eigengvaluesMatrix son: (5,)\n",
      "El valor de UCLQ:  8.322917112102253\n",
      "El valor de UCLD:  13.328605717141173\n"
     ]
    }
   ],
   "source": [
    "#self._sensor.do_dynamic_calibration(phase=2,lv=3,lamda=lambda_param)\n",
    "#self._model.calibrate_dynamically(self._data, **kwargs)\n",
    "\n",
    "\n",
    "\n",
    "\n",
    "\n",
    "def calibrate_dynamically(data,prep,**kwargs):\n",
    "    \n",
    "    method_name = \"calibrate()\"\n",
    "    \n",
    "    #Globales\n",
    "    global N\n",
    "    global av\n",
    "    global sd\n",
    "    global weights\n",
    "    global dataXX\n",
    "    \n",
    "    global scoresMatrix\n",
    "    global loadingsMatrix\n",
    "    global model\n",
    "    global residualsMatrix\n",
    "    global eigengvaluesMatrix\n",
    "    \n",
    "    # Check the data type as ndarray\n",
    "    if not isinstance(data, np.ndarray):\n",
    "        raise ModelError(self,\"Data is not an ndarray\", method_name)\n",
    "    # Data must be a [NxM] ndarray\n",
    "    if (data.shape[0] < 1) or (data.shape[1] < 1):\n",
    "        raise ModelError(self,\"Data does not has [NxM] dimensions\", method_name)\n",
    "                \n",
    "    # TODO: currently weights is not implemented in prepprocess2D        \n",
    "    weights = np.ones((data.shape[0],1))\n",
    "        \n",
    "    # Check optional parameters\n",
    "    if 'prep' in kwargs:\n",
    "        prep = kwargs['prep']            \n",
    "    if 'lv' in kwargs:\n",
    "        lv = kwargs['lv']\n",
    "    if 'phase' in kwargs:\n",
    "        phase = kwargs['phase']\n",
    "    if 'lamda' in kwargs:\n",
    "        lamda = kwargs['lamda']\n",
    "          \n",
    "\n",
    "        \n",
    "    # Removing NaN if they exist\n",
    "    # TODO test this method\n",
    "    #data = tools.averagedMissingData(data, self._av)\n",
    "        \n",
    "    # Data preprocessing\n",
    "    dataxcs, av, sd, N = preprocess2Di(data, prep, lamda, av, sd, N, weights)\n",
    "        \n",
    "    # EWMA cross-product\n",
    "    dataXX = lamda * dataXX + np.dot(dataxcs.T, dataxcs)\n",
    "    print dataXX\n",
    "         \n",
    "    # Compute PCA\n",
    "    #pca.setData(dataxcs)\n",
    "    #pca.setPCs(lv)\n",
    "    #pca.runPCA(method='eig', xxcrossdata=self._dataXX)\n",
    "    scoresMatrix,loadingsMatrix,model,residualsMatrix,eigengvaluesMatrix=pca(dataxcs, pcs,method=\"eig\",xxcrossdata=dataXX)\n",
    "             \n",
    "    # Compute UCLs\n",
    "    #self._mspc.computeUCLQ(self._pca.getResidual(), self._alpha)\n",
    "    nUCLQ=calcularUCLQ(res,p_value,N)\n",
    "    #self._mspc.computeUCLD(self._lv, data.shape[0], self._alpha, self._phase)\n",
    "    UCLD=calcularUCLD(nobs,p_value,nob,npc)   \n",
    "\n",
    "    \n",
    "\n",
    "\n",
    "    \n",
    "N=0\n",
    "av=average \n",
    "sd=scale\n",
    "weights = np.ones((data.shape[0],1))\n",
    "lambda_param= 0.1\n",
    "dataXX = np.zeros([])\n",
    "\n",
    "\n",
    "\n",
    "calibrate_dynamically(data,prep,phase=2,lv=3,lamda=lambda_param)"
   ]
  },
  {
   "cell_type": "markdown",
   "metadata": {},
   "source": [
    "## Comenzando con la calibración dinámica"
   ]
  },
  {
   "cell_type": "markdown",
   "metadata": {},
   "source": [
    "Generamos las condiciones para ver los efectos de la calibración dinámica"
   ]
  },
  {
   "cell_type": "code",
   "execution_count": 114,
   "metadata": {},
   "outputs": [
    {
     "name": "stdout",
     "output_type": "stream",
     "text": [
      "[[20.99090909  6.65162485 -1.34347095  0.23264106  4.84968535]\n",
      " [ 6.65162485 20.99090909 -4.66146501 -5.80171324  5.12652363]\n",
      " [-1.34347095 -4.66146501 20.99090909 -7.51577206 -0.92370799]\n",
      " [ 0.23264106 -5.80171324 -7.51577206 20.99090909  1.14301251]\n",
      " [ 4.84968535  5.12652363 -0.92370799  1.14301251 20.99090909]]\n",
      "La dimensiones de t son : (20, 5)\n",
      "Las dimensiones de p son: (5, 5)\n",
      "Las dimensiones de scoresMatrix son: (20, 2)\n",
      "Las dimensiones de loadingsMatrix son: (5, 2)\n",
      "Las dimensiones de model son: (20, 5)\n",
      "Las dimensiones de residualsMatrix son: (20, 5)\n",
      "Las dimensiones de eigengvaluesMatrix son: (5,)\n",
      "El valor de UCLQ:  7.530258339521089\n",
      "El valor de UCLD:  13.328605717141173\n"
     ]
    },
    {
     "data": {
      "text/plain": [
       "(21, 5)"
      ]
     },
     "execution_count": 114,
     "metadata": {},
     "output_type": "execute_result"
    }
   ],
   "source": [
    "#Dynamic Calibration\n",
    "\n",
    "#Definimos el número observaciones que necesitamos almacenar para lanzar la calibración \n",
    "#dinámica\n",
    "batch=15\n",
    "\n",
    "\n",
    "data_calibration = []\n",
    "data_calibration = np.array(data_calibration)\n",
    "\n",
    "\n",
    "for i in range(batch):\n",
    "    test=np.random.random((1,nvar))\n",
    "    \n",
    "    \n",
    "    test = test.reshape((1,test.size))\n",
    "\n",
    "    testMeanCenterting = test - np.dot(np.ones((test.shape[0],1)),average)\n",
    "    testAutoScaled = testMeanCenterting / (np.dot(np.ones((test.shape[0],1)),scale))\n",
    "    testcs = testAutoScaled\n",
    "    test = test.reshape((1,test.size))    \n",
    "\n",
    "    data_calibration=np.concatenate((calibration_matrix,test))\n",
    "\n",
    "#Ya tenemos en data_calibration batch observaciones, ahora llamamos a la calibracion \n",
    "#dinamica\n",
    "\n",
    "\n",
    "#data=np.array(data_calibration)\n",
    "#data.shape\n",
    "\n",
    "\n",
    "calibrate_dynamically(data,prep,phase=2,lv=3,lamda=lambda_param)\n",
    "    \n",
    "data_calibration.shape\n"
   ]
  },
  {
   "cell_type": "markdown",
   "metadata": {},
   "source": [
    "POR AQUI, necesito concatenar bien las observaciones para que tenga 2 dimensiones \n",
    "y el shape correcto"
   ]
  },
  {
   "cell_type": "code",
   "execution_count": 115,
   "metadata": {},
   "outputs": [
    {
     "data": {
      "text/plain": [
       "(16, 5)"
      ]
     },
     "execution_count": 115,
     "metadata": {},
     "output_type": "execute_result"
    }
   ],
   "source": [
    "c_batch=0\n",
    "\n",
    "calibration_matrix=np.random.random((batch,nvar)) #matriz de 300x112\n",
    "test=np.random.random((1,nvar))\n",
    "\n",
    "calibration_matrix=np.concatenate((calibration_matrix,test))\n",
    "\n",
    "calibration_matrix.shape\n"
   ]
  },
  {
   "cell_type": "code",
   "execution_count": 116,
   "metadata": {},
   "outputs": [],
   "source": [
    "data_calibration = []\n",
    "data_calibration = np.array(data_calibration)\n",
    "data_calibration\n",
    "test=np.random.random((1,nvar))\n"
   ]
  },
  {
   "cell_type": "code",
   "execution_count": null,
   "metadata": {},
   "outputs": [],
   "source": []
  },
  {
   "cell_type": "code",
   "execution_count": null,
   "metadata": {},
   "outputs": [],
   "source": []
  }
 ],
 "metadata": {
  "kernelspec": {
   "display_name": "py27",
   "language": "python",
   "name": "py27"
  },
  "language_info": {
   "codemirror_mode": {
    "name": "ipython",
    "version": 2
   },
   "file_extension": ".py",
   "mimetype": "text/x-python",
   "name": "python",
   "nbconvert_exporter": "python",
   "pygments_lexer": "ipython2",
   "version": "2.7.18"
  }
 },
 "nbformat": 4,
 "nbformat_minor": 2
}
