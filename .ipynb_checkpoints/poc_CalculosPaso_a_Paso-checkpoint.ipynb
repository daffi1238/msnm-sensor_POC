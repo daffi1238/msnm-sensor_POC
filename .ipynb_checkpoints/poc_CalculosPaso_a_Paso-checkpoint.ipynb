{
 "cells": [
  {
   "cell_type": "markdown",
   "metadata": {},
   "source": [
    "# Multiple linear regression"
   ]
  },
  {
   "cell_type": "markdown",
   "metadata": {},
   "source": [
    "## Import the relevant libraries"
   ]
  },
  {
   "cell_type": "code",
   "execution_count": 2,
   "metadata": {},
   "outputs": [],
   "source": [
    "import numpy as np\n",
    "from datetime import datetime\n",
    "import time\n",
    "from scipy.stats import norm\n",
    "import numpy.linalg as linalg\n",
    "\n",
    "import matplotlib.pyplot as plt\n",
    "%matplotlib inline\n",
    "\n",
    "from matplotlib import pyplot\n",
    "from mpl_toolkits.mplot3d import Axes3D"
   ]
  },
  {
   "cell_type": "markdown",
   "metadata": {},
   "source": [
    "## Load the data"
   ]
  },
  {
   "cell_type": "code",
   "execution_count": 4,
   "metadata": {},
   "outputs": [
    {
     "name": "stdout",
     "output_type": "stream",
     "text": [
      "La matriz generada es: \n",
      "[[4 7 0]\n",
      " [3 1 0]\n",
      " [1 3 3]\n",
      " [5 4 6]\n",
      " [2 8 0]\n",
      " [6 4 5]]\n"
     ]
    }
   ],
   "source": [
    "#Generación e matriz aleatoria arbitraria\n",
    "nobs=6\n",
    "nvar=3\n",
    "lv=2\n",
    "np.random.seed(1)\n",
    "calibration_matrix=np.random.random((nobs,nvar)) #matriz de 300x112\n",
    "\n",
    "#comprobar\n",
    "\n",
    "calibration_matrix=(calibration_matrix*10).astype(int)\n",
    "print \"La matriz generada es: \\n\", calibration_matrix\n"
   ]
  },
  {
   "cell_type": "markdown",
   "metadata": {},
   "source": [
    "### Precalibración - Cálculo de la media y la desviación típica"
   ]
  },
  {
   "cell_type": "code",
   "execution_count": 3,
   "metadata": {},
   "outputs": [],
   "source": [
    "x=calibration_matrix\n",
    "average = np.nanmean(calibration_matrix,axis=0)# array of M elements\n",
    "average = average.reshape((1,average.shape[0]))# Matrix of 1xM elements\n",
    "scale = np.nanstd(calibration_matrix,axis=0,ddof=1)\n",
    "\n",
    "nanM = np.isnan(x)\n",
    "anM = 1 - nanM\n",
    "\n",
    "#TODO: to ask Pepe what is this :(\n",
    "ind = np.nonzero(scale == 0)# # of zeroes in scale\n",
    "dem = 2.0*np.sum(anM[:,ind],axis=0) - 1\n",
    "scale[ind] = np.sqrt(np.ones((1,np.array(ind).size)) / dem)\n",
    "\n",
    "scale = scale.reshape((1,scale.shape[0]))# Matrix of 1xM elements\n"
   ]
  },
  {
   "cell_type": "code",
   "execution_count": 4,
   "metadata": {},
   "outputs": [
    {
     "data": {
      "text/plain": [
       "array([[3.5       , 4.5       , 2.33333333]])"
      ]
     },
     "execution_count": 4,
     "metadata": {},
     "output_type": "execute_result"
    }
   ],
   "source": [
    "average"
   ]
  },
  {
   "cell_type": "code",
   "execution_count": 5,
   "metadata": {},
   "outputs": [
    {
     "data": {
      "text/plain": [
       "array([[1.87082869, 2.58843582, 2.7325202 ]])"
      ]
     },
     "execution_count": 5,
     "metadata": {},
     "output_type": "execute_result"
    }
   ],
   "source": [
    "scale"
   ]
  },
  {
   "cell_type": "markdown",
   "metadata": {},
   "source": [
    "### Aplicamos el preprocesamiento a la matriz"
   ]
  },
  {
   "cell_type": "code",
   "execution_count": 6,
   "metadata": {},
   "outputs": [
    {
     "data": {
      "text/plain": [
       "array([[ 0.26726124,  0.96583426, -0.85391256],\n",
       "       [-0.26726124, -1.35216797, -0.85391256],\n",
       "       [-1.33630621, -0.57950056,  0.24397502],\n",
       "       [ 0.80178373, -0.19316685,  1.3418626 ],\n",
       "       [-0.80178373,  1.35216797, -0.85391256],\n",
       "       [ 1.33630621, -0.19316685,  0.97590007]])"
      ]
     },
     "execution_count": 6,
     "metadata": {},
     "output_type": "execute_result"
    }
   ],
   "source": [
    "xcs = x - np.dot(np.ones((calibration_matrix.shape[0],1)),average)\n",
    "xcs = xcs / np.dot(np.ones((calibration_matrix.shape[0],1)),scale)\n",
    "xcs"
   ]
  },
  {
   "cell_type": "markdown",
   "metadata": {},
   "source": [
    "## Calculamos el modelos PCA - Método utilizado en el proyecto"
   ]
  },
  {
   "cell_type": "code",
   "execution_count": 7,
   "metadata": {},
   "outputs": [],
   "source": [
    "data=xcs\n",
    "pcs=lv\n",
    "\n",
    "u, s, v = linalg.svd(data)\n"
   ]
  },
  {
   "cell_type": "code",
   "execution_count": 8,
   "metadata": {},
   "outputs": [
    {
     "data": {
      "text/plain": [
       "array([[ 0.77640767, -0.03856796, -0.52515563,  0.30303634, -0.13247381,\n",
       "        -0.10263955],\n",
       "       [-0.01683758,  0.91251069,  0.1265559 ,  0.35828049, -0.11844606,\n",
       "         0.09289758],\n",
       "       [ 0.60100378,  0.12087037,  0.57441432, -0.52989997, -0.07228521,\n",
       "         0.0906304 ],\n",
       "       [ 0.14509847, -0.3228674 ,  0.58623863,  0.69561176,  0.21703276,\n",
       "        -0.00695768],\n",
       "       [ 0.1137301 ,  0.20105621, -0.13184307, -0.11689609,  0.95025789,\n",
       "        -0.11226979],\n",
       "       [ 0.04140021, -0.08099476, -0.13109171,  0.03833628,  0.1144674 ,\n",
       "         0.97977976]])"
      ]
     },
     "execution_count": 8,
     "metadata": {},
     "output_type": "execute_result"
    }
   ],
   "source": [
    "u\n",
    "np.dot(u,u)\n"
   ]
  },
  {
   "cell_type": "code",
   "execution_count": 9,
   "metadata": {},
   "outputs": [
    {
     "data": {
      "text/plain": [
       "array([[2.85043395, 0.        , 0.        ],\n",
       "       [0.        , 2.21717312, 0.        ],\n",
       "       [0.        , 0.        , 1.39970342],\n",
       "       [0.        , 0.        , 0.        ],\n",
       "       [0.        , 0.        , 0.        ],\n",
       "       [0.        , 0.        , 0.        ]])"
      ]
     },
     "execution_count": 9,
     "metadata": {},
     "output_type": "execute_result"
    }
   ],
   "source": [
    "# Transform S from array to matrix with the corresponding dimensions\n",
    "# in U and V\n",
    "sdiag = np.diag(s)\n",
    "s = np.zeros((u.shape[1], v.shape[0]))\n",
    "s[:sdiag.shape[0], :sdiag.shape[1]] = sdiag\n",
    "s"
   ]
  },
  {
   "cell_type": "code",
   "execution_count": 10,
   "metadata": {},
   "outputs": [
    {
     "data": {
      "text/plain": [
       "array([[-0.62650679,  0.33836904, -0.70213648],\n",
       "       [ 0.45817699,  0.88864866,  0.0194267 ],\n",
       "       [-0.63052604,  0.30953182,  0.71177733]])"
      ]
     },
     "execution_count": 10,
     "metadata": {},
     "output_type": "execute_result"
    }
   ],
   "source": [
    "v"
   ]
  },
  {
   "cell_type": "code",
   "execution_count": 11,
   "metadata": {},
   "outputs": [
    {
     "data": {
      "text/plain": [
       "array([[ 0.75893059,  0.96415157, -0.47735434],\n",
       "       [ 0.30947237, -1.34064392, -0.85781944],\n",
       "       [ 0.46981611, -1.12249752,  0.83685789],\n",
       "       [-1.50985531,  0.22176936,  0.38977057],\n",
       "       [ 1.55941788,  0.81765469,  0.31628892],\n",
       "       [-1.58778164,  0.45956582, -0.2077436 ]])"
      ]
     },
     "execution_count": 11,
     "metadata": {},
     "output_type": "execute_result"
    }
   ],
   "source": [
    "t = np.dot(u, s)  #  ->u: Matriz de similaridad de fila-clase     \n",
    "t"
   ]
  },
  {
   "cell_type": "code",
   "execution_count": 12,
   "metadata": {},
   "outputs": [
    {
     "data": {
      "text/plain": [
       "array([[-0.62650679,  0.45817699, -0.63052604],\n",
       "       [ 0.33836904,  0.88864866,  0.30953182],\n",
       "       [-0.70213648,  0.0194267 ,  0.71177733]])"
      ]
     },
     "execution_count": 12,
     "metadata": {},
     "output_type": "execute_result"
    }
   ],
   "source": [
    "p = v.T         #->v: Matriz de similaridad de columna-clase\n",
    "p"
   ]
  },
  {
   "cell_type": "markdown",
   "metadata": {},
   "source": [
    "### PCA - "
   ]
  },
  {
   "cell_type": "code",
   "execution_count": 13,
   "metadata": {},
   "outputs": [
    {
     "data": {
      "text/plain": [
       "array([[ 0.75893059,  0.96415157],\n",
       "       [ 0.30947237, -1.34064392],\n",
       "       [ 0.46981611, -1.12249752],\n",
       "       [-1.50985531,  0.22176936],\n",
       "       [ 1.55941788,  0.81765469],\n",
       "       [-1.58778164,  0.45956582]])"
      ]
     },
     "execution_count": 13,
     "metadata": {},
     "output_type": "execute_result"
    }
   ],
   "source": [
    " \n",
    "scoresMatrix = t[:, :pcs]  # (Las dos pc's)\n",
    "scoresMatrix"
   ]
  },
  {
   "cell_type": "code",
   "execution_count": 14,
   "metadata": {},
   "outputs": [
    {
     "data": {
      "text/plain": [
       "array([[-0.62650679,  0.45817699],\n",
       "       [ 0.33836904,  0.88864866],\n",
       "       [-0.70213648,  0.0194267 ]])"
      ]
     },
     "execution_count": 14,
     "metadata": {},
     "output_type": "execute_result"
    }
   ],
   "source": [
    "\n",
    "loadingsMatrix = p[:, :pcs]\n",
    "loadingsMatrix\n",
    "\n"
   ]
  },
  {
   "cell_type": "code",
   "execution_count": 15,
   "metadata": {},
   "outputs": [
    {
     "data": {
      "text/plain": [
       "array([[-0.0337231 ,  1.11359062, -0.51414257],\n",
       "       [-0.80813874, -1.08664556, -0.24333613],\n",
       "       [-0.80864552, -0.8385347 , -0.35168145],\n",
       "       [ 1.04754422, -0.31381325,  1.06443274],\n",
       "       [-0.60235532,  1.25426648, -1.07903985],\n",
       "       [ 1.20531846, -0.1288636 ,  1.12376726]])"
      ]
     },
     "execution_count": 15,
     "metadata": {},
     "output_type": "execute_result"
    }
   ],
   "source": [
    "model = np.dot(scoresMatrix, loadingsMatrix.T) #Matriz de 300x112\n",
    "model\n",
    "\n",
    "#Con este codigo podremos ver que la media de cada una de las columnas es 0\n",
    "#average2 = np.nanmean(model,axis=0)# array of M elements\n",
    "#average2 = average2.reshape((1,average2.shape[0]))\n",
    "#average2"
   ]
  },
  {
   "cell_type": "code",
   "execution_count": 16,
   "metadata": {},
   "outputs": [
    {
     "data": {
      "text/plain": [
       "array([[ 0.30098434, -0.14775636, -0.33977   ],\n",
       "       [ 0.5408775 , -0.26552241, -0.61057643],\n",
       "       [-0.52766069,  0.25903414,  0.59565647],\n",
       "       [-0.2457605 ,  0.12064639,  0.27742986],\n",
       "       [-0.1994284 ,  0.09790149,  0.22512728],\n",
       "       [ 0.13098775, -0.06430326, -0.14786719]])"
      ]
     },
     "execution_count": 16,
     "metadata": {},
     "output_type": "execute_result"
    }
   ],
   "source": [
    "data=xcs\n",
    "residualsMatrix = data - model #\n",
    "residualsMatrix"
   ]
  },
  {
   "cell_type": "code",
   "execution_count": 17,
   "metadata": {},
   "outputs": [
    {
     "data": {
      "text/plain": [
       "array([[2.85043395, 0.        , 0.        ],\n",
       "       [0.        , 2.21717312, 0.        ],\n",
       "       [0.        , 0.        , 1.39970342],\n",
       "       [0.        , 0.        , 0.        ],\n",
       "       [0.        , 0.        , 0.        ],\n",
       "       [0.        , 0.        , 0.        ]])"
      ]
     },
     "execution_count": 17,
     "metadata": {},
     "output_type": "execute_result"
    }
   ],
   "source": [
    "eigengvaluesMatrix = s\n",
    "eigengvaluesMatrix"
   ]
  },
  {
   "cell_type": "markdown",
   "metadata": {},
   "source": [
    "### Otro modo del cálculo de PCA con sklearn.decomposition.PCA"
   ]
  },
  {
   "cell_type": "code",
   "execution_count": 18,
   "metadata": {},
   "outputs": [
    {
     "name": "stdout",
     "output_type": "stream",
     "text": [
      "[0.54166491 0.32772378]\n",
      "[2.85043395 2.21717312]\n"
     ]
    }
   ],
   "source": [
    "import numpy as np\n",
    "from sklearn.decomposition import PCA\n",
    "X = xcs\n",
    "pca = PCA(n_components=2)\n",
    "pca.fit(X)\n",
    "PCA(n_components=2)\n",
    "print(pca.explained_variance_ratio_)\n",
    "print(pca.singular_values_)\n"
   ]
  },
  {
   "cell_type": "code",
   "execution_count": 19,
   "metadata": {},
   "outputs": [
    {
     "data": {
      "text/plain": [
       "numpy.ndarray"
      ]
     },
     "execution_count": 19,
     "metadata": {},
     "output_type": "execute_result"
    }
   ],
   "source": [
    "type(xcs)\n"
   ]
  },
  {
   "cell_type": "code",
   "execution_count": 20,
   "metadata": {},
   "outputs": [],
   "source": [
    "import matplotlib.pyplot as plt\n",
    "%matplotlib inline"
   ]
  },
  {
   "cell_type": "code",
   "execution_count": 21,
   "metadata": {},
   "outputs": [
    {
     "data": {
      "text/plain": [
       "<matplotlib.collections.PathCollection at 0x7f8907c93c10>"
      ]
     },
     "execution_count": 21,
     "metadata": {},
     "output_type": "execute_result"
    },
    {
     "data": {
      "image/png": "[encoded data removed]",
      "text/plain": [
       "<Figure size 432x288 with 1 Axes>"
      ]
     },
     "metadata": {
      "needs_background": "light"
     },
     "output_type": "display_data"
    }
   ],
   "source": [
    "x = xcs[:,0]\n",
    "y = xcs[:,1]\n",
    "plt.scatter(x,y)"
   ]
  },
  {
   "cell_type": "code",
   "execution_count": null,
   "metadata": {},
   "outputs": [],
   "source": []
  },
  {
   "cell_type": "code",
   "execution_count": null,
   "metadata": {},
   "outputs": [],
   "source": []
  },
  {
   "cell_type": "markdown",
   "metadata": {},
   "source": [
    "### Ejemplo youtube"
   ]
  },
  {
   "cell_type": "code",
   "execution_count": 22,
   "metadata": {},
   "outputs": [],
   "source": [
    "import numpy as np\n",
    "from datetime import datetime\n",
    "import time\n",
    "from scipy.stats import norm\n",
    "import numpy.linalg as linalg\n",
    "\n",
    "\n",
    "import matplotlib.pyplot as plt\n",
    "%matplotlib inline"
   ]
  },
  {
   "cell_type": "code",
   "execution_count": 23,
   "metadata": {},
   "outputs": [],
   "source": [
    "W = xcs"
   ]
  },
  {
   "cell_type": "code",
   "execution_count": 24,
   "metadata": {},
   "outputs": [
    {
     "data": {
      "image/png": "[encoded data removed]",
      "text/plain": [
       "<Figure size 432x288 with 1 Axes>"
      ]
     },
     "metadata": {
      "needs_background": "light"
     },
     "output_type": "display_data"
    },
    {
     "data": {
      "image/png": "[encoded data removed]",
      "text/plain": [
       "<Figure size 432x288 with 1 Axes>"
      ]
     },
     "metadata": {
      "needs_background": "light"
     },
     "output_type": "display_data"
    }
   ],
   "source": [
    "from matplotlib import pyplot\n",
    "from mpl_toolkits.mplot3d import Axes3D\n",
    "\n",
    "#Puntos de esparcidos de las dos primeras columnas relacionadas entre sí\n",
    "plt.scatter(W[:,0], W[:,1])\n",
    "plt.axis('equal')\n",
    "plt.grid(True)\n",
    "\n",
    "\n",
    "#Plot en 3 dimensiones para ver \n",
    "fig = pyplot.figure()\n",
    "ax = Axes3D(fig)\n",
    "\n",
    "sequence_containing_x_vals = W[:,0]\n",
    "sequence_containing_y_vals = W[:,1]\n",
    "sequence_containing_z_vals = W[:,2]\n",
    "\n",
    "\n",
    "\n",
    "ax.scatter(sequence_containing_x_vals, sequence_containing_y_vals, sequence_containing_z_vals)\n",
    "pyplot.show()\n",
    "\n",
    "\n"
   ]
  },
  {
   "cell_type": "code",
   "execution_count": null,
   "metadata": {},
   "outputs": [],
   "source": []
  },
  {
   "cell_type": "code",
   "execution_count": null,
   "metadata": {},
   "outputs": [],
   "source": []
  },
  {
   "cell_type": "raw",
   "metadata": {},
   "source": []
  },
  {
   "cell_type": "markdown",
   "metadata": {},
   "source": [
    "###  Varianza de cada una de las columnas"
   ]
  },
  {
   "cell_type": "code",
   "execution_count": 25,
   "metadata": {},
   "outputs": [
    {
     "data": {
      "text/plain": [
       "0.8333333333333334"
      ]
     },
     "execution_count": 25,
     "metadata": {},
     "output_type": "execute_result"
    }
   ],
   "source": [
    "np.var(W[:,0])"
   ]
  },
  {
   "cell_type": "code",
   "execution_count": 26,
   "metadata": {},
   "outputs": [
    {
     "data": {
      "text/plain": [
       "0.8333333333333331"
      ]
     },
     "execution_count": 26,
     "metadata": {},
     "output_type": "execute_result"
    }
   ],
   "source": [
    "np.var(W[:,1])"
   ]
  },
  {
   "cell_type": "code",
   "execution_count": 27,
   "metadata": {},
   "outputs": [
    {
     "data": {
      "text/plain": [
       "0.8333333333333334"
      ]
     },
     "execution_count": 27,
     "metadata": {},
     "output_type": "execute_result"
    }
   ],
   "source": [
    "np.var(W[:,2])"
   ]
  },
  {
   "cell_type": "code",
   "execution_count": 28,
   "metadata": {},
   "outputs": [
    {
     "data": {
      "text/plain": [
       "array([[ 1.        , -0.02065041,  0.54772256],\n",
       "       [-0.02065041,  1.        , -0.28276732],\n",
       "       [ 0.54772256, -0.28276732,  1.        ]])"
      ]
     },
     "execution_count": 28,
     "metadata": {},
     "output_type": "execute_result"
    }
   ],
   "source": [
    "#Covariance Matrix\n",
    "C = np.cov(W.T)\n",
    "C\n",
    "#Para encontrar el primer componente principal (PC1) debemos utilizar\n",
    "#los autovalores y autovectores de la matriz de covarianza"
   ]
  },
  {
   "cell_type": "code",
   "execution_count": 29,
   "metadata": {},
   "outputs": [],
   "source": [
    "#Calculate the eigevalues and eigenvectors de la amtriz de covarianza\n",
    "e, V = np.linalg.eig(C)"
   ]
  },
  {
   "cell_type": "code",
   "execution_count": 30,
   "metadata": {},
   "outputs": [
    {
     "data": {
      "text/plain": [
       "array([1.62499474, 0.39183393, 0.98317133])"
      ]
     },
     "execution_count": 30,
     "metadata": {},
     "output_type": "execute_result"
    }
   ],
   "source": [
    "#Estos son los autovalores de la matriz covarianza\n",
    "e"
   ]
  },
  {
   "cell_type": "code",
   "execution_count": 31,
   "metadata": {},
   "outputs": [
    {
     "name": "stdout",
     "output_type": "stream",
     "text": [
      "[-0.62650679  0.33836904 -0.70213648]\n",
      "[ 0.63052604 -0.30953182 -0.71177733]\n",
      "[0.45817699 0.88864866 0.0194267 ]\n"
     ]
    }
   ],
   "source": [
    "#Cada columna es un autovector de la matriz de covarianza\n",
    "print V[:,0]\n",
    "print V[:,1]\n",
    "print V[:,2]"
   ]
  },
  {
   "cell_type": "code",
   "execution_count": 32,
   "metadata": {},
   "outputs": [],
   "source": [
    "u = V[:,2] #Autovector correspondiente al mayor d elos autovalores\n",
    "\n",
    "u\n",
    "\n",
    "u2 = V[:,1] #Autovector correspondiente al mayor d elos autovalores\n",
    "\n",
    "#¿Qué es Z? La proyección de los datos en su autovector asociado al mayor de los\n",
    "#autovalores\n",
    "Z2 = np.dot(X,u2)"
   ]
  },
  {
   "cell_type": "code",
   "execution_count": 33,
   "metadata": {},
   "outputs": [
    {
     "data": {
      "text/plain": [
       "(6,)"
      ]
     },
     "execution_count": 33,
     "metadata": {},
     "output_type": "execute_result"
    }
   ],
   "source": [
    "#¿Qué es Z?\n",
    "Z = np.dot(W,u)\n",
    "Z.shape"
   ]
  },
  {
   "cell_type": "code",
   "execution_count": 34,
   "metadata": {},
   "outputs": [
    {
     "data": {
      "text/plain": [
       "0.8193094393163111"
      ]
     },
     "execution_count": 34,
     "metadata": {},
     "output_type": "execute_result"
    }
   ],
   "source": [
    "np.var(Z) #Será un valor (teóricament igual) al autovalor del cual estamos \n",
    "#partiendo, es decir el segundo elemento de la matriz e"
   ]
  },
  {
   "cell_type": "code",
   "execution_count": 35,
   "metadata": {},
   "outputs": [
    {
     "data": {
      "text/plain": [
       "0.9999999999999999"
      ]
     },
     "execution_count": 35,
     "metadata": {},
     "output_type": "execute_result"
    }
   ],
   "source": [
    "np.dot(u,u)"
   ]
  },
  {
   "cell_type": "code",
   "execution_count": 36,
   "metadata": {},
   "outputs": [],
   "source": [
    "Y = np.outer(Z,u)\n",
    "Y\n",
    "\n",
    "Y2 = np.outer(Z2,u2)\n"
   ]
  },
  {
   "cell_type": "code",
   "execution_count": 37,
   "metadata": {},
   "outputs": [
    {
     "data": {
      "image/png": "[encoded data removed]",
      "text/plain": [
       "<Figure size 432x288 with 1 Axes>"
      ]
     },
     "metadata": {
      "needs_background": "light"
     },
     "output_type": "display_data"
    }
   ],
   "source": [
    "#Hasta aqui tenemos que hemos calculado la primera componente principal en base\n",
    "#a la matriz de covarianza\n",
    "\n",
    "\n",
    "\n",
    "#Plot en 3 dimensiones para ver \n",
    "fig = pyplot.figure()\n",
    "ax = Axes3D(fig)\n",
    "\n",
    "sequence_containing_x_vals = W[:,0]\n",
    "sequence_containing_y_vals = W[:,1]\n",
    "sequence_containing_z_vals = W[:,2]\n",
    "\n",
    "\n",
    "sequence_containing_x_tend = Y[:,0]\n",
    "sequence_containing_y_tend = Y[:,1]\n",
    "sequence_containing_z_tend = Y[:,2]\n",
    "\n",
    "sequence_containing_x_tend2 = Y2[:,0]\n",
    "sequence_containing_y_tend2 = Y2[:,1]\n",
    "sequence_containing_z_tend2 = Y2[:,2]\n",
    "\n",
    "\n",
    "\n",
    "#Mostramos los puntos en un plano 3d\n",
    "ax.scatter(sequence_containing_x_vals, sequence_containing_y_vals, sequence_containing_z_vals)\n",
    "#Y dibujamos la tendencia de dichos datos\n",
    "ax.scatter(sequence_containing_x_tend, sequence_containing_y_tend, sequence_containing_z_tend)\n",
    "\n",
    "ax.scatter(sequence_containing_x_tend2, sequence_containing_y_tend2, sequence_containing_z_tend2)\n",
    "\n",
    "\n",
    "pyplot.show()\n",
    "\n",
    "\n",
    "\n"
   ]
  },
  {
   "cell_type": "markdown",
   "metadata": {},
   "source": [
    "## Using Scikit-learn"
   ]
  },
  {
   "cell_type": "code",
   "execution_count": 38,
   "metadata": {},
   "outputs": [],
   "source": [
    "import numpy as np\n",
    "import matplotlib.pyplot as plt\n",
    "%matplotlib inline"
   ]
  },
  {
   "cell_type": "code",
   "execution_count": 39,
   "metadata": {},
   "outputs": [],
   "source": [
    "X=xcs\n",
    "y = xcs[:,1]\n",
    "\n",
    "#Creamos el pca con 2 componentes\n",
    "pca = PCA(2)"
   ]
  },
  {
   "cell_type": "code",
   "execution_count": 40,
   "metadata": {},
   "outputs": [
    {
     "data": {
      "text/plain": [
       "array([[ 0.62650679, -0.33836904,  0.70213648],\n",
       "       [-0.45817699, -0.88864866, -0.0194267 ]])"
      ]
     },
     "execution_count": 40,
     "metadata": {},
     "output_type": "execute_result"
    }
   ],
   "source": [
    "pca.fit(X)\n",
    "\n",
    "\n",
    "#Para ver las dos componentes que tenemos definidas\n",
    "pca.components_\n",
    "#Recordemos que estos son los dos primeros autovectores de la matriz de covarianza del\n",
    "#conjunto de observaciones"
   ]
  },
  {
   "cell_type": "code",
   "execution_count": 41,
   "metadata": {},
   "outputs": [],
   "source": [
    "#Vamos a transformar X en nuestro nuevo espacio de componentes principales\n",
    "Z = pca.transform(X)"
   ]
  },
  {
   "cell_type": "code",
   "execution_count": 42,
   "metadata": {},
   "outputs": [
    {
     "data": {
      "text/plain": [
       "(6,)"
      ]
     },
     "execution_count": 42,
     "metadata": {},
     "output_type": "execute_result"
    }
   ],
   "source": [
    "Z.shape\n",
    "y.shape\n"
   ]
  },
  {
   "cell_type": "code",
   "execution_count": 43,
   "metadata": {},
   "outputs": [
    {
     "data": {
      "image/png": "[encoded data removed]",
      "text/plain": [
       "<Figure size 432x288 with 2 Axes>"
      ]
     },
     "metadata": {
      "needs_background": "light"
     },
     "output_type": "display_data"
    }
   ],
   "source": [
    "#El siguiente paso es comprobar cuanta información es preservada en este nuevo modelo\n",
    "#y cuanta hemos perdido\n",
    "plt.scatter(Z[:,0], Z[:,1], c=y)\n",
    "\n",
    "plt.scatter(Z[:,0], Z[:,1], c=y, cmap='RdPu_r', alpha=0.7)\n",
    "plt.colorbar()\n",
    "plt.grid(True)"
   ]
  },
  {
   "cell_type": "code",
   "execution_count": 44,
   "metadata": {},
   "outputs": [
    {
     "data": {
      "image/png": "[encoded data removed]",
      "text/plain": [
       "<Figure size 432x288 with 2 Axes>"
      ]
     },
     "metadata": {
      "needs_background": "light"
     },
     "output_type": "display_data"
    },
    {
     "data": {
      "image/png": "[encoded data removed]",
      "text/plain": [
       "<Figure size 432x288 with 1 Axes>"
      ]
     },
     "metadata": {
      "needs_background": "light"
     },
     "output_type": "display_data"
    }
   ],
   "source": [
    "plt.scatter(X[:,0], X[:,1], c=y)\n",
    "\n",
    "plt.scatter(X[:,0], X[:,1], c=y, cmap='RdPu_r', alpha=0.7)\n",
    "plt.colorbar()\n",
    "plt.grid(True)\n",
    "\n",
    "#Plot en 3 dimensiones para ver \n",
    "fig = pyplot.figure()\n",
    "ax = Axes3D(fig)\n",
    "\n",
    "sequence_containing_x_vals = W[:,0]\n",
    "sequence_containing_y_vals = W[:,1]\n",
    "sequence_containing_z_vals = W[:,2]\n",
    "\n",
    "\n",
    "\n",
    "#Mostramos los puntos en un plano 3d\n",
    "ax.scatter(sequence_containing_x_vals, sequence_containing_y_vals, sequence_containing_z_vals, cmap='RdPu_r')\n",
    "\n",
    "pyplot.show()"
   ]
  },
  {
   "cell_type": "markdown",
   "metadata": {},
   "source": [
    "## Calculamos el modelos PCA - Método utilizado en el proyecto"
   ]
  },
  {
   "cell_type": "code",
   "execution_count": 45,
   "metadata": {},
   "outputs": [],
   "source": [
    "data=xcs\n",
    "pcs=lv\n",
    "\n",
    "u, s, v = linalg.svd(data)\n"
   ]
  },
  {
   "cell_type": "code",
   "execution_count": 46,
   "metadata": {},
   "outputs": [
    {
     "data": {
      "text/plain": [
       "array([[ 0.26726124,  0.96583426, -0.85391256],\n",
       "       [-0.26726124, -1.35216797, -0.85391256],\n",
       "       [-1.33630621, -0.57950056,  0.24397502],\n",
       "       [ 0.80178373, -0.19316685,  1.3418626 ],\n",
       "       [-0.80178373,  1.35216797, -0.85391256],\n",
       "       [ 1.33630621, -0.19316685,  0.97590007]])"
      ]
     },
     "execution_count": 46,
     "metadata": {},
     "output_type": "execute_result"
    }
   ],
   "source": [
    "data"
   ]
  },
  {
   "cell_type": "code",
   "execution_count": 47,
   "metadata": {},
   "outputs": [
    {
     "data": {
      "image/png": "[encoded data removed]",
      "text/plain": [
       "<Figure size 432x288 with 2 Axes>"
      ]
     },
     "metadata": {
      "needs_background": "light"
     },
     "output_type": "display_data"
    },
    {
     "data": {
      "image/png": "[encoded data removed]",
      "text/plain": [
       "<Figure size 432x288 with 1 Axes>"
      ]
     },
     "metadata": {
      "needs_background": "light"
     },
     "output_type": "display_data"
    },
    {
     "data": {
      "image/png": "[encoded data removed]",
      "text/plain": [
       "<Figure size 432x288 with 1 Axes>"
      ]
     },
     "metadata": {
      "needs_background": "light"
     },
     "output_type": "display_data"
    },
    {
     "data": {
      "image/png": "[encoded data removed]",
      "text/plain": [
       "<Figure size 432x288 with 1 Axes>"
      ]
     },
     "metadata": {
      "needs_background": "light"
     },
     "output_type": "display_data"
    }
   ],
   "source": [
    "plt.scatter(data[:,0], data[:,1], c=y)\n",
    "\n",
    "plt.scatter(data[:,0], data[:,1], c=y, cmap='RdPu_r', alpha=0.7)\n",
    "plt.colorbar()\n",
    "plt.grid(True)\n",
    "\n",
    "################################Matriz data\n",
    "fig = pyplot.figure()\n",
    "ax = Axes3D(fig)\n",
    "\n",
    "sequence_containing_x_vals = data[:,0]\n",
    "sequence_containing_y_vals = data[:,1]\n",
    "sequence_containing_z_vals = data[:,2]\n",
    "\n",
    "ax.scatter(sequence_containing_x_vals, sequence_containing_y_vals, sequence_containing_z_vals)\n",
    "pyplot.show()\n",
    "\n",
    "################################Matriz U\n",
    "fig = pyplot.figure()\n",
    "ax = Axes3D(fig)\n",
    "\n",
    "sequence_containing_x_vals = u[:,0]\n",
    "sequence_containing_y_vals = u[:,1]\n",
    "sequence_containing_z_vals = u[:,2]\n",
    "\n",
    "ax.scatter(sequence_containing_x_vals, sequence_containing_y_vals, sequence_containing_z_vals)\n",
    "pyplot.show()\n",
    "\n",
    "\n",
    "#######################################Matriz v\n",
    "fig = pyplot.figure()\n",
    "ax = Axes3D(fig)\n",
    "\n",
    "sequence_containing_x_vals = v[:,0]\n",
    "sequence_containing_y_vals = v[:,1]\n",
    "sequence_containing_z_vals = v[:,2]\n",
    "\n",
    "ax.scatter(sequence_containing_x_vals, sequence_containing_y_vals, sequence_containing_z_vals)\n",
    "pyplot.show()\n",
    "\n"
   ]
  },
  {
   "cell_type": "code",
   "execution_count": 48,
   "metadata": {},
   "outputs": [
    {
     "name": "stdout",
     "output_type": "stream",
     "text": [
      "Las dimensiones de u: (6, 6)\n",
      "Las dimensiones de s: (6, 3)\n",
      "Las dimensiones de v: (3, 3)\n"
     ]
    }
   ],
   "source": [
    "sdiag = np.diag(s)\n",
    "s = np.zeros((u.shape[1], v.shape[0]))\n",
    "s[:sdiag.shape[0], :sdiag.shape[1]] = sdiag\n",
    "\n",
    "print \"Las dimensiones de u: %s\" % str(u.shape)\n",
    "\n",
    "print \"Las dimensiones de s: %s\" % str(s.shape)\n",
    "\n",
    "print \"Las dimensiones de v: %s\" % str(v.shape)\n",
    "\n",
    "\n",
    "\n",
    "t = np.dot(u, s)  #  ->u: Matriz de similaridad de fila-clase     \n",
    "p = v.T\n"
   ]
  },
  {
   "cell_type": "code",
   "execution_count": 49,
   "metadata": {},
   "outputs": [
    {
     "data": {
      "text/plain": [
       "array([[-0.62650679,  0.45817699, -0.63052604],\n",
       "       [ 0.33836904,  0.88864866,  0.30953182],\n",
       "       [-0.70213648,  0.0194267 ,  0.71177733]])"
      ]
     },
     "execution_count": 49,
     "metadata": {},
     "output_type": "execute_result"
    }
   ],
   "source": [
    "p"
   ]
  },
  {
   "cell_type": "code",
   "execution_count": 50,
   "metadata": {},
   "outputs": [
    {
     "data": {
      "image/png": "[encoded data removed]",
      "text/plain": [
       "<Figure size 432x288 with 2 Axes>"
      ]
     },
     "metadata": {
      "needs_background": "light"
     },
     "output_type": "display_data"
    }
   ],
   "source": [
    "#El siguiente paso es comprobar cuanta información es preservada en este nuevo modelo\n",
    "#y cuanta hemos perdido\n",
    "plt.scatter(t[:,0], t[:,1], c=y)\n",
    "\n",
    "plt.scatter(t[:,0], t[:,1], c=y, cmap='RdPu_r', alpha=0.7)\n",
    "plt.colorbar()\n",
    "plt.grid(True)"
   ]
  },
  {
   "cell_type": "markdown",
   "metadata": {},
   "source": [
    "Vemos que este dibujo es el espejo del método previamente utilizado por lo cuál con algunos cálculos en el despliegue podríamos invertirlo y conseguir la misma figura. Con esta demostración me sobra para comprobar que ambos métodos me dan el mismo resultado.\n",
    "\n",
    "En definitiva lo que estamos aqui planteando es convertir la información de una matriz con tres columnas en otra matriz de dos, eso justamente es lo que hacemos con t, quedarnos con sus dos primeras columnas. "
   ]
  },
  {
   "cell_type": "code",
   "execution_count": 51,
   "metadata": {},
   "outputs": [],
   "source": [
    "pcs=2\n",
    "scoresMatrix = t[:, :pcs]  # (Las dos pc's)\n",
    "loadingsMatrix = p[:, :pcs] #M\n",
    "model = np.dot(scoresMatrix, loadingsMatrix.T) #Matriz de 300x112\n",
    "residualsMatrix = data - model #\n",
    "eigengvaluesMatrix = s #"
   ]
  },
  {
   "cell_type": "code",
   "execution_count": 52,
   "metadata": {},
   "outputs": [
    {
     "data": {
      "text/plain": [
       "<matplotlib.collections.PathCollection at 0x7f89073670d0>"
      ]
     },
     "execution_count": 52,
     "metadata": {},
     "output_type": "execute_result"
    },
    {
     "data": {
      "image/png": "[encoded data removed]",
      "text/plain": [
       "<Figure size 432x288 with 1 Axes>"
      ]
     },
     "metadata": {
      "needs_background": "light"
     },
     "output_type": "display_data"
    }
   ],
   "source": [
    "plt.scatter(model[:,0], model[:,1], c=y)"
   ]
  },
  {
   "cell_type": "code",
   "execution_count": 53,
   "metadata": {},
   "outputs": [
    {
     "data": {
      "image/png": "[encoded data removed]",
      "text/plain": [
       "<Figure size 432x288 with 1 Axes>"
      ]
     },
     "metadata": {
      "needs_background": "light"
     },
     "output_type": "display_data"
    }
   ],
   "source": [
    "fig = pyplot.figure()\n",
    "ax = Axes3D(fig)\n",
    "\n",
    "sequence_containing_x_vals = model[:,0]\n",
    "sequence_containing_y_vals = model[:,1]\n",
    "sequence_containing_z_vals = model[:,2]\n",
    "\n",
    "ax.scatter(sequence_containing_x_vals, sequence_containing_y_vals, sequence_containing_z_vals)\n",
    "pyplot.show()"
   ]
  },
  {
   "cell_type": "code",
   "execution_count": 54,
   "metadata": {},
   "outputs": [
    {
     "data": {
      "text/plain": [
       "(6, 3)"
      ]
     },
     "execution_count": 54,
     "metadata": {},
     "output_type": "execute_result"
    }
   ],
   "source": [
    "model.shape"
   ]
  },
  {
   "cell_type": "markdown",
   "metadata": {},
   "source": [
    "¿Qué es este model calculado? Son las observaciones pero ahora tan sólo en 2 dimensiones, el plano X en todos los puntos está a 0."
   ]
  },
  {
   "cell_type": "code",
   "execution_count": null,
   "metadata": {},
   "outputs": [],
   "source": []
  },
  {
   "cell_type": "code",
   "execution_count": null,
   "metadata": {},
   "outputs": [],
   "source": []
  },
  {
   "cell_type": "code",
   "execution_count": null,
   "metadata": {},
   "outputs": [],
   "source": []
  },
  {
   "cell_type": "markdown",
   "metadata": {},
   "source": [
    "# UCL"
   ]
  },
  {
   "cell_type": "code",
   "execution_count": 55,
   "metadata": {},
   "outputs": [],
   "source": [
    "#definido en model.py\n",
    "alpha = 0.01\n",
    "\n",
    "\n",
    "####Para el calculo de UCLD\n",
    "phase=2\n",
    "mspc=lv\n",
    "npc=data.shape[0] #nº observaciones (300)"
   ]
  },
  {
   "cell_type": "markdown",
   "metadata": {},
   "source": [
    "## UCL-D - Fase I"
   ]
  },
  {
   "cell_type": "markdown",
   "metadata": {},
   "source": [
    "Calculamos UCL-D en fase 1, que es el aplicado para la calibración. Sabemos que la fase II puede ser utilizada\n",
    "para la calibración si las dimensiones de la matriz de calibración es suficientemente grande. Como estamos\n",
    "ejemplarizando con pocas observaciones vamos a hacer la distinción"
   ]
  },
  {
   "cell_type": "code",
   "execution_count": 56,
   "metadata": {},
   "outputs": [
    {
     "name": "stdout",
     "output_type": "stream",
     "text": [
      "El valor de lim es: 3.973267131932801\n",
      "3.973267131932801\n"
     ]
    }
   ],
   "source": [
    "#Para el cálculo de UCL-D\n",
    "from scipy.stats import f as fisher\n",
    "from scipy.stats import beta\n",
    "\n",
    "\n",
    "####Calculo de los UCL's\n",
    "#UCL-D\n",
    "#Definición\n",
    "#def computeUCLD(self,npc,nob,p_value,phase):\n",
    "#llamada\n",
    "#self._mspc.computeUCLD(self._lv, data.shape[0], self._alpha, self._phase)\n",
    "\n",
    "#method_name = \"computeUCLD()\"\n",
    "       \n",
    "#importar\n",
    "from scipy.stats import f as fisher\n",
    "\n",
    "####Para el calculo de UCLD\n",
    "phase=1\n",
    "npc=lv\n",
    "nob=data.shape[0]#nº observaciones (300)\n",
    "p_value=alpha #El p_value vale 0.01 muy significativo. A más pequeño más significativo. Basicamente busca le decimos a q que busque anomalías en el p-value dado\n",
    "\n",
    "        \n",
    "if phase == 2:\n",
    "   lim = (npc*(nob*nob-1.0)/(nob*(nob-npc)))*fisher.ppf(1-p_value,npc,nob-npc)\n",
    "else:\n",
    "   lim = (nob-1.0)**2/nob*beta.ppf(1-p_value,npc/2.0,(nob-npc-1)/2.0)\n",
    "         \n",
    "print \"El valor de lim es: %s\" %lim\n",
    "   \n",
    "# Check is the limit is and ndarray of [1x1] dimensions and get the float value\n",
    "if isinstance(lim, np.ndarray):\n",
    "   lim = lim[0,0]\n",
    "            \n",
    "# TODO: Sometimes after computations numpy takes UCLq as complex with 0j imaginary part\n",
    "if isinstance(lim, complex):\n",
    "   logging.warn(\"UCLd has a complex value of %s. Getting just the real part.\",lim)\n",
    "   lim = lim.real\n",
    "            \n",
    "UCLD=lim #Valor de ejemplo 9.416825881055232\n",
    "\n",
    "print UCLD\n"
   ]
  },
  {
   "cell_type": "markdown",
   "metadata": {},
   "source": [
    "## UCL-Q"
   ]
  },
  {
   "cell_type": "code",
   "execution_count": 57,
   "metadata": {},
   "outputs": [
    {
     "name": "stdout",
     "output_type": "stream",
     "text": [
      "2.5805293836642873\n"
     ]
    }
   ],
   "source": [
    "#definido en model.py\n",
    "alpha = 0.01\n",
    "\n",
    "####Para el calculo de UCLQ\n",
    "res=residualsMatrix\n",
    "p_value=alpha #El p_value vale 0.01 muy significativo. A más pequeño más significativo. Basicamente busca le decimos a q que busque anomalías en el p-value dado\n",
    "# Rows of E matrix\n",
    "N = res.shape[0] #300 observaciones\n",
    "            \n",
    "# rank of E\n",
    "pcs_left = np.linalg.matrix_rank(res);#rango 110, este valor variará según la matriz utilizada\n",
    "    \n",
    "#\n",
    "lambda_eig = np.linalg.eigvals((1.0/(N-1))*np.dot(res.T,res)) #Array de 112 valores, \n",
    "# Get the DESC order according to the ABS value of eigenvalues\n",
    "lambda_eig = lambda_eig[np.abs(lambda_eig).argsort()[::-1]]        \n",
    "    \n",
    "theta1 = np.sum(lambda_eig[:pcs_left])\n",
    "theta2 = np.sum(lambda_eig[:pcs_left]**2)\n",
    "theta3 = np.sum(lambda_eig[:pcs_left]**3)\n",
    "    \n",
    "h0 = 1-((2*theta1*theta3)/(3*theta2**2))\n",
    "    \n",
    "z = norm.ppf(1-p_value)\n",
    "\n",
    "UCLq = theta1*((z*np.sqrt(2*theta2*(h0**2))/theta1) + 1 + (theta2*h0*(h0-1)/(theta1**2)))**(1/h0)\n",
    "#Comprobaciones para evitar errorewres\n",
    "# Check is the limit is and ndarray of [1x1] dimensions and get the float value\n",
    "if isinstance(UCLq, np.ndarray):\n",
    "   UCLq = UCLq[0,0]\n",
    "                \n",
    "# TODO: Sometimes after computations numpy takes UCLq as complex with 0j imaginary part\n",
    "if isinstance(UCLq, complex):\n",
    "    logging.warn(\"UCLq has a complex value of %s. Getting just the real part.\",UCLq)\n",
    "    UCLq = UCLq.real\n",
    "\n",
    "UCLQ=UCLq #valor de ejemplo 150.99231878043952\n",
    "\n",
    "print UCLQ"
   ]
  },
  {
   "cell_type": "markdown",
   "metadata": {},
   "source": [
    "# Cálculo de los estadísticos"
   ]
  },
  {
   "cell_type": "markdown",
   "metadata": {},
   "source": [
    "## Obtenemos una observación"
   ]
  },
  {
   "cell_type": "code",
   "execution_count": 58,
   "metadata": {},
   "outputs": [
    {
     "name": "stdout",
     "output_type": "stream",
     "text": [
      "Observación original:  [[0.14038694 0.19810149 0.80074457]]\n",
      "Observación preprocesada:  [[-1.79578872 -1.66196839 -0.56087006]]\n"
     ]
    }
   ],
   "source": [
    "#Comenzamos con el cálculo de Q-st\n",
    "#Primero obtenemos un arry de \n",
    "test=np.random.random((1,3))\n",
    "#La preprocesamos, es una funcion distinta a la usada en la matriz de calibración\n",
    "#Es decir media 0 y desviación 1 respecto la calibración\n",
    "testMeanCenterting = test - np.dot(np.ones((test.shape[0],1)),average)\n",
    "testAutoScaled = testMeanCenterting / (np.dot(np.ones((test.shape[0],1)),scale))\n",
    "testcs = testAutoScaled\n",
    "\n",
    "print \"Observación original: \", test\n",
    "print \"Observación preprocesada: \", testcs"
   ]
  },
  {
   "cell_type": "markdown",
   "metadata": {},
   "source": [
    "### Q-st"
   ]
  },
  {
   "cell_type": "code",
   "execution_count": 59,
   "metadata": {},
   "outputs": [],
   "source": [
    "\n",
    "#Ahora comenzamos el cálculo del estadístico, ¿Qué necesitamos?\n",
    "#self._mspc.computeQst(testcs, self._model.get_pca().getLoadings())\n",
    "#La observación preporcesada y la matriz Loading del PCA\n",
    "\n",
    "#def computeQst(self,testcs,P):\n",
    "P=loadingsMatrix\n"
   ]
  },
  {
   "cell_type": "code",
   "execution_count": 60,
   "metadata": {},
   "outputs": [
    {
     "data": {
      "text/plain": [
       "array([[ 0.95652251, -2.31059092]])"
      ]
     },
     "execution_count": 60,
     "metadata": {},
     "output_type": "execute_result"
    }
   ],
   "source": [
    "#Proyectamos\n",
    "#new scores from testcs and the loadings (Q) of the calibration model\n",
    "t = np.dot(testcs,P)\n",
    "t\n"
   ]
  },
  {
   "cell_type": "code",
   "execution_count": 61,
   "metadata": {},
   "outputs": [
    {
     "name": "stdout",
     "output_type": "stream",
     "text": [
      "[[-0.13786128  0.06767754  0.15562646]]\n",
      "\n",
      "[[-1.79578872 -1.66196839 -0.56087006]]\n"
     ]
    }
   ],
   "source": [
    "# Model residuals from the observations in testcs\n",
    "e = testcs - np.dot(t,np.transpose(P))\n",
    "print e\n",
    "print \n",
    "print testcs"
   ]
  },
  {
   "cell_type": "code",
   "execution_count": 62,
   "metadata": {},
   "outputs": [
    {
     "name": "stdout",
     "output_type": "stream",
     "text": [
      "[[0.04780558]]\n"
     ]
    }
   ],
   "source": [
    "# Computes Q-statistics from the observations in testcs\n",
    "Qst = np.sum(np.power(e,2),axis=1).reshape(testcs.shape[0],1);\n",
    "#->Qst = 89.84502164\n",
    "\n",
    "print Qst"
   ]
  },
  {
   "cell_type": "markdown",
   "metadata": {},
   "source": [
    "## D-st"
   ]
  },
  {
   "cell_type": "code",
   "execution_count": 63,
   "metadata": {},
   "outputs": [
    {
     "name": "stdout",
     "output_type": "stream",
     "text": [
      "[[ 0.75893059  0.96415157]\n",
      " [ 0.30947237 -1.34064392]\n",
      " [ 0.46981611 -1.12249752]\n",
      " [-1.50985531  0.22176936]\n",
      " [ 1.55941788  0.81765469]\n",
      " [-1.58778164  0.45956582]]\n",
      "\n",
      "[[1.62499474e+00 1.90785736e-16]\n",
      " [1.90785736e-16 9.83171327e-01]]\n",
      "\n",
      "[[ 0.95652251 -2.31059092]]\n"
     ]
    }
   ],
   "source": [
    "#Partiendo de las ejecuciones anteriores cn ya test definido e incluso\n",
    "\"\"\"\n",
    "Parameters\n",
    "        ----------        \n",
    "        testcs: numpy.ndarray\n",
    "            [NxM] preprocessed billinear data set with the observations to be monitored.\n",
    "        P: numpy.ndarray \n",
    "            [MxA] Matrix to perform the projection from the original to the latent subspace. \n",
    "            For PCA (testcs = T*P'), this is the matrix of loadings\n",
    "        T: numpy.ndarray \n",
    "            [MxA] Matrix to perform the projection from the original to the latent subspace. \n",
    "            For PCA (testcs = T*P'), this is the matrix of scores\n",
    "\"\"\"\n",
    "testcs=testcs\n",
    "P=loadingsMatrix\n",
    "T=scoresMatrix\n",
    "#new scores from testcs and the loadings (R) of the calibration model\n",
    "t = np.dot(testcs,P)        \n",
    "            \n",
    "#inverse of the model calibration scores (T)\n",
    "#Note: inv() method just allows at least 2D arrays \n",
    "t_cov = np.cov(T,rowvar=False) #Covariana mide la fuerza de correlación entre distintas variables.\n",
    "print T\n",
    "print\n",
    "print t_cov\n",
    "print\n",
    "print t\n",
    "\n"
   ]
  },
  {
   "cell_type": "code",
   "execution_count": 64,
   "metadata": {},
   "outputs": [
    {
     "name": "stdout",
     "output_type": "stream",
     "text": [
      "try: \n",
      "[[ 6.15386608e-01 -1.19416610e-16]\n",
      " [-1.19416610e-16  1.01711672e+00]]\n"
     ]
    }
   ],
   "source": [
    "import numpy.linalg as linalg\n",
    "\n",
    "try:\n",
    "\tinvCT = np.linalg.inv(t_cov)\n",
    "\tprint \"try: \\n\", invCT\n",
    "except LinAlgError:\n",
    "\tinvCT = 1 / t_cov\n",
    "\tprint \"except: \\n\", inv(t_cov)\n",
    "\n"
   ]
  },
  {
   "cell_type": "code",
   "execution_count": 65,
   "metadata": {},
   "outputs": [
    {
     "data": {
      "text/plain": [
       "array([[ 0.58863114, -2.35014067]])"
      ]
     },
     "execution_count": 65,
     "metadata": {},
     "output_type": "execute_result"
    }
   ],
   "source": [
    "#         if all(t_cov.shape):# True the shape tuple is empty\n",
    "#             # When T has only one variable -> cov(T) computes the variance\n",
    "#             invCT = 1 / t_cov\n",
    "#         else:    \n",
    "#             invCT = np.linalg.inv(t_cov)\n",
    "\n",
    "dotAux = np.dot(t,invCT)\n",
    "\n",
    "dotAux\n"
   ]
  },
  {
   "cell_type": "code",
   "execution_count": 66,
   "metadata": {},
   "outputs": [
    {
     "name": "stdout",
     "output_type": "stream",
     "text": [
      "[[ 0.58863114 -2.35014067]]\n",
      "\n",
      "[[ 0.95652251 -2.31059092]]\n",
      "\n",
      "[[0.56303893 5.43021368]]\n",
      "\n",
      "[[5.99325261]]\n"
     ]
    }
   ],
   "source": [
    "# Computes D-statistics from the observations in testcs\n",
    "aux=np.multiply(dotAux,t)\n",
    "Dst = np.sum(np.multiply(dotAux,t),axis=1).reshape(testcs.shape[0],1);\n",
    "\n",
    "print dotAux\n",
    "print\n",
    "print t\n",
    "print\n",
    "print aux\n",
    "print\n",
    "print Dst"
   ]
  },
  {
   "cell_type": "code",
   "execution_count": 67,
   "metadata": {},
   "outputs": [
    {
     "name": "stdout",
     "output_type": "stream",
     "text": [
      "5.993252609471204\n"
     ]
    }
   ],
   "source": [
    "# Check is the statistic is and ndarray of [1x1] dimensions and get the float value\n",
    "if isinstance(Dst, np.ndarray):\n",
    "\tDst = Dst[0,0]\n",
    "            \n",
    "# TODO: Sometimes after computations numpy takes UCLq as complex with 0j imaginary part\n",
    "if isinstance(Dst, complex):\n",
    "\tlogging.warn(\"Dst has a complex value of %s. Getting just the real part.\",self._Dst)\n",
    "\tDst = Dst.real\n",
    "    \n",
    "print Dst"
   ]
  },
  {
   "cell_type": "markdown",
   "metadata": {},
   "source": [
    "En este punto tenemos calculado los UCL's correspondientes a una calibración y los estadísticos correspondientes a una observación. Para comprobar si tenermos una anomalía tan sólo debemos ver si ambos estadísticos se encuentran por debajo de sus UCL's respectivos."
   ]
  },
  {
   "cell_type": "markdown",
   "metadata": {},
   "source": [
    "# Diagnóstico\n"
   ]
  },
  {
   "cell_type": "markdown",
   "metadata": {},
   "source": [
    "El punto ahora es poder obtener el origen de dicha anomalía para ello se aplica el método oMEDA calculando un vector de diagnóstico de la siguiente manera:"
   ]
  },
  {
   "cell_type": "code",
   "execution_count": 68,
   "metadata": {},
   "outputs": [
    {
     "data": {
      "text/plain": [
       "array([[0.14038694, 0.19810149, 0.80074457]])"
      ]
     },
     "execution_count": 68,
     "metadata": {},
     "output_type": "execute_result"
    }
   ],
   "source": [
    "#La definición de dummy se hace en manager.py\n",
    "\n",
    "# Set up which observations are compared\n",
    "dummy = np.zeros((1,test.shape[0]))\n",
    "# We evaluate the observation 1\n",
    "dummy[0,0] = 1\n",
    "\n",
    "test"
   ]
  },
  {
   "cell_type": "code",
   "execution_count": 69,
   "metadata": {},
   "outputs": [
    {
     "data": {
      "text/plain": [
       "array([[1.]])"
      ]
     },
     "execution_count": 69,
     "metadata": {},
     "output_type": "execute_result"
    }
   ],
   "source": [
    "# Computes oMEDA\n",
    "#self._mspc.computeoMEDA(testcs, dummy, self._model.get_pca().getLoadings())\n",
    "if dummy.shape[0] == 1:\n",
    "  dummy = dummy.T\n",
    "                            \n",
    "dummy"
   ]
  },
  {
   "cell_type": "code",
   "execution_count": 70,
   "metadata": {},
   "outputs": [
    {
     "data": {
      "text/plain": [
       "array([[1.]])"
      ]
     },
     "execution_count": 70,
     "metadata": {},
     "output_type": "execute_result"
    }
   ],
   "source": [
    "# To normalice the dummy vector [-1, 1]\n",
    "if dummy[dummy > 0].size != 0:\n",
    "  dummy[dummy > 0] = dummy[dummy > 0] / np.max(dummy[dummy > 0])\n",
    "\n",
    "\n",
    "dummy"
   ]
  },
  {
   "cell_type": "code",
   "execution_count": 71,
   "metadata": {},
   "outputs": [
    {
     "data": {
      "text/plain": [
       "array([[1.]])"
      ]
     },
     "execution_count": 71,
     "metadata": {},
     "output_type": "execute_result"
    }
   ],
   "source": [
    "if dummy[dummy < 0].size != 0:\n",
    "  dummy[dummy < 0] = (dummy[dummy < 0] / np.min(dummy[dummy < 0]))*(-1)\n",
    "                  \n",
    "dummy"
   ]
  },
  {
   "cell_type": "code",
   "execution_count": 75,
   "metadata": {},
   "outputs": [
    {
     "name": "stdout",
     "output_type": "stream",
     "text": [
      "[[ 0.95652251 -2.31059092]]\n",
      "[[-1.65792744 -1.72964593 -0.71649651]]\n",
      "[[ 0.60243691  0.19516787  0.44879414]\n",
      " [ 0.19516787  0.90419005 -0.22031773]\n",
      " [ 0.44879414 -0.22031773  0.49337303]]\n"
     ]
    }
   ],
   "source": [
    "xA = np.dot(np.dot(testcs,P),P.T);   \n",
    "xA\n",
    "\n",
    "print np.dot(testcs,P)\n",
    "print np.dot(np.dot(testcs,P),P.T)\n",
    "\n",
    "print np.dot(P,P.T)"
   ]
  },
  {
   "cell_type": "code",
   "execution_count": 73,
   "metadata": {},
   "outputs": [
    {
     "data": {
      "text/plain": [
       "array([[-3.20585139],\n",
       "       [-2.75755868],\n",
       "       [-0.29035563]])"
      ]
     },
     "execution_count": 73,
     "metadata": {},
     "output_type": "execute_result"
    }
   ],
   "source": [
    "sumA = np.dot(xA.T,dummy);       \n",
    "sumTotal = np.dot(testcs.T,dummy);        \n",
    "            \n",
    "oMEDA = ((2*sumTotal - sumA)*np.abs(sumA)) / np.sqrt(np.dot(dummy.T,dummy))\n",
    "\n",
    "diagnosis_vec=oMEDA\n",
    "\n",
    "diagnosis_vec"
   ]
  }
 ],
 "metadata": {
  "kernelspec": {
   "display_name": "py27",
   "language": "python",
   "name": "py27"
  },
  "language_info": {
   "codemirror_mode": {
    "name": "ipython",
    "version": 2
   },
   "file_extension": ".py",
   "mimetype": "text/x-python",
   "name": "python",
   "nbconvert_exporter": "python",
   "pygments_lexer": "ipython2",
   "version": "2.7.18"
  }
 },
 "nbformat": 4,
 "nbformat_minor": 2
}
