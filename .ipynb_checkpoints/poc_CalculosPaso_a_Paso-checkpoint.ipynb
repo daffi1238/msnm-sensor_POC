{
 "cells": [
  {
   "cell_type": "markdown",
   "metadata": {},
   "source": [
    "# Multiple linear regression"
   ]
  },
  {
   "cell_type": "markdown",
   "metadata": {},
   "source": [
    "## Import the relevant libraries"
   ]
  },
  {
   "cell_type": "code",
   "execution_count": 60,
   "metadata": {},
   "outputs": [],
   "source": [
    "import numpy as np\n",
    "from datetime import datetime\n",
    "import time\n",
    "from scipy.stats import norm\n",
    "import numpy.linalg as linalg"
   ]
  },
  {
   "cell_type": "markdown",
   "metadata": {},
   "source": [
    "## Load the data"
   ]
  },
  {
   "cell_type": "code",
   "execution_count": 61,
   "metadata": {},
   "outputs": [
    {
     "name": "stdout",
     "output_type": "stream",
     "text": [
      "La matriz generada es: \n",
      "[[4 7 0]\n",
      " [3 1 0]\n",
      " [1 3 3]\n",
      " [5 4 6]\n",
      " [2 8 0]\n",
      " [6 4 5]]\n"
     ]
    }
   ],
   "source": [
    "#Generación e matriz aleatoria arbitraria\n",
    "nobs=6\n",
    "nvar=3\n",
    "lv=2\n",
    "np.random.seed(1)\n",
    "calibration_matrix=np.random.random((nobs,nvar)) #matriz de 300x112\n",
    "#comprobar\n",
    "\n",
    "calibration_matrix=(calibration_matrix*10).astype(int)\n",
    "print \"La matriz generada es: \\n\", calibration_matrix\n"
   ]
  },
  {
   "cell_type": "markdown",
   "metadata": {},
   "source": [
    "### Precalibración - Cálculo de la media y la desviación típica"
   ]
  },
  {
   "cell_type": "code",
   "execution_count": 62,
   "metadata": {},
   "outputs": [],
   "source": [
    "x=calibration_matrix\n",
    "average = np.nanmean(calibration_matrix,axis=0)# array of M elements\n",
    "average = average.reshape((1,average.shape[0]))# Matrix of 1xM elements\n",
    "scale = np.nanstd(calibration_matrix,axis=0,ddof=1)\n",
    "\n",
    "nanM = np.isnan(x)\n",
    "anM = 1 - nanM\n",
    "\n",
    "#TODO: to ask Pepe what is this :(\n",
    "ind = np.nonzero(scale == 0)# # of zeroes in scale\n",
    "dem = 2.0*np.sum(anM[:,ind],axis=0) - 1\n",
    "scale[ind] = np.sqrt(np.ones((1,np.array(ind).size)) / dem)\n",
    "\n",
    "scale = scale.reshape((1,scale.shape[0]))# Matrix of 1xM elements\n"
   ]
  },
  {
   "cell_type": "code",
   "execution_count": 63,
   "metadata": {},
   "outputs": [
    {
     "data": {
      "text/plain": [
       "array([[3.5       , 4.5       , 2.33333333]])"
      ]
     },
     "execution_count": 63,
     "metadata": {},
     "output_type": "execute_result"
    }
   ],
   "source": [
    "average"
   ]
  },
  {
   "cell_type": "code",
   "execution_count": 64,
   "metadata": {},
   "outputs": [
    {
     "data": {
      "text/plain": [
       "array([[1.87082869, 2.58843582, 2.7325202 ]])"
      ]
     },
     "execution_count": 64,
     "metadata": {},
     "output_type": "execute_result"
    }
   ],
   "source": [
    "scale"
   ]
  },
  {
   "cell_type": "markdown",
   "metadata": {},
   "source": [
    "### Aplicamos el preprocesamiento a la matriz"
   ]
  },
  {
   "cell_type": "code",
   "execution_count": 65,
   "metadata": {},
   "outputs": [
    {
     "data": {
      "text/plain": [
       "array([[ 0.26726124,  0.96583426, -0.85391256],\n",
       "       [-0.26726124, -1.35216797, -0.85391256],\n",
       "       [-1.33630621, -0.57950056,  0.24397502],\n",
       "       [ 0.80178373, -0.19316685,  1.3418626 ],\n",
       "       [-0.80178373,  1.35216797, -0.85391256],\n",
       "       [ 1.33630621, -0.19316685,  0.97590007]])"
      ]
     },
     "execution_count": 65,
     "metadata": {},
     "output_type": "execute_result"
    }
   ],
   "source": [
    "xcs = x - np.dot(np.ones((calibration_matrix.shape[0],1)),average)\n",
    "xcs = xcs / np.dot(np.ones((calibration_matrix.shape[0],1)),scale)\n",
    "xcs"
   ]
  },
  {
   "cell_type": "markdown",
   "metadata": {},
   "source": [
    "## Calculamos el modelos PCA"
   ]
  },
  {
   "cell_type": "code",
   "execution_count": 66,
   "metadata": {},
   "outputs": [],
   "source": [
    "data=xcs\n",
    "pcs=lv\n",
    "\n",
    "u, s, v = linalg.svd(data)\n"
   ]
  },
  {
   "cell_type": "code",
   "execution_count": 67,
   "metadata": {},
   "outputs": [
    {
     "data": {
      "text/plain": [
       "array([[ 0.2662509 ,  0.43485624, -0.34103963, -0.42152413,  0.28109997,\n",
       "        -0.60580747],\n",
       "       [ 0.10857027, -0.60466362, -0.612858  ,  0.21782718,  0.44648227,\n",
       "         0.01429627],\n",
       "       [ 0.16482266, -0.50627419,  0.59788229, -0.47814037,  0.33272691,\n",
       "        -0.14046812],\n",
       "       [-0.52969314,  0.10002347,  0.27846654,  0.48952027,  0.42247783,\n",
       "        -0.46234106],\n",
       "       [ 0.54708087,  0.36878252,  0.22596853,  0.31930123,  0.50825801,\n",
       "         0.39161298],\n",
       "       [-0.55703155,  0.20727557, -0.14841973, -0.45240153,  0.41727147,\n",
       "         0.49592505]])"
      ]
     },
     "execution_count": 67,
     "metadata": {},
     "output_type": "execute_result"
    }
   ],
   "source": [
    "u\n"
   ]
  },
  {
   "cell_type": "code",
   "execution_count": 68,
   "metadata": {},
   "outputs": [
    {
     "data": {
      "text/plain": [
       "array([[2.85043395, 0.        , 0.        ],\n",
       "       [0.        , 2.21717312, 0.        ],\n",
       "       [0.        , 0.        , 1.39970342],\n",
       "       [0.        , 0.        , 0.        ],\n",
       "       [0.        , 0.        , 0.        ],\n",
       "       [0.        , 0.        , 0.        ]])"
      ]
     },
     "execution_count": 68,
     "metadata": {},
     "output_type": "execute_result"
    }
   ],
   "source": [
    "# Transform S from array to matrix with the corresponding dimensions\n",
    "# in U and V\n",
    "sdiag = np.diag(s)\n",
    "s = np.zeros((u.shape[1], v.shape[0]))\n",
    "s[:sdiag.shape[0], :sdiag.shape[1]] = sdiag\n",
    "s"
   ]
  },
  {
   "cell_type": "code",
   "execution_count": 69,
   "metadata": {},
   "outputs": [
    {
     "data": {
      "text/plain": [
       "array([[-0.62650679,  0.33836904, -0.70213648],\n",
       "       [ 0.45817699,  0.88864866,  0.0194267 ],\n",
       "       [-0.63052604,  0.30953182,  0.71177733]])"
      ]
     },
     "execution_count": 69,
     "metadata": {},
     "output_type": "execute_result"
    }
   ],
   "source": [
    "v"
   ]
  },
  {
   "cell_type": "code",
   "execution_count": 70,
   "metadata": {},
   "outputs": [
    {
     "data": {
      "text/plain": [
       "array([[ 0.75893059,  0.96415157, -0.47735434],\n",
       "       [ 0.30947237, -1.34064392, -0.85781944],\n",
       "       [ 0.46981611, -1.12249752,  0.83685789],\n",
       "       [-1.50985531,  0.22176936,  0.38977057],\n",
       "       [ 1.55941788,  0.81765469,  0.31628892],\n",
       "       [-1.58778164,  0.45956582, -0.2077436 ]])"
      ]
     },
     "execution_count": 70,
     "metadata": {},
     "output_type": "execute_result"
    }
   ],
   "source": [
    "t = np.dot(u, s)  #  ->u: Matriz de similaridad de fila-clase     \n",
    "t"
   ]
  },
  {
   "cell_type": "code",
   "execution_count": 71,
   "metadata": {},
   "outputs": [
    {
     "data": {
      "text/plain": [
       "array([[-0.62650679,  0.45817699, -0.63052604],\n",
       "       [ 0.33836904,  0.88864866,  0.30953182],\n",
       "       [-0.70213648,  0.0194267 ,  0.71177733]])"
      ]
     },
     "execution_count": 71,
     "metadata": {},
     "output_type": "execute_result"
    }
   ],
   "source": [
    "p = v.T         #->v: Matriz de similaridad de columna-clase\n",
    "p"
   ]
  },
  {
   "cell_type": "markdown",
   "metadata": {},
   "source": [
    "### PCA"
   ]
  },
  {
   "cell_type": "code",
   "execution_count": 72,
   "metadata": {},
   "outputs": [
    {
     "data": {
      "text/plain": [
       "array([[ 0.75893059,  0.96415157],\n",
       "       [ 0.30947237, -1.34064392],\n",
       "       [ 0.46981611, -1.12249752],\n",
       "       [-1.50985531,  0.22176936],\n",
       "       [ 1.55941788,  0.81765469],\n",
       "       [-1.58778164,  0.45956582]])"
      ]
     },
     "execution_count": 72,
     "metadata": {},
     "output_type": "execute_result"
    }
   ],
   "source": [
    " \n",
    "scoresMatrix = t[:, :pcs]  # (Las dos pc's)\n",
    "scoresMatrix"
   ]
  },
  {
   "cell_type": "code",
   "execution_count": 73,
   "metadata": {},
   "outputs": [
    {
     "data": {
      "text/plain": [
       "array([[-0.62650679,  0.45817699],\n",
       "       [ 0.33836904,  0.88864866],\n",
       "       [-0.70213648,  0.0194267 ]])"
      ]
     },
     "execution_count": 73,
     "metadata": {},
     "output_type": "execute_result"
    }
   ],
   "source": [
    "\n",
    "loadingsMatrix = p[:, :pcs]\n",
    "loadingsMatrix\n",
    "\n"
   ]
  },
  {
   "cell_type": "code",
   "execution_count": 74,
   "metadata": {},
   "outputs": [
    {
     "data": {
      "text/plain": [
       "array([[-0.0337231 ,  1.11359062, -0.51414257],\n",
       "       [-0.80813874, -1.08664556, -0.24333613],\n",
       "       [-0.80864552, -0.8385347 , -0.35168145],\n",
       "       [ 1.04754422, -0.31381325,  1.06443274],\n",
       "       [-0.60235532,  1.25426648, -1.07903985],\n",
       "       [ 1.20531846, -0.1288636 ,  1.12376726]])"
      ]
     },
     "execution_count": 74,
     "metadata": {},
     "output_type": "execute_result"
    }
   ],
   "source": [
    "model = np.dot(scoresMatrix, loadingsMatrix.T) #Matriz de 300x112\n",
    "model\n",
    "\n",
    "#Con este codigo podremos ver que la media de cada una de las columnas es 0\n",
    "#average2 = np.nanmean(model,axis=0)# array of M elements\n",
    "#average2 = average2.reshape((1,average2.shape[0]))\n",
    "#average2"
   ]
  },
  {
   "cell_type": "code",
   "execution_count": 75,
   "metadata": {},
   "outputs": [
    {
     "data": {
      "text/plain": [
       "array([[ 0.30098434, -0.14775636, -0.33977   ],\n",
       "       [ 0.5408775 , -0.26552241, -0.61057643],\n",
       "       [-0.52766069,  0.25903414,  0.59565647],\n",
       "       [-0.2457605 ,  0.12064639,  0.27742986],\n",
       "       [-0.1994284 ,  0.09790149,  0.22512728],\n",
       "       [ 0.13098775, -0.06430326, -0.14786719]])"
      ]
     },
     "execution_count": 75,
     "metadata": {},
     "output_type": "execute_result"
    }
   ],
   "source": [
    "data=xcs\n",
    "residualsMatrix = data - model #\n",
    "residualsMatrix"
   ]
  },
  {
   "cell_type": "code",
   "execution_count": 76,
   "metadata": {},
   "outputs": [
    {
     "data": {
      "text/plain": [
       "array([[2.85043395, 0.        , 0.        ],\n",
       "       [0.        , 2.21717312, 0.        ],\n",
       "       [0.        , 0.        , 1.39970342],\n",
       "       [0.        , 0.        , 0.        ],\n",
       "       [0.        , 0.        , 0.        ],\n",
       "       [0.        , 0.        , 0.        ]])"
      ]
     },
     "execution_count": 76,
     "metadata": {},
     "output_type": "execute_result"
    }
   ],
   "source": [
    "eigengvaluesMatrix = s\n",
    "eigengvaluesMatrix"
   ]
  },
  {
   "cell_type": "markdown",
   "metadata": {},
   "source": [
    "### Otro modo del cálculo de PCA con sklearn.decomposition.PCA"
   ]
  },
  {
   "cell_type": "code",
   "execution_count": 77,
   "metadata": {},
   "outputs": [
    {
     "name": "stdout",
     "output_type": "stream",
     "text": [
      "[0.54166491 0.32772378]\n",
      "[2.85043395 2.21717312]\n"
     ]
    }
   ],
   "source": [
    "import numpy as np\n",
    "from sklearn.decomposition import PCA\n",
    "X = xcs\n",
    "pca = PCA(n_components=2)\n",
    "pca.fit(X)\n",
    "PCA(n_components=2)\n",
    "print(pca.explained_variance_ratio_)\n",
    "print(pca.singular_values_)\n"
   ]
  },
  {
   "cell_type": "code",
   "execution_count": 78,
   "metadata": {},
   "outputs": [
    {
     "data": {
      "text/plain": [
       "numpy.ndarray"
      ]
     },
     "execution_count": 78,
     "metadata": {},
     "output_type": "execute_result"
    }
   ],
   "source": [
    "type(xcs)\n"
   ]
  },
  {
   "cell_type": "code",
   "execution_count": null,
   "metadata": {},
   "outputs": [],
   "source": [
    "import matplotlib.pyplot as plt\n",
    "%matplotlib inline"
   ]
  },
  {
   "cell_type": "code",
   "execution_count": 90,
   "metadata": {},
   "outputs": [
    {
     "data": {
      "text/plain": [
       "<matplotlib.collections.PathCollection at 0x7f821002fa90>"
      ]
     },
     "execution_count": 90,
     "metadata": {},
     "output_type": "execute_result"
    },
    {
     "data": {
      "image/png": "[encoded data removed]",
      "text/plain": [
       "<Figure size 432x288 with 1 Axes>"
      ]
     },
     "metadata": {
      "needs_background": "light"
     },
     "output_type": "display_data"
    }
   ],
   "source": [
    "x = xcs[:,0]\n",
    "y = xcs[:,1]\n",
    "plt.scatter(x,y)"
   ]
  },
  {
   "cell_type": "code",
   "execution_count": null,
   "metadata": {},
   "outputs": [],
   "source": []
  },
  {
   "cell_type": "code",
   "execution_count": null,
   "metadata": {},
   "outputs": [],
   "source": []
  },
  {
   "cell_type": "markdown",
   "metadata": {},
   "source": [
    "### Ejemplo youtube"
   ]
  },
  {
   "cell_type": "code",
   "execution_count": 99,
   "metadata": {},
   "outputs": [],
   "source": [
    "import matplotlib.pyplot as plt\n",
    "%matplotlib inline\n"
   ]
  },
  {
   "cell_type": "code",
   "execution_count": 100,
   "metadata": {},
   "outputs": [
    {
     "data": {
      "text/plain": [
       "<mtrand.RandomState at 0x7f820fbef6e0>"
      ]
     },
     "execution_count": 100,
     "metadata": {},
     "output_type": "execute_result"
    }
   ],
   "source": [
    "rng = np.random.RandomState(0)\n",
    "rng"
   ]
  },
  {
   "cell_type": "code",
   "execution_count": 101,
   "metadata": {},
   "outputs": [
    {
     "data": {
      "text/plain": [
       "array([[ 1.76405235,  0.40015721],\n",
       "       [ 0.97873798,  2.2408932 ],\n",
       "       [ 1.86755799, -0.97727788],\n",
       "       ...,\n",
       "       [ 0.19782817,  0.0977508 ],\n",
       "       [ 1.40152342,  0.15843385],\n",
       "       [-1.14190142, -1.31097037]])"
      ]
     },
     "execution_count": 101,
     "metadata": {},
     "output_type": "execute_result"
    }
   ],
   "source": [
    "W = rng.randn(1000, 2)\n",
    "W"
   ]
  },
  {
   "cell_type": "code",
   "execution_count": 102,
   "metadata": {},
   "outputs": [
    {
     "data": {
      "image/png": "[encoded data removed]",
      "text/plain": [
       "<Figure size 432x288 with 1 Axes>"
      ]
     },
     "metadata": {
      "needs_background": "light"
     },
     "output_type": "display_data"
    }
   ],
   "source": [
    "plt.scatter(W[:,0], W[:,1])\n",
    "plt.axis('equal')\n",
    "plt.grid(True)"
   ]
  },
  {
   "cell_type": "code",
   "execution_count": 103,
   "metadata": {},
   "outputs": [],
   "source": [
    "A = rng.rand(2,2)"
   ]
  },
  {
   "cell_type": "code",
   "execution_count": 104,
   "metadata": {},
   "outputs": [],
   "source": [
    "X = np.dot(W,A)"
   ]
  },
  {
   "cell_type": "code",
   "execution_count": 111,
   "metadata": {},
   "outputs": [
    {
     "data": {
      "image/png": "[encoded data removed]",
      "text/plain": [
       "<Figure size 432x288 with 1 Axes>"
      ]
     },
     "metadata": {
      "needs_background": "light"
     },
     "output_type": "display_data"
    }
   ],
   "source": [
    "plt.scatter(X[:,0], X[:,1])\n",
    "plt.axis('equal')\n",
    "plt.grid(True)"
   ]
  },
  {
   "cell_type": "code",
   "execution_count": 112,
   "metadata": {},
   "outputs": [
    {
     "data": {
      "text/plain": [
       "0.16146981846434738"
      ]
     },
     "execution_count": 112,
     "metadata": {},
     "output_type": "execute_result"
    }
   ],
   "source": [
    "np.var(X[:,0])"
   ]
  },
  {
   "cell_type": "code",
   "execution_count": 113,
   "metadata": {},
   "outputs": [
    {
     "data": {
      "text/plain": [
       "0.4143398991106429"
      ]
     },
     "execution_count": 113,
     "metadata": {},
     "output_type": "execute_result"
    }
   ],
   "source": [
    "np.var(X[:,1])"
   ]
  },
  {
   "cell_type": "code",
   "execution_count": 114,
   "metadata": {},
   "outputs": [
    {
     "data": {
      "text/plain": [
       "array([[0.16163145, 0.20478164],\n",
       "       [0.20478164, 0.41475465]])"
      ]
     },
     "execution_count": 114,
     "metadata": {},
     "output_type": "execute_result"
    }
   ],
   "source": [
    "#Covariance Matrix\n",
    "C = np.cov(X.T)\n",
    "C\n",
    "#Para encontrar el primer componente principal (PC1) debemos utilizar\n",
    "#los autovalores y autovectores de la matriz de covarianza"
   ]
  },
  {
   "cell_type": "code",
   "execution_count": 116,
   "metadata": {},
   "outputs": [],
   "source": [
    "#Calculate the eigevalues and eigenvectors\n",
    "e, V = np.linalg.eig(C)"
   ]
  },
  {
   "cell_type": "code",
   "execution_count": 117,
   "metadata": {},
   "outputs": [
    {
     "data": {
      "text/plain": [
       "array([0.04745802, 0.52892809])"
      ]
     },
     "execution_count": 117,
     "metadata": {},
     "output_type": "execute_result"
    }
   ],
   "source": [
    "#Estos son los autovalores de la matriz covarianza\n",
    "e"
   ]
  },
  {
   "cell_type": "code",
   "execution_count": 119,
   "metadata": {},
   "outputs": [
    {
     "data": {
      "text/plain": [
       "array([-0.8734214 ,  0.48696515])"
      ]
     },
     "execution_count": 119,
     "metadata": {},
     "output_type": "execute_result"
    }
   ],
   "source": [
    "#Cada columna es un autovector de la matriz de covarianza\n",
    "V\n",
    "V[:,0]\n",
    "V[:,1]"
   ]
  },
  {
   "cell_type": "code",
   "execution_count": 120,
   "metadata": {},
   "outputs": [
    {
     "data": {
      "text/plain": [
       "(2,)"
      ]
     },
     "execution_count": 120,
     "metadata": {},
     "output_type": "execute_result"
    }
   ],
   "source": [
    "u = V[:,1] #Autovector correspondiente al mayor d elos autovalores\n",
    "\n",
    "u.shape"
   ]
  },
  {
   "cell_type": "code",
   "execution_count": 121,
   "metadata": {},
   "outputs": [
    {
     "data": {
      "text/plain": [
       "array([-1.17872260e+00, -1.67083646e+00, -5.42281581e-01, -4.50054835e-01,\n",
       "       -1.49630549e-01, -8.12269168e-01, -4.82851534e-01, -4.13935068e-01,\n",
       "       -7.24293384e-01,  2.56764972e-01,  1.08498618e+00, -1.05035032e-01,\n",
       "       -5.24777106e-01,  6.89320752e-02, -1.58913959e+00, -2.76301340e-01,\n",
       "        1.48945097e+00,  1.13972764e-01, -1.28710989e+00,  3.66816432e-01,\n",
       "        1.29605700e+00, -3.73859972e-02,  5.02961449e-01,  3.02369220e-01,\n",
       "        1.00114961e+00,  3.01159990e-01,  8.77606353e-01, -2.00127945e-01,\n",
       "       -1.89193247e-01,  5.34077500e-01,  5.53598044e-01,  1.31991367e+00,\n",
       "        1.04083200e-01,  6.69936710e-01,  4.76422862e-01, -4.68835599e-01,\n",
       "       -9.20823355e-03,  1.22048229e-01,  7.73917820e-01,  1.44291590e-01,\n",
       "        1.91698044e-01,  5.15816460e-01, -1.77930619e+00, -5.62346642e-01,\n",
       "        6.20310477e-02, -3.92377660e-01, -6.07277825e-01, -5.53286332e-01,\n",
       "       -9.05310820e-01, -2.72772459e-01, -3.64317652e-01,  2.15510151e-01,\n",
       "       -3.29112472e-01,  6.05591644e-01, -1.81088428e+00, -1.49086053e+00,\n",
       "       -4.84982870e-01, -2.55718447e-01, -4.46643761e-01, -8.04651884e-01,\n",
       "        3.45222203e-01, -8.33269784e-01,  4.60113854e-01, -6.90376163e-01,\n",
       "       -5.77636560e-01,  1.54880008e-01,  3.57505781e-01,  1.15177380e-02,\n",
       "       -2.14480696e-01,  3.31182534e-01,  6.04753440e-01, -4.12174744e-01,\n",
       "       -1.79582129e+00, -5.69645495e-02,  9.61417742e-01, -8.25162632e-01,\n",
       "        8.28802074e-01,  3.88712513e-01, -8.01534147e-02,  8.56143678e-01,\n",
       "       -6.95974175e-01, -5.70016719e-01,  2.53531662e-01,  1.33211577e+00,\n",
       "       -8.17729324e-01, -6.70632453e-01, -1.46726469e-01,  2.29604971e-01,\n",
       "        7.92346024e-01,  2.43532637e-01,  8.88616034e-01,  1.47639198e+00,\n",
       "        4.60573952e-01,  5.85484919e-01, -3.67503066e-01,  5.81655311e-01,\n",
       "        6.10097188e-01, -2.03459198e-01, -8.42300201e-01, -1.87146977e+00,\n",
       "        3.25072357e-01, -9.39180941e-01,  4.59824159e-01,  3.85201272e-01,\n",
       "       -1.05624973e-01, -6.63956187e-01, -2.00653705e-01,  7.29694842e-01,\n",
       "       -1.81540191e-01, -1.23023157e+00,  7.03795154e-01,  1.42939297e-02,\n",
       "        8.21641489e-01, -2.03638081e-01,  4.50710325e-01,  1.03731219e+00,\n",
       "        9.11580754e-02,  2.46984231e-01,  2.14744605e-01, -5.77060776e-01,\n",
       "        5.53195127e-01,  2.23596678e-01,  1.01533139e+00, -1.18209392e+00,\n",
       "        1.18915086e+00,  1.37152663e-03,  8.22039088e-02, -7.32995339e-01,\n",
       "        1.09869826e+00,  5.69417001e-01,  9.13823043e-01,  3.56797269e-01,\n",
       "        9.77494828e-01, -3.34738549e-01,  1.23153608e-01,  1.17543304e+00,\n",
       "       -1.27993207e+00,  5.58306004e-01, -2.15023554e-01,  8.50427509e-02,\n",
       "       -4.52600703e-01, -3.90479219e-01, -4.65274536e-01, -3.10162314e-02,\n",
       "       -1.03782056e+00,  5.90201382e-01, -7.42324062e-01, -4.97313703e-01,\n",
       "       -3.47751435e-01,  3.48825898e-02, -1.11421521e-01,  4.08042754e-01,\n",
       "       -1.37082357e-01,  1.41740048e+00, -3.03933974e-01, -4.68768014e-01,\n",
       "        9.92213313e-01,  1.65676924e-01,  1.67857625e-01,  8.81839122e-02,\n",
       "        8.08098154e-01,  2.96664900e-01,  7.98395297e-01, -1.04931271e+00,\n",
       "       -8.47350884e-02,  1.84943845e-01,  1.67954911e-01,  1.16762784e+00,\n",
       "        7.45529732e-01, -4.56971561e-01, -3.63529025e-01,  9.92516680e-01,\n",
       "        3.85450913e-01,  1.23089857e-01, -4.96576053e-01,  1.14746429e+00,\n",
       "       -4.08608168e-01,  6.23838615e-01,  1.26168737e+00, -4.67584122e-02,\n",
       "       -3.88800716e-01, -6.87416641e-01, -7.23682424e-02,  3.04485046e-01,\n",
       "        7.16456248e-01,  3.44862289e-01, -3.40565383e-01, -2.76149286e-01,\n",
       "        4.34724521e-01, -3.28710564e-01,  7.45581384e-01,  1.76444994e+00,\n",
       "        8.13043503e-01,  1.28723441e+00, -9.95680367e-01, -2.02087807e-01,\n",
       "        1.00995315e+00,  5.45202528e-01, -1.04997803e+00, -1.24179982e+00,\n",
       "        8.93663713e-01, -6.04138299e-01,  8.00612773e-01, -4.80872077e-01,\n",
       "        5.09298728e-01,  3.98201088e-01,  2.88820818e-01, -1.30458340e+00,\n",
       "       -2.76966449e-01, -1.70809218e+00, -8.08138206e-01,  1.09796326e+00,\n",
       "        2.47493963e-02,  8.57512644e-01,  1.79419651e-01,  9.72260260e-01,\n",
       "       -6.20804091e-01,  3.79366104e-01, -4.57772679e-01, -4.82880178e-01,\n",
       "        8.02900676e-01, -5.02598249e-02, -4.27179872e-01,  2.32469339e-01,\n",
       "        4.89127522e-01,  1.71061415e-01, -3.97118091e-01, -1.20567637e+00,\n",
       "        1.36852752e+00, -8.49121706e-02,  7.79683084e-01,  1.51948187e-01,\n",
       "       -9.36558509e-01,  9.31530817e-01,  1.14108599e+00,  1.38867136e+00,\n",
       "        5.10174875e-01, -1.46407577e+00, -2.86268639e-01, -8.74992481e-01,\n",
       "       -9.45810859e-01,  7.17115061e-01,  8.59739167e-01, -1.11688637e+00,\n",
       "       -8.57465921e-02,  7.46776472e-01, -1.26326688e+00, -1.45630505e+00,\n",
       "        6.23802692e-01,  6.03144627e-01, -1.94762837e-01, -4.89339201e-01,\n",
       "        4.85234999e-01,  1.69401908e+00, -2.31449271e-03, -1.18845006e+00,\n",
       "        1.72950443e+00,  2.77074541e-01, -8.04078226e-01, -1.03520803e+00,\n",
       "        5.83202780e-01,  1.37904010e+00,  3.13506104e-01, -1.23024764e+00,\n",
       "        8.77402739e-01,  1.03837591e+00, -7.11167672e-01,  1.00373328e+00,\n",
       "        2.36726903e-01,  1.67737087e-01,  4.90471179e-01, -6.30643124e-01,\n",
       "        4.36617608e-01,  6.91738182e-01, -3.36136833e-01, -1.39320591e-01,\n",
       "       -3.87287977e-01, -2.78105952e-01,  1.29936213e+00,  1.13024991e+00,\n",
       "       -1.09164846e+00,  7.89268459e-01,  3.04844357e-01, -5.07222500e-01,\n",
       "       -2.70217022e-01,  6.70223856e-01, -4.07270436e-01, -1.43490596e-01,\n",
       "        1.00952986e+00, -4.98105867e-01,  1.41354651e+00,  2.36017234e-01,\n",
       "        5.44100149e-01, -1.04156040e-01,  1.75161841e+00, -5.22094701e-01,\n",
       "        6.67611756e-01, -3.85874741e-01,  3.69530471e-01,  6.05198796e-01,\n",
       "        6.48648387e-01,  4.03194781e-01,  1.07601122e+00,  8.97653590e-01,\n",
       "        1.27181636e-01,  1.62156396e+00, -7.86265774e-01, -1.30798425e-01,\n",
       "       -2.90017429e-01,  4.66797420e-02, -1.82309251e-01,  2.76460355e-01,\n",
       "        8.25409677e-01, -9.43167036e-01,  3.17917785e-02,  4.39889267e-01,\n",
       "       -7.17458784e-02,  4.82655584e-02,  3.81341330e-01, -1.13937593e+00,\n",
       "       -6.38755630e-01, -7.12328998e-02,  8.28263393e-01, -5.33556679e-01,\n",
       "       -4.49096148e-01,  1.00989324e+00, -4.37617415e-01, -3.51480806e-01,\n",
       "        7.01306660e-01,  6.81627746e-01,  1.15285315e+00, -2.99958186e-01,\n",
       "        5.75309361e-01, -5.30586146e-01,  9.20387242e-01,  1.25150489e+00,\n",
       "        1.53754164e+00, -3.19569641e-01,  7.89100224e-03, -9.87741599e-01,\n",
       "       -2.38739448e-01, -8.55331359e-01,  1.79132780e+00, -3.61213660e-01,\n",
       "       -1.17930351e+00, -6.61228443e-01,  1.72759597e+00, -2.54297108e-01,\n",
       "        5.92037196e-01, -6.54602840e-01,  1.41012381e+00, -1.14466356e-01,\n",
       "       -1.20398416e+00, -5.01055668e-01, -8.07299021e-01,  4.79973221e-02,\n",
       "        5.31986394e-01, -6.84495541e-01,  6.78764204e-01, -2.87708120e-01,\n",
       "        4.71322762e-01,  9.22775436e-02,  1.33416558e+00, -1.09519626e-01,\n",
       "       -7.45957012e-01,  6.90828833e-01,  8.10936338e-01, -2.52384742e-01,\n",
       "        3.34568779e-01,  5.55429492e-01,  1.22661844e+00, -9.05169520e-01,\n",
       "        1.44216156e-01, -3.68394321e-01,  8.57606645e-01,  4.08877493e-01,\n",
       "       -1.10259265e+00, -4.05489628e-01, -1.51025352e-02,  7.67224405e-01,\n",
       "        1.16173739e-01, -4.12948747e-01,  1.56678111e-01,  4.66234046e-02,\n",
       "       -9.16687532e-01,  2.65669865e-01,  4.12046281e-01,  1.10446071e+00,\n",
       "        1.92391105e-01,  9.38073700e-01, -1.08757626e+00,  3.36706212e-01,\n",
       "       -3.38941786e-01, -5.05924415e-01,  7.74085639e-01,  4.45038887e-01,\n",
       "       -1.63951892e-01,  9.28589540e-01,  5.01189362e-01,  6.53267443e-01,\n",
       "       -1.17748880e+00,  2.28879911e-01, -7.25299592e-01, -2.62697453e-01,\n",
       "        9.91819534e-01, -2.99308297e-02, -2.29105126e-01, -1.13377113e+00,\n",
       "       -4.77267365e-01,  4.60714841e-01,  3.82285820e-04,  7.61783932e-01,\n",
       "        2.05192949e-01, -1.30396645e+00, -5.02647664e-01, -6.82178624e-01,\n",
       "        1.81250818e-02, -4.65392966e-01,  6.33947191e-01, -4.17457867e-01,\n",
       "        5.35449931e-02, -1.61349527e+00, -1.27830816e-01, -1.47086218e-01,\n",
       "        3.98756521e-01,  2.01192068e+00,  8.74414241e-01,  7.91997741e-01,\n",
       "        1.11462699e+00,  2.83710161e-01, -7.26231300e-01, -6.17595469e-02,\n",
       "        3.86142320e-01, -9.19312895e-02,  3.23309126e-01, -2.81007511e-01,\n",
       "        5.76006615e-01,  1.47095955e-01,  5.55852931e-01,  8.75479085e-01,\n",
       "       -2.48930434e-01,  7.38641909e-02,  8.69314350e-01, -2.53955128e-01,\n",
       "        2.53480952e-01,  1.20639828e-01, -4.27085799e-01, -2.18661856e-01,\n",
       "        1.25093026e+00, -1.23364829e+00,  1.15393821e+00, -2.99451566e-01,\n",
       "       -4.46251860e-01,  8.85616867e-01, -1.20157671e+00,  1.15866044e+00,\n",
       "        4.60383179e-01,  1.92195058e-01,  1.63599912e-01, -1.18489927e-01,\n",
       "        7.66664349e-02, -8.37395056e-01, -1.20340689e+00,  2.83868322e-01,\n",
       "       -9.42964647e-01, -7.52059015e-01,  5.23307059e-01,  5.96046634e-01,\n",
       "       -2.89242928e-01,  7.06632541e-01, -8.56336607e-01, -1.65631982e+00,\n",
       "       -8.89470714e-02, -8.75460879e-01, -2.22436798e-01,  4.01729682e-01,\n",
       "       -5.69558916e-01, -4.16979522e-01, -7.30030876e-02, -6.55616456e-01,\n",
       "       -2.69999376e-01, -5.82413041e-01,  3.12486793e-01, -7.97169201e-01,\n",
       "       -7.83716449e-01, -1.23550112e-01, -8.24632852e-01, -9.61153322e-01,\n",
       "        6.60262429e-01,  2.71949881e-01, -1.26328493e-01, -3.35899316e-01,\n",
       "        3.01382068e-01, -1.39978506e-01, -6.14685591e-01, -3.34357660e-01,\n",
       "        3.21551704e-01, -3.68106433e-01,  6.24584326e-02,  8.16076767e-01,\n",
       "       -7.57483289e-01,  1.81194293e-01, -2.27807206e-01,  6.16161703e-01,\n",
       "       -9.30722943e-02, -2.89020912e-01, -8.76938205e-01,  8.94882567e-01,\n",
       "        7.21288084e-01, -1.68044132e-01, -9.15710302e-01,  7.84035508e-01,\n",
       "       -5.49542795e-01,  1.12556752e+00, -3.57561076e-01,  3.48154342e-01,\n",
       "        4.56172649e-01, -9.54234430e-01, -9.32080666e-01,  6.71437283e-01,\n",
       "       -1.07676394e+00, -8.98456732e-01, -1.00472304e+00,  6.05477600e-02,\n",
       "        4.11888185e-01,  8.48871026e-01, -4.41972305e-01, -1.85196682e+00,\n",
       "        1.09798468e-01,  4.99345997e-01,  5.08625479e-01, -7.87182789e-02,\n",
       "       -2.46604194e-01, -4.56155236e-02, -3.66718412e-01,  1.29162430e+00,\n",
       "        7.55773569e-01, -5.21308248e-01,  1.91633207e-01,  3.11174957e-01,\n",
       "        3.81784469e-01,  1.66620770e-01,  6.25238660e-01,  1.00951528e+00,\n",
       "       -4.01372043e-01,  6.03399411e-01,  1.27714613e+00, -1.14527600e+00,\n",
       "       -3.72308407e-01, -5.26928990e-01,  6.27470016e-01, -4.73920196e-01,\n",
       "        4.68747866e-01, -4.13409323e-01, -9.53650202e-01, -5.99834750e-01,\n",
       "        3.63299841e-01, -2.29091077e+00, -9.71629337e-02, -6.46878761e-01,\n",
       "       -9.60915230e-01,  8.65528053e-01, -7.42502157e-01, -4.44954403e-01,\n",
       "        1.16675117e+00,  6.11106393e-01, -7.24293063e-01,  2.07921962e-01,\n",
       "       -1.59696733e-01, -8.51788297e-01,  1.46147026e+00, -2.51415629e-01,\n",
       "       -2.88311547e-01,  1.61594480e-01, -5.79441415e-01,  7.89480940e-01,\n",
       "       -3.81965259e-01, -8.36554025e-01, -1.81148293e-01, -1.32467700e-01,\n",
       "       -4.65818800e-01, -8.60238424e-01, -6.25970615e-01, -1.09406960e+00,\n",
       "       -2.12934488e-01,  4.75923656e-01, -3.61205549e-01, -9.71123523e-01,\n",
       "       -3.57369134e-01, -1.53193042e-01, -1.04784280e+00,  3.45264718e-01,\n",
       "        1.13780937e+00, -6.70290124e-01, -3.22026914e-01, -4.12738016e-01,\n",
       "        3.52976139e-01, -1.29397154e+00,  2.88660102e-01,  8.17437729e-01,\n",
       "        1.48510737e+00, -1.20425488e+00,  1.24260004e+00, -4.02482051e-02,\n",
       "       -1.02847949e+00, -5.01074903e-01, -5.49541345e-01,  2.08240345e-01,\n",
       "       -7.00093845e-01,  9.13990446e-01,  6.54686535e-02, -7.85028868e-01,\n",
       "       -2.97682247e-01, -1.09923595e-01,  2.67185491e-01, -8.16901462e-01,\n",
       "       -4.43701551e-01,  1.59846913e+00, -6.45838128e-01,  8.57707946e-01,\n",
       "       -1.34455294e+00, -4.56024010e-01, -5.12887230e-01, -2.16727597e-01,\n",
       "        1.03845726e+00,  2.95687512e-01, -8.80597299e-01,  8.24948066e-01,\n",
       "        9.58385520e-01,  5.52275520e-01,  6.35058704e-01, -8.25410495e-01,\n",
       "       -4.60896687e-01, -2.53438728e-01, -1.80083696e-01,  4.63763875e-01,\n",
       "       -4.81068022e-01, -5.09834099e-01,  1.18067225e+00,  4.57441553e-01,\n",
       "        3.31371807e-01, -7.91428806e-01,  1.02349152e+00, -1.90880173e-02,\n",
       "       -8.48892251e-01,  1.56042154e-01,  3.90825176e-01, -6.08168350e-01,\n",
       "       -2.69811525e-01,  8.98253155e-01,  1.02906303e+00, -1.07549538e-01,\n",
       "        1.20936433e+00,  4.58396337e-01, -1.19721462e-01, -3.43532727e-02,\n",
       "        3.17085993e-01,  1.18526904e-01,  7.13417779e-01,  6.93958593e-01,\n",
       "        5.38259268e-01,  2.45197167e-01,  5.53948134e-01, -7.11926316e-01,\n",
       "       -8.08923201e-01, -3.87624372e-02, -1.25560287e-01,  7.53792488e-01,\n",
       "        7.19485843e-02, -1.39404827e-01,  6.93376327e-01, -2.69222917e-02,\n",
       "       -1.47262314e-01,  2.21524010e-01, -7.06294894e-01, -8.21746186e-01,\n",
       "       -1.45284031e+00, -7.91336979e-01,  4.31584109e-01,  1.36419421e+00,\n",
       "       -9.05276271e-01, -1.62008347e-02,  9.89171565e-01,  6.62330210e-02,\n",
       "       -7.38026243e-01, -5.49472520e-01, -1.01633745e+00, -1.07188579e-01,\n",
       "        7.94420359e-01,  2.66394880e-01, -6.59069114e-01, -1.23263365e+00,\n",
       "       -8.05355218e-01,  1.85029380e-01, -2.35821135e-01,  2.60996038e-02,\n",
       "       -6.10286537e-01,  4.99703688e-01,  9.24486267e-01, -2.13639421e-01,\n",
       "       -1.81095440e-01, -2.24486159e-01,  5.29571238e-01, -9.22644972e-01,\n",
       "       -1.25144869e+00,  8.11789005e-01,  5.47329168e-01,  1.12708876e+00,\n",
       "       -2.06367657e-01,  2.15082157e+00,  9.13488374e-01, -5.38965375e-01,\n",
       "       -3.21499786e-01, -6.51310760e-01,  8.90350926e-01,  9.07682251e-01,\n",
       "        5.09429706e-01, -2.05464128e-01,  1.55211750e-01, -8.30525077e-01,\n",
       "        4.10653108e-01, -8.07172910e-01, -6.61171294e-01,  1.21512324e+00,\n",
       "       -1.22151448e+00, -4.57537013e-01, -5.15640204e-01,  3.85353571e-01,\n",
       "        1.05909381e+00,  1.29837205e+00, -1.35544839e+00,  5.42856142e-01,\n",
       "        2.67830421e-01, -4.29058187e-01, -1.49442773e-01, -3.53995297e-01,\n",
       "       -1.93102536e-03,  1.79361019e-01,  2.05466761e-01, -3.87520122e-01,\n",
       "        9.54127651e-02,  4.56740257e-01, -4.06154867e-01, -1.20391045e+00,\n",
       "       -1.38372620e+00,  9.26086341e-01,  7.34862111e-02,  5.31316193e-01,\n",
       "        2.56858505e-01,  6.55420677e-01,  5.40863480e-02,  1.09164100e-01,\n",
       "        2.20047717e-01, -1.53970319e-01, -7.15967152e-02, -1.59477861e-01,\n",
       "        1.48093964e+00, -5.73019089e-01, -1.21256444e-02,  2.90741121e-02,\n",
       "       -5.50293783e-01, -8.14424320e-01, -1.13944469e+00, -6.30577625e-01,\n",
       "        8.39570156e-01,  4.52370203e-01,  5.28925626e-01,  7.39674294e-01,\n",
       "        1.15442099e+00, -8.16379010e-01, -4.79352221e-01,  4.34514042e-01,\n",
       "       -2.54848763e-01,  1.33978173e-01, -3.40462300e-01, -1.86977103e-01,\n",
       "       -6.52484778e-01, -8.96957632e-01, -1.06666362e-01,  2.80546396e-01,\n",
       "       -5.55528843e-01,  1.25898513e-01,  3.40524002e-02, -1.48615249e-02,\n",
       "       -4.84965486e-02,  5.17663195e-01,  1.58143654e+00, -1.41554153e+00,\n",
       "       -6.17979818e-01,  7.35387382e-01, -7.93961305e-01,  9.95829233e-01,\n",
       "        2.95970489e-01, -1.08227089e+00, -7.94345830e-01,  6.36497956e-01,\n",
       "       -7.01645843e-01, -1.00837993e+00, -1.99473193e-01,  1.03459760e+00,\n",
       "       -1.63123847e-01,  9.71073611e-01,  5.89694539e-01, -6.47710539e-01,\n",
       "        9.63337189e-01, -1.61963049e+00,  1.53129999e+00,  6.60683496e-01,\n",
       "       -9.38989044e-01, -8.24436065e-01,  9.64937399e-01, -3.38355696e-01,\n",
       "        2.59261200e-01, -3.13548661e-01,  1.46026406e-02,  2.22885614e-02,\n",
       "       -3.55309626e-01,  3.17946736e-01,  1.50689121e-01,  7.76332577e-01,\n",
       "       -7.61330349e-01,  3.33063976e-01, -1.19920252e+00,  6.11759369e-01,\n",
       "       -6.98638150e-01, -4.54861178e-01,  5.26872564e-01,  9.39491763e-01,\n",
       "       -1.77343546e-01, -9.46243801e-01, -3.31532489e-01,  1.80230256e+00,\n",
       "       -4.05492744e-01,  3.68023298e-01,  3.08367172e-02,  1.94952731e-02,\n",
       "        6.61930775e-01, -7.21455484e-01,  5.05803653e-01, -1.53615795e+00,\n",
       "       -3.27276568e-01, -1.15123239e+00, -5.01750787e-01,  5.70585622e-02,\n",
       "        3.80357535e-02,  1.54209419e-01, -1.42856569e+00, -3.93497629e-01,\n",
       "        2.72176318e-01, -3.37136378e-01,  1.11841304e+00, -1.27796264e-01,\n",
       "       -4.78276431e-01,  2.70470365e-01,  5.70115053e-01, -2.36800450e-01,\n",
       "        6.22931222e-01,  9.37518754e-01,  5.86730176e-01, -4.42857355e-01,\n",
       "        1.15425157e+00, -3.91262321e-01,  2.58275875e-01, -2.02913154e-01,\n",
       "       -5.32852977e-02, -1.80429475e-01, -2.23265426e+00, -1.00200358e+00,\n",
       "        4.33587106e-02, -2.10802070e-01,  9.97046148e-01,  4.85761689e-01,\n",
       "        4.86123170e-01,  2.10117571e+00, -9.90626077e-01, -7.62801870e-01,\n",
       "        1.83386468e-01, -5.74142071e-01,  1.77033547e-01, -2.62698275e-01,\n",
       "       -2.17201417e-01,  1.39958953e+00, -7.60464159e-01, -8.55474254e-01,\n",
       "       -4.55611025e-01,  3.87649273e-01, -3.50098112e-01, -4.50909273e-01,\n",
       "       -8.13113607e-01,  4.06888584e-01, -9.61521302e-01,  9.68786684e-01,\n",
       "        1.54767564e-01,  7.88700438e-01,  9.21510079e-01, -1.06683782e-01,\n",
       "        8.79939292e-01,  8.65808589e-01, -1.07210296e-01,  1.23361665e-01,\n",
       "       -3.12626708e-01, -1.52947625e+00,  5.58737003e-01,  9.85596916e-01,\n",
       "       -1.91065223e-01,  9.75972286e-01, -1.68762556e-01,  1.15108499e+00,\n",
       "       -1.07515149e+00,  1.12518815e+00,  5.64595191e-01, -3.06947133e-01,\n",
       "        1.24218598e+00, -3.35333809e-02, -8.94603846e-01,  5.84030194e-01,\n",
       "        3.90326200e-01,  6.88198604e-01, -2.26454923e-01,  9.74301732e-01,\n",
       "       -5.18744234e-01, -3.38722308e-02,  7.67005679e-01,  8.13657013e-01,\n",
       "       -9.62621688e-01,  1.95746365e-01, -3.00871616e-01,  1.98955577e-01,\n",
       "       -1.01754304e+00,  3.47248962e-01,  7.16773386e-01,  9.26243780e-01,\n",
       "       -2.83972971e-01,  3.05723173e-02,  3.91568872e-01, -2.73528938e-01,\n",
       "        1.23173942e+00,  2.04092347e-01,  2.56411797e-01, -8.02632072e-01,\n",
       "        6.25960504e-02, -1.12200953e+00,  3.74176286e-01,  2.09144946e-01,\n",
       "       -1.73745402e-01,  4.91885194e-02, -7.71483477e-02,  4.51298769e-02,\n",
       "       -1.03747009e-01, -6.24136113e-01,  7.60578323e-02,  6.97367162e-01,\n",
       "       -2.79362070e-01,  9.91384114e-02,  4.11951072e-01,  3.54270017e-01,\n",
       "        1.42884179e-01, -8.34376158e-01,  2.47190142e-01, -3.95638730e-01,\n",
       "        5.64341787e-02,  5.26073470e-02, -3.38117570e-01, -8.37245961e-01,\n",
       "       -1.06285751e+00,  2.25938051e-01, -4.96789958e-02, -1.03371707e+00,\n",
       "        6.92168880e-01, -6.81028820e-02, -1.08803447e+00, -7.25773038e-02,\n",
       "       -3.21669641e-01, -1.11286430e+00,  1.05378645e+00,  8.38094124e-01,\n",
       "        1.52412912e+00,  3.22333339e-01,  3.93227988e-01, -1.40631402e+00,\n",
       "       -6.77591162e-01, -1.11189795e+00,  1.68791379e-01, -5.41353251e-01,\n",
       "        1.65634419e-03, -3.45835701e-01, -1.72704059e-01,  1.95037724e-01,\n",
       "       -6.47322798e-01,  1.00409602e+00,  4.36484266e-01,  5.07630999e-01,\n",
       "        1.09694031e+00, -2.11308380e-01,  6.83427746e-01, -3.71042729e-01,\n",
       "       -5.65586977e-01, -1.58818813e-01, -8.56154831e-01,  1.29284189e+00])"
      ]
     },
     "execution_count": 121,
     "metadata": {},
     "output_type": "execute_result"
    }
   ],
   "source": [
    "Z = np.dot(X,u)\n",
    "Z"
   ]
  },
  {
   "cell_type": "code",
   "execution_count": 122,
   "metadata": {},
   "outputs": [
    {
     "data": {
      "text/plain": [
       "0.5283991599193654"
      ]
     },
     "execution_count": 122,
     "metadata": {},
     "output_type": "execute_result"
    }
   ],
   "source": [
    "np.var(Z) #Será un valor (teóricament eigual) al autovalor del cual estamos \n",
    "#partiendo, es decir el segundo elemento de la matriz e"
   ]
  },
  {
   "cell_type": "code",
   "execution_count": 123,
   "metadata": {},
   "outputs": [
    {
     "data": {
      "text/plain": [
       "1.0000000000000002"
      ]
     },
     "execution_count": 123,
     "metadata": {},
     "output_type": "execute_result"
    }
   ],
   "source": [
    "np.dot(u,u)"
   ]
  },
  {
   "cell_type": "code",
   "execution_count": 125,
   "metadata": {},
   "outputs": [
    {
     "data": {
      "text/plain": [
       "(1000, 2)"
      ]
     },
     "execution_count": 125,
     "metadata": {},
     "output_type": "execute_result"
    }
   ],
   "source": [
    "Y = np.outer(Z,u)\n",
    "Y.shape"
   ]
  },
  {
   "cell_type": "code",
   "execution_count": 127,
   "metadata": {},
   "outputs": [
    {
     "data": {
      "image/png": "[encoded data removed]",
      "text/plain": [
       "<Figure size 432x288 with 1 Axes>"
      ]
     },
     "metadata": {
      "needs_background": "light"
     },
     "output_type": "display_data"
    }
   ],
   "source": [
    "plt.scatter(X[:,0], X[:,1])\n",
    "plt.scatter(Y[:,0], Y[:,1])\n",
    "plt.axis('equal')\n",
    "plt.grid(True)"
   ]
  },
  {
   "cell_type": "code",
   "execution_count": null,
   "metadata": {},
   "outputs": [],
   "source": []
  },
  {
   "cell_type": "code",
   "execution_count": null,
   "metadata": {},
   "outputs": [],
   "source": []
  },
  {
   "cell_type": "code",
   "execution_count": null,
   "metadata": {},
   "outputs": [],
   "source": []
  },
  {
   "cell_type": "markdown",
   "metadata": {},
   "source": [
    "### UCL"
   ]
  },
  {
   "cell_type": "code",
   "execution_count": null,
   "metadata": {},
   "outputs": [],
   "source": []
  },
  {
   "cell_type": "code",
   "execution_count": null,
   "metadata": {},
   "outputs": [],
   "source": []
  },
  {
   "cell_type": "code",
   "execution_count": null,
   "metadata": {},
   "outputs": [],
   "source": []
  },
  {
   "cell_type": "code",
   "execution_count": null,
   "metadata": {},
   "outputs": [],
   "source": []
  },
  {
   "cell_type": "code",
   "execution_count": null,
   "metadata": {},
   "outputs": [],
   "source": []
  },
  {
   "cell_type": "markdown",
   "metadata": {},
   "source": [
    "## Calculamos los UCL's"
   ]
  },
  {
   "cell_type": "code",
   "execution_count": 7,
   "metadata": {},
   "outputs": [],
   "source": [
    "#definido en model.py\n",
    "alpha = 0.01\n",
    "\n",
    "\n",
    "####Para el calculo de UCLD\n",
    "phase=2\n",
    "mspc=lv\n",
    "npc=data.shape[0] #nº observaciones (300)"
   ]
  },
  {
   "cell_type": "markdown",
   "metadata": {},
   "source": [
    "### UCL-D"
   ]
  },
  {
   "cell_type": "code",
   "execution_count": 18,
   "metadata": {},
   "outputs": [
    {
     "name": "stdout",
     "output_type": "stream",
     "text": [
      "El valor de lim es: 13.328605717141173\n",
      "13.328605717141173\n"
     ]
    }
   ],
   "source": [
    "####Calculo de los UCL's\n",
    "#UCL-D\n",
    "#Definición\n",
    "#def computeUCLD(self,npc,nob,p_value,phase):\n",
    "#llamada\n",
    "#self._mspc.computeUCLD(self._lv, data.shape[0], self._alpha, self._phase)\n",
    "'''\n",
    "Parameters\n",
    "        ----------\n",
    "        npc: int \n",
    "            Number of PCs\n",
    "        nob: int \n",
    "            Number of observations\n",
    "        p_value: float \n",
    "            p-value of the test, in (0,1]\n",
    "        phase: int \n",
    "            SPC phase\n",
    "            1: Phase I\n",
    "            2: Phase II\n",
    "'''\n",
    "#method_name = \"computeUCLD()\"\n",
    "       \n",
    "#importar\n",
    "from scipy.stats import f as fisher\n",
    "\n",
    "####Para el calculo de UCLD\n",
    "phase=2\n",
    "npc=lv\n",
    "nob=data.shape[0]#nº observaciones (300)\n",
    "p_value=alpha #El p_value vale 0.01 muy significativo. A más pequeño más significativo. Basicamente busca le decimos a q que busque anomalías en el p-value dado\n",
    "\n",
    "        \n",
    "if phase == 2:\n",
    "   lim = (npc*(nob*nob-1.0)/(nob*(nob-npc)))*fisher.ppf(1-p_value,npc,nob-npc)\n",
    "else:\n",
    "   lim = (nob-1.0)**2/nob*beta.ppf(1-p_value,npc/2.0,(nob-npc-1)/2.0)\n",
    "         \n",
    "print \"El valor de lim es: %s\" %lim\n",
    "   \n",
    "# Check is the limit is and ndarray of [1x1] dimensions and get the float value\n",
    "if isinstance(lim, np.ndarray):\n",
    "   lim = lim[0,0]\n",
    "            \n",
    "# TODO: Sometimes after computations numpy takes UCLq as complex with 0j imaginary part\n",
    "if isinstance(lim, complex):\n",
    "   logging.warn(\"UCLd has a complex value of %s. Getting just the real part.\",lim)\n",
    "   lim = lim.real\n",
    "            \n",
    "UCLD=lim #Valor de ejemplo 9.416825881055232\n",
    "\n",
    "print UCLD\n"
   ]
  },
  {
   "cell_type": "markdown",
   "metadata": {},
   "source": [
    "### UCL-Q"
   ]
  },
  {
   "cell_type": "code",
   "execution_count": 9,
   "metadata": {},
   "outputs": [
    {
     "name": "stdout",
     "output_type": "stream",
     "text": [
      "9.079596700175381\n"
     ]
    }
   ],
   "source": [
    "#definido en model.py\n",
    "alpha = 0.01\n",
    "\n",
    "####Para el calculo de UCLQ\n",
    "res=residualsMatrix\n",
    "p_value=alpha #El p_value vale 0.01 muy significativo. A más pequeño más significativo. Basicamente busca le decimos a q que busque anomalías en el p-value dado\n",
    "# Rows of E matrix\n",
    "N = res.shape[0] #300 observaciones\n",
    "            \n",
    "# rank of E\n",
    "pcs_left = np.linalg.matrix_rank(res);#rango 110, este valor variará según la matriz utilizada\n",
    "    \n",
    "#\n",
    "lambda_eig = np.linalg.eigvals((1.0/(N-1))*np.dot(res.T,res)) #Array de 112 valores, \n",
    "# Get the DESC order according to the ABS value of eigenvalues\n",
    "lambda_eig = lambda_eig[np.abs(lambda_eig).argsort()[::-1]]        \n",
    "    \n",
    "theta1 = np.sum(lambda_eig[:pcs_left])\n",
    "theta2 = np.sum(lambda_eig[:pcs_left]**2)\n",
    "theta3 = np.sum(lambda_eig[:pcs_left]**3)\n",
    "    \n",
    "h0 = 1-((2*theta1*theta3)/(3*theta2**2))\n",
    "    \n",
    "z = norm.ppf(1-p_value)\n",
    "\n",
    "UCLq = theta1*((z*np.sqrt(2*theta2*(h0**2))/theta1) + 1 + (theta2*h0*(h0-1)/(theta1**2)))**(1/h0)\n",
    "#Comprobaciones para evitar errorewres\n",
    "# Check is the limit is and ndarray of [1x1] dimensions and get the float value\n",
    "if isinstance(UCLq, np.ndarray):\n",
    "   UCLq = UCLq[0,0]\n",
    "                \n",
    "# TODO: Sometimes after computations numpy takes UCLq as complex with 0j imaginary part\n",
    "if isinstance(UCLq, complex):\n",
    "    logging.warn(\"UCLq has a complex value of %s. Getting just the real part.\",UCLq)\n",
    "    UCLq = UCLq.real\n",
    "\n",
    "UCLQ=UCLq #valor de ejemplo 150.99231878043952\n",
    "\n",
    "print UCLQ"
   ]
  },
  {
   "cell_type": "markdown",
   "metadata": {},
   "source": [
    "## Cálculo de los estadísticos"
   ]
  },
  {
   "cell_type": "markdown",
   "metadata": {},
   "source": [
    "### Q-st"
   ]
  },
  {
   "cell_type": "code",
   "execution_count": 10,
   "metadata": {},
   "outputs": [
    {
     "name": "stdout",
     "output_type": "stream",
     "text": [
      "[[3.80170218]]\n"
     ]
    }
   ],
   "source": [
    "#Comenzamos con el cálculo de Q-st\n",
    "#Primero obtenemos un arry de 1x112\n",
    "test=np.random.random((1,5))\n",
    "#La preprocesamos, es una funcion distinta a la usada en la matriz de calibración\n",
    "#Es decir media 0 y desviación 1 respecto la calibración\n",
    "testMeanCenterting = test - np.dot(np.ones((test.shape[0],1)),average)\n",
    "testAutoScaled = testMeanCenterting / (np.dot(np.ones((test.shape[0],1)),scale))\n",
    "testcs = testAutoScaled\n",
    "#Ahora comenzamos el cálculo del estadístico, ¿Qué necesitamos?\n",
    "#self._mspc.computeQst(testcs, self._model.get_pca().getLoadings())\n",
    "#La observación preporcesada y la matriz Loading del PCA\n",
    "\n",
    "#def computeQst(self,testcs,P):\n",
    "P=loadingsMatrix\n",
    "#new scores from testcs and the loadings (Q) of the calibration model\n",
    "t = np.dot(testcs,P)\n",
    "# Model residuals from the observations in testcs\n",
    "e = testcs - np.dot(t,np.transpose(P))\n",
    "# Computes Q-statistics from the observations in testcs\n",
    "Qst = np.sum(np.power(e,2),axis=1).reshape(testcs.shape[0],1);\n",
    "#->Qst = 89.84502164\n",
    "\n",
    "print Qst"
   ]
  },
  {
   "cell_type": "markdown",
   "metadata": {},
   "source": [
    "### D-st"
   ]
  },
  {
   "cell_type": "code",
   "execution_count": 11,
   "metadata": {},
   "outputs": [
    {
     "name": "stdout",
     "output_type": "stream",
     "text": [
      "2.219034581647613\n"
     ]
    }
   ],
   "source": [
    "#Partiendo de las ejecuciones anteriores cn ya test definido e incluso\n",
    "\"\"\"\n",
    "Parameters\n",
    "        ----------        \n",
    "        testcs: numpy.ndarray\n",
    "            [NxM] preprocessed billinear data set with the observations to be monitored.\n",
    "        P: numpy.ndarray \n",
    "            [MxA] Matrix to perform the projection from the original to the latent subspace. \n",
    "            For PCA (testcs = T*P'), this is the matrix of loadings\n",
    "        T: numpy.ndarray \n",
    "            [MxA] Matrix to perform the projection from the original to the latent subspace. \n",
    "            For PCA (testcs = T*P'), this is the matrix of scores\n",
    "\"\"\"\n",
    "testcs=testcs\n",
    "P=loadingsMatrix\n",
    "T=scoresMatrix\n",
    "#new scores from testcs and the loadings (R) of the calibration model\n",
    "t = np.dot(testcs,P)        \n",
    "            \n",
    "#inverse of the model calibration scores (T)\n",
    "#Note: inv() method just allows at least 2D arrays \n",
    "t_cov = np.cov(T,rowvar=False)\n",
    "\n",
    "try:\n",
    "\tinvCT = np.linalg.inv(t_cov)\n",
    "except LinAlgError:\n",
    "\tinvCT = 1 / t_cov\n",
    "\n",
    "#         if all(t_cov.shape):# True the shape tuple is empty\n",
    "#             # When T has only one variable -> cov(T) computes the variance\n",
    "#             invCT = 1 / t_cov\n",
    "#         else:    \n",
    "#             invCT = np.linalg.inv(t_cov)\n",
    "\n",
    "dotAux = np.dot(t,invCT)\n",
    "\n",
    "# Computes D-statistics from the observations in testcs\n",
    "Dst = np.sum(np.multiply(dotAux,t),axis=1).reshape(testcs.shape[0],1);\n",
    "            \n",
    "# Check is the statistic is and ndarray of [1x1] dimensions and get the float value\n",
    "if isinstance(Dst, np.ndarray):\n",
    "\tDst = Dst[0,0]\n",
    "            \n",
    "# TODO: Sometimes after computations numpy takes UCLq as complex with 0j imaginary part\n",
    "if isinstance(Dst, complex):\n",
    "\tlogging.warn(\"Dst has a complex value of %s. Getting just the real part.\",self._Dst)\n",
    "\tDst = Dst.real\n",
    "    \n",
    "print Dst"
   ]
  },
  {
   "cell_type": "markdown",
   "metadata": {},
   "source": [
    "En este punto tenemos calculado los UCL's correspondientes a una calibración y los estadísticos correspondientes a una observación. Para comprobar si tenermos una anomalía tan sólo debemos ver si ambos estadísticos se encuentran por debajo de sus UCL's respectivos."
   ]
  },
  {
   "cell_type": "markdown",
   "metadata": {},
   "source": [
    "## Diagnóstico"
   ]
  },
  {
   "cell_type": "markdown",
   "metadata": {},
   "source": [
    "El punto ahora es poder obtener el origen de dicha anomalía para ello se aplica el método oMEDA calculando un vector de diagnóstico de la siguiente manera:"
   ]
  },
  {
   "cell_type": "code",
   "execution_count": 12,
   "metadata": {},
   "outputs": [
    {
     "data": {
      "text/plain": [
       "array([[-1.73423996],\n",
       "       [ 0.5620792 ],\n",
       "       [ 1.32848689],\n",
       "       [-0.66446484],\n",
       "       [-0.08181854]])"
      ]
     },
     "execution_count": 12,
     "metadata": {},
     "output_type": "execute_result"
    }
   ],
   "source": [
    "# Set up which observations are compared\n",
    "dummy = np.zeros((1,test.shape[0]))\n",
    "# We evaluate the observation 1\n",
    "dummy[0,0] = 1\n",
    "\n",
    "# Computes oMEDA\n",
    "#self._mspc.computeoMEDA(testcs, dummy, self._model.get_pca().getLoadings())\n",
    "if dummy.shape[0] == 1:\n",
    "  dummy = dummy.T\n",
    "                            \n",
    "# To normalice the dummy vector [-1, 1]\n",
    "if dummy[dummy > 0].size != 0:\n",
    "  dummy[dummy > 0] = dummy[dummy > 0] / np.max(dummy[dummy > 0])\n",
    "\n",
    "\n",
    "if dummy[dummy < 0].size != 0:\n",
    "  dummy[dummy < 0] = (dummy[dummy < 0] / np.min(dummy[dummy < 0]))*(-1)\n",
    "                  \n",
    "xA = np.dot(np.dot(testcs,P),P.T);   \n",
    "sumA = np.dot(xA.T,dummy);       \n",
    "sumTotal = np.dot(testcs.T,dummy);        \n",
    "            \n",
    "oMEDA = ((2*sumTotal - sumA)*np.abs(sumA)) / np.sqrt(np.dot(dummy.T,dummy))\n",
    "\n",
    "diagnosis_vec=oMEDA\n",
    "\n",
    "diagnosis_vec"
   ]
  },
  {
   "cell_type": "code",
   "execution_count": null,
   "metadata": {},
   "outputs": [],
   "source": []
  },
  {
   "cell_type": "code",
   "execution_count": null,
   "metadata": {},
   "outputs": [],
   "source": []
  },
  {
   "cell_type": "code",
   "execution_count": null,
   "metadata": {},
   "outputs": [],
   "source": []
  },
  {
   "cell_type": "code",
   "execution_count": null,
   "metadata": {},
   "outputs": [],
   "source": []
  },
  {
   "cell_type": "code",
   "execution_count": null,
   "metadata": {},
   "outputs": [],
   "source": []
  }
 ],
 "metadata": {
  "kernelspec": {
   "display_name": "py27",
   "language": "python",
   "name": "py27"
  },
  "language_info": {
   "codemirror_mode": {
    "name": "ipython",
    "version": 2
   },
   "file_extension": ".py",
   "mimetype": "text/x-python",
   "name": "python",
   "nbconvert_exporter": "python",
   "pygments_lexer": "ipython2",
   "version": "2.7.18"
  }
 },
 "nbformat": 4,
 "nbformat_minor": 2
}
