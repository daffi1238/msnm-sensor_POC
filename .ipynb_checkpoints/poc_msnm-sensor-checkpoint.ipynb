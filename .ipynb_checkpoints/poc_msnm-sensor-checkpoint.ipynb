{
 "cells": [
  {
   "cell_type": "markdown",
   "metadata": {},
   "source": [
    "# Multiple linear regression"
   ]
  },
  {
   "cell_type": "markdown",
   "metadata": {},
   "source": [
    "## Import the relevant libraries"
   ]
  },
  {
   "cell_type": "code",
   "execution_count": 3,
   "metadata": {},
   "outputs": [],
   "source": [
    "import numpy as np\n",
    "from datetime import datetime\n",
    "import time\n",
    "from scipy.stats import norm\n",
    "import numpy.linalg as linalg"
   ]
  },
  {
   "cell_type": "markdown",
   "metadata": {},
   "source": [
    "## Load the data"
   ]
  },
  {
   "cell_type": "code",
   "execution_count": 4,
   "metadata": {},
   "outputs": [
    {
     "name": "stdout",
     "output_type": "stream",
     "text": [
      "Las dimensiones de la matriz de calibración son:  (20, 5)\n"
     ]
    }
   ],
   "source": [
    "#Generación e matriz aleatoria arbitraria\n",
    "nobs=20\n",
    "nvar=5\n",
    "calibration_matrix=np.random.random((nobs,nvar)) #matriz de 300x112\n",
    "#comprobar\n",
    "print \"Las dimensiones de la matriz de calibración son: \", calibration_matrix.shape\n"
   ]
  },
  {
   "cell_type": "markdown",
   "metadata": {},
   "source": [
    "## Información adicional para el cálculo"
   ]
  },
  {
   "cell_type": "code",
   "execution_count": 5,
   "metadata": {},
   "outputs": [],
   "source": [
    "#Configuraciones\n",
    "tstsDateFormat='%Y%m%d%H%M'\n",
    "model_backup_path = \"data/calibration/\"\n",
    "datetime.strftime(datetime.now(),tstsDateFormat)\n",
    "\n",
    "#información del yaml de configuración principal\n",
    "prep=2\n",
    "lv=2\n",
    "phase=1\n",
    "x=calibration_matrix\n"
   ]
  },
  {
   "cell_type": "markdown",
   "metadata": {},
   "source": [
    "### Preprocesamiento de la matriz calibración"
   ]
  },
  {
   "cell_type": "code",
   "execution_count": 6,
   "metadata": {},
   "outputs": [
    {
     "name": "stdout",
     "output_type": "stream",
     "text": [
      "average:  [[0.43372048 0.58318029 0.55689208 0.52996958 0.51338843]]\n",
      "('Las dimensiones de average: ', (1, 5), ' Se busca el valor medio de csda')\n",
      "scale:  [[0.28823026 0.34985748 0.27641538 0.31183945 0.31677515]]\n",
      "Las dimensiones de scale son:  (1, 5) Se busca la desviación de cada columna para centrarla en 1\n",
      "xcs:  [[-0.59385553 -1.27675606 -0.89439661  0.61019255  0.64820496]\n",
      " [-0.52611439  0.65625554  0.87270736 -1.03945296  0.48156524]\n",
      " [ 0.89210711  1.0989514   0.03480431  1.11662379 -0.08883159]\n",
      " [-1.03274455  0.31931511  1.46889944  1.18731905 -1.46602146]\n",
      " [-1.26875848  1.07310661 -0.5437984  -0.80364163 -0.29923907]\n",
      " [ 1.3331363   0.9841231   0.38097778 -1.61713421  0.41109975]\n",
      " [ 0.62667137 -0.73607149 -1.63781498  0.63104653 -0.71554421]\n",
      " [-0.1960048  -1.2558225  -0.29780299 -1.67395002  0.73373344]\n",
      " [-0.6765717  -1.50230964 -1.73603519  1.25560957 -1.42821961]\n",
      " [-0.4122865   0.33384394 -1.18733788  0.2431452  -0.29722033]\n",
      " [-0.4422299  -1.55023188  0.11942749  0.35025754  0.61886467]\n",
      " [ 0.41813427  1.13660806 -1.49336678 -1.14757189  1.51776199]\n",
      " [-1.39194845  0.20950064  1.46587945  0.0761575   0.4146975 ]\n",
      " [ 0.46637191  1.00898282  0.98417529  0.13950703 -1.59790963]\n",
      " [ 1.75266098 -1.09019606  0.55718878 -1.17757983  1.27936393]\n",
      " [-0.61230301  0.67620461 -0.32867985 -1.06119846 -1.33503528]\n",
      " [-0.43546819  0.82490605 -0.065036    0.41952747  1.35081752]\n",
      " [ 1.63235779  0.74789283  0.99828098  0.44300539  0.36415172]\n",
      " [-1.01695683 -0.78108456  0.56326619  1.44016386  0.64994711]\n",
      " [ 1.48380259 -0.87721853  0.73866159  0.60797354 -1.24218666]]\n",
      "Las dimensiones de xcs:  (20, 5)\n",
      "xcs es la matriz normalizada, con media 0 y desviación 1, paso necesario para aplicar PCA\n"
     ]
    }
   ],
   "source": [
    "#preprocesamiento -->method_name = \"preprocess_2D()\" La variables weight de momento en estos ejemplos no la tendremos en cuenta\n",
    "nanM = np.isnan(x)\n",
    "anM = 1 - nanM\n",
    "\n",
    "average = np.nanmean(x,axis=0)# array of M elements\n",
    "average = average.reshape((1,average.shape[0]))# Matrix of 1xM elements\n",
    "scale = np.nanstd(x,axis=0,ddof=1)\n",
    "\n",
    "#TODO: to ask Pepe what is this :(\n",
    "ind = np.nonzero(scale == 0)# # of zeroes in scale\n",
    "dem = 2.0*np.sum(anM[:,ind],axis=0) - 1\n",
    "scale[ind] = np.sqrt(np.ones((1,np.array(ind).size)) / dem)\n",
    "\n",
    "scale = scale.reshape((1,scale.shape[0]))# Matrix of 1xM elements\n",
    "xcs = x - np.dot(np.ones((x.shape[0],1)),average)\n",
    "xcs = xcs / np.dot(np.ones((x.shape[0],1)),scale)\n",
    "\n",
    "print \"average: \", average\n",
    "print (\"Las dimensiones de average: \", average.shape, \" Se busca el valor medio de csda\")#112x1, es decir, una media por cada columna\n",
    "\n",
    "print \"scale: \", scale\n",
    "print \"Las dimensiones de scale son: \", scale.shape, \"Se busca la desviación de cada columna para centrarla en 1\"\n",
    "\n",
    "#xcs tiene las dimensiones de la matriz original 300x112\n",
    "print \"xcs: \",xcs\n",
    "print \"Las dimensiones de xcs: \", xcs.shape\n",
    "print \"xcs es la matriz normalizada, con media 0 y desviación 1, paso necesario para aplicar PCA\"\n"
   ]
  },
  {
   "cell_type": "markdown",
   "metadata": {},
   "source": [
    "### PCA"
   ]
  },
  {
   "cell_type": "code",
   "execution_count": 7,
   "metadata": {},
   "outputs": [
    {
     "name": "stdout",
     "output_type": "stream",
     "text": [
      "Las dimensiones de u: (20, 20)\n",
      "Las dimensiones de s: (20, 5)\n",
      "Las dimensiones de v: (5, 5)\n"
     ]
    }
   ],
   "source": [
    "#PCA; La llamada de la funcion def runPCA(self, method='svd', **kwargs):\n",
    "#El ejemplo lo describo con el método svd que es el usado por defecto\n",
    "# Run SVD from the data matrix\n",
    "data=xcs\n",
    "pcs=lv\n",
    "\n",
    "u, s, v = linalg.svd(data)\n",
    "\n",
    "# Transform S from array to matrix with the corresponding dimensions\n",
    "# in U and V\n",
    "#Este punto no he conseguido obtener una comprensión profunda mas alla de lo que menciona\n",
    "sdiag = np.diag(s)\n",
    "s = np.zeros((u.shape[1], v.shape[0]))\n",
    "s[:sdiag.shape[0], :sdiag.shape[1]] = sdiag\n",
    "\n",
    "print \"Las dimensiones de u: %s\" % str(u.shape)\n",
    "\n",
    "print \"Las dimensiones de s: %s\" % str(s.shape)\n",
    "\n",
    "print \"Las dimensiones de v: %s\" % str(v.shape)\n"
   ]
  },
  {
   "cell_type": "code",
   "execution_count": 8,
   "metadata": {},
   "outputs": [
    {
     "name": "stdout",
     "output_type": "stream",
     "text": [
      "La dimensiones de t son : (20, 5)\n",
      "Las dimensiones de p son: (5, 5)\n",
      "Las dimensiones de scoresMatrix son: (20, 2)\n",
      "Las dimensiones de loadingsMatrix son: (5, 2)\n",
      "Las dimensiones de model son: (20, 5)\n",
      "Las dimensiones de residualsMatrix son: (20, 5)\n",
      "Las dimensiones de eigengvaluesMatrix son: (20, 5)\n"
     ]
    }
   ],
   "source": [
    "t = np.dot(u, s)   #  ->u: Matriz de similaridad de fila-clase       \n",
    "p = v.T #            ->v: Matriz de similaridad de columna-clase\n",
    "\n",
    "scoresMatrix = t[:, :pcs]  # (Las dos pc's)\n",
    "loadingsMatrix = p[:, :pcs] #M\n",
    "model = np.dot(scoresMatrix, loadingsMatrix.T) #Matriz de 300x112\n",
    "residualsMatrix = data - model #\n",
    "eigengvaluesMatrix = s #¿Qué uso tiene?\n",
    "\n",
    "print \"La dimensiones de t son : %s\" % str(t.shape)\n",
    "print \"Las dimensiones de p son: %s\" % str(p.shape)\n",
    "print \"Las dimensiones de scoresMatrix son: %s\" % str(scoresMatrix.shape)\n",
    "print \"Las dimensiones de loadingsMatrix son: %s\" % str(loadingsMatrix.shape)\n",
    "print \"Las dimensiones de model son: %s\" % str(model.shape)\n",
    "print \"Las dimensiones de residualsMatrix son: %s\" % str(residualsMatrix.shape)\n",
    "print \"Las dimensiones de eigengvaluesMatrix son: %s\" % str(eigengvaluesMatrix.shape)\n"
   ]
  },
  {
   "cell_type": "markdown",
   "metadata": {},
   "source": [
    "## Calculamos los UCL's"
   ]
  },
  {
   "cell_type": "code",
   "execution_count": 9,
   "metadata": {},
   "outputs": [],
   "source": [
    "#definido en model.py\n",
    "alpha = 0.01\n",
    "\n",
    "\n",
    "####Para el calculo de UCLD\n",
    "phase=2\n",
    "mspc=lv\n",
    "npc=data.shape[0] #nº observaciones (300)"
   ]
  },
  {
   "cell_type": "markdown",
   "metadata": {},
   "source": [
    "### UCL-D"
   ]
  },
  {
   "cell_type": "code",
   "execution_count": 10,
   "metadata": {},
   "outputs": [
    {
     "name": "stdout",
     "output_type": "stream",
     "text": [
      "El valor de lim es: 13.328605717141173\n",
      "13.328605717141173\n"
     ]
    }
   ],
   "source": [
    "####Calculo de los UCL's\n",
    "#UCL-D\n",
    "#Definición\n",
    "#def computeUCLD(self,npc,nob,p_value,phase):\n",
    "#llamada\n",
    "#self._mspc.computeUCLD(self._lv, data.shape[0], self._alpha, self._phase)\n",
    "'''\n",
    "Parameters\n",
    "        ----------\n",
    "        npc: int \n",
    "            Number of PCs\n",
    "        nob: int \n",
    "            Number of observations\n",
    "        p_value: float \n",
    "            p-value of the test, in (0,1]\n",
    "        phase: int \n",
    "            SPC phase\n",
    "            1: Phase I\n",
    "            2: Phase II\n",
    "'''\n",
    "#method_name = \"computeUCLD()\"\n",
    "       \n",
    "#importar\n",
    "from scipy.stats import f as fisher\n",
    "\n",
    "####Para el calculo de UCLD\n",
    "phase=2\n",
    "npc=lv\n",
    "nob=data.shape[0]#nº observaciones (300)\n",
    "p_value=alpha #El p_value vale 0.01 muy significativo. A más pequeño más significativo. Basicamente busca le decimos a q que busque anomalías en el p-value dado\n",
    "\n",
    "        \n",
    "if phase == 2:\n",
    "   lim = (npc*(nob*nob-1.0)/(nob*(nob-npc)))*fisher.ppf(1-p_value,npc,nob-npc)\n",
    "else:\n",
    "   lim = (nob-1.0)**2/nob*beta.ppf(1-p_value,npc/2.0,(nob-npc-1)/2.0)\n",
    "         \n",
    "print \"El valor de lim es: %s\" %lim\n",
    "   \n",
    "# Check is the limit is and ndarray of [1x1] dimensions and get the float value\n",
    "if isinstance(lim, np.ndarray):\n",
    "   lim = lim[0,0]\n",
    "            \n",
    "# TODO: Sometimes after computations numpy takes UCLq as complex with 0j imaginary part\n",
    "if isinstance(lim, complex):\n",
    "   logging.warn(\"UCLd has a complex value of %s. Getting just the real part.\",lim)\n",
    "   lim = lim.real\n",
    "            \n",
    "UCLD=lim #Valor de ejemplo 9.416825881055232\n",
    "\n",
    "print UCLD\n"
   ]
  },
  {
   "cell_type": "markdown",
   "metadata": {},
   "source": [
    "### UCL-Q"
   ]
  },
  {
   "cell_type": "code",
   "execution_count": 11,
   "metadata": {},
   "outputs": [
    {
     "name": "stdout",
     "output_type": "stream",
     "text": [
      "8.965925860184758\n"
     ]
    }
   ],
   "source": [
    "#definido en model.py\n",
    "alpha = 0.01\n",
    "\n",
    "####Para el calculo de UCLQ\n",
    "res=residualsMatrix\n",
    "p_value=alpha #El p_value vale 0.01 muy significativo. A más pequeño más significativo. Basicamente busca le decimos a q que busque anomalías en el p-value dado\n",
    "# Rows of E matrix\n",
    "N = res.shape[0] #300 observaciones\n",
    "            \n",
    "# rank of E\n",
    "pcs_left = np.linalg.matrix_rank(res);#rango 110, este valor variará según la matriz utilizada\n",
    "    \n",
    "#\n",
    "lambda_eig = np.linalg.eigvals((1.0/(N-1))*np.dot(res.T,res)) #Array de 112 valores, \n",
    "# Get the DESC order according to the ABS value of eigenvalues\n",
    "lambda_eig = lambda_eig[np.abs(lambda_eig).argsort()[::-1]]        \n",
    "    \n",
    "theta1 = np.sum(lambda_eig[:pcs_left])\n",
    "theta2 = np.sum(lambda_eig[:pcs_left]**2)\n",
    "theta3 = np.sum(lambda_eig[:pcs_left]**3)\n",
    "    \n",
    "h0 = 1-((2*theta1*theta3)/(3*theta2**2))\n",
    "    \n",
    "z = norm.ppf(1-p_value)\n",
    "\n",
    "UCLq = theta1*((z*np.sqrt(2*theta2*(h0**2))/theta1) + 1 + (theta2*h0*(h0-1)/(theta1**2)))**(1/h0)\n",
    "#Comprobaciones para evitar errorewres\n",
    "# Check is the limit is and ndarray of [1x1] dimensions and get the float value\n",
    "if isinstance(UCLq, np.ndarray):\n",
    "   UCLq = UCLq[0,0]\n",
    "                \n",
    "# TODO: Sometimes after computations numpy takes UCLq as complex with 0j imaginary part\n",
    "if isinstance(UCLq, complex):\n",
    "    logging.warn(\"UCLq has a complex value of %s. Getting just the real part.\",UCLq)\n",
    "    UCLq = UCLq.real\n",
    "\n",
    "UCLQ=UCLq #valor de ejemplo 150.99231878043952\n",
    "\n",
    "print UCLQ"
   ]
  },
  {
   "cell_type": "markdown",
   "metadata": {},
   "source": [
    "## Cálculo de los estadísticos"
   ]
  },
  {
   "cell_type": "markdown",
   "metadata": {},
   "source": [
    "### Q-st"
   ]
  },
  {
   "cell_type": "code",
   "execution_count": 12,
   "metadata": {},
   "outputs": [
    {
     "name": "stdout",
     "output_type": "stream",
     "text": [
      "[[0.51333785]]\n"
     ]
    }
   ],
   "source": [
    "#Comenzamos con el cálculo de Q-st\n",
    "#Primero obtenemos un arry de 1x112\n",
    "test=np.random.random((1,5))\n",
    "#La preprocesamos, es una funcion distinta a la usada en la matriz de calibración\n",
    "#Es decir media 0 y desviación 1 respecto la calibración\n",
    "testMeanCenterting = test - np.dot(np.ones((test.shape[0],1)),average)\n",
    "testAutoScaled = testMeanCenterting / (np.dot(np.ones((test.shape[0],1)),scale))\n",
    "testcs = testAutoScaled\n",
    "#Ahora comenzamos el cálculo del estadístico, ¿Qué necesitamos?\n",
    "#self._mspc.computeQst(testcs, self._model.get_pca().getLoadings())\n",
    "#La observación preporcesada y la matriz Loading del PCA\n",
    "\n",
    "#def computeQst(self,testcs,P):\n",
    "P=loadingsMatrix\n",
    "#new scores from testcs and the loadings (Q) of the calibration model\n",
    "t = np.dot(testcs,P)\n",
    "# Model residuals from the observations in testcs\n",
    "e = testcs - np.dot(t,np.transpose(P))\n",
    "# Computes Q-statistics from the observations in testcs\n",
    "Qst = np.sum(np.power(e,2),axis=1).reshape(testcs.shape[0],1);\n",
    "#->Qst = 89.84502164\n",
    "\n",
    "print Qst"
   ]
  },
  {
   "cell_type": "markdown",
   "metadata": {},
   "source": [
    "### D-st"
   ]
  },
  {
   "cell_type": "code",
   "execution_count": 13,
   "metadata": {},
   "outputs": [
    {
     "name": "stdout",
     "output_type": "stream",
     "text": [
      "2.774880354372762\n"
     ]
    }
   ],
   "source": [
    "#Partiendo de las ejecuciones anteriores cn ya test definido e incluso\n",
    "\"\"\"\n",
    "Parameters\n",
    "        ----------        \n",
    "        testcs: numpy.ndarray\n",
    "            [NxM] preprocessed billinear data set with the observations to be monitored.\n",
    "        P: numpy.ndarray \n",
    "            [MxA] Matrix to perform the projection from the original to the latent subspace. \n",
    "            For PCA (testcs = T*P'), this is the matrix of loadings\n",
    "        T: numpy.ndarray \n",
    "            [MxA] Matrix to perform the projection from the original to the latent subspace. \n",
    "            For PCA (testcs = T*P'), this is the matrix of scores\n",
    "\"\"\"\n",
    "testcs=testcs\n",
    "P=loadingsMatrix\n",
    "T=scoresMatrix\n",
    "#new scores from testcs and the loadings (R) of the calibration model\n",
    "t = np.dot(testcs,P)        \n",
    "            \n",
    "#inverse of the model calibration scores (T)\n",
    "#Note: inv() method just allows at least 2D arrays \n",
    "t_cov = np.cov(T,rowvar=False)\n",
    "\n",
    "try:\n",
    "\tinvCT = np.linalg.inv(t_cov)\n",
    "except LinAlgError:\n",
    "\tinvCT = 1 / t_cov\n",
    "\n",
    "#         if all(t_cov.shape):# True the shape tuple is empty\n",
    "#             # When T has only one variable -> cov(T) computes the variance\n",
    "#             invCT = 1 / t_cov\n",
    "#         else:    \n",
    "#             invCT = np.linalg.inv(t_cov)\n",
    "\n",
    "dotAux = np.dot(t,invCT)\n",
    "\n",
    "# Computes D-statistics from the observations in testcs\n",
    "Dst = np.sum(np.multiply(dotAux,t),axis=1).reshape(testcs.shape[0],1);\n",
    "            \n",
    "# Check is the statistic is and ndarray of [1x1] dimensions and get the float value\n",
    "if isinstance(Dst, np.ndarray):\n",
    "\tDst = Dst[0,0]\n",
    "            \n",
    "# TODO: Sometimes after computations numpy takes UCLq as complex with 0j imaginary part\n",
    "if isinstance(Dst, complex):\n",
    "\tlogging.warn(\"Dst has a complex value of %s. Getting just the real part.\",self._Dst)\n",
    "\tDst = Dst.real\n",
    "    \n",
    "print Dst"
   ]
  },
  {
   "cell_type": "markdown",
   "metadata": {},
   "source": [
    "En este punto tenemos calculado los UCL's correspondientes a una calibración y los estadísticos correspondientes a una observación. Para comprobar si tenermos una anomalía tan sólo debemos ver si ambos estadísticos se encuentran por debajo de sus UCL's respectivos."
   ]
  },
  {
   "cell_type": "markdown",
   "metadata": {},
   "source": [
    "## Diagnóstico"
   ]
  },
  {
   "cell_type": "markdown",
   "metadata": {},
   "source": [
    "El punto ahora es poder obtener el origen de dicha anomalía para ello se aplica el método oMEDA calculando un vector de diagnóstico de la siguiente manera:"
   ]
  },
  {
   "cell_type": "code",
   "execution_count": 14,
   "metadata": {},
   "outputs": [
    {
     "data": {
      "text/plain": [
       "array([[-0.31102915],\n",
       "       [ 0.76384637],\n",
       "       [ 0.81820243],\n",
       "       [ 0.31136717],\n",
       "       [-1.25496098]])"
      ]
     },
     "execution_count": 14,
     "metadata": {},
     "output_type": "execute_result"
    }
   ],
   "source": [
    "# Set up which observations are compared\n",
    "dummy = np.zeros((1,test.shape[0]))\n",
    "# We evaluate the observation 1\n",
    "dummy[0,0] = 1\n",
    "\n",
    "# Computes oMEDA\n",
    "#self._mspc.computeoMEDA(testcs, dummy, self._model.get_pca().getLoadings())\n",
    "if dummy.shape[0] == 1:\n",
    "  dummy = dummy.T\n",
    "                            \n",
    "# To normalice the dummy vector [-1, 1]\n",
    "if dummy[dummy > 0].size != 0:\n",
    "  dummy[dummy > 0] = dummy[dummy > 0] / np.max(dummy[dummy > 0])\n",
    "\n",
    "\n",
    "if dummy[dummy < 0].size != 0:\n",
    "  dummy[dummy < 0] = (dummy[dummy < 0] / np.min(dummy[dummy < 0]))*(-1)\n",
    "                  \n",
    "xA = np.dot(np.dot(testcs,P),P.T);   \n",
    "sumA = np.dot(xA.T,dummy);       \n",
    "sumTotal = np.dot(testcs.T,dummy);        \n",
    "            \n",
    "oMEDA = ((2*sumTotal - sumA)*np.abs(sumA)) / np.sqrt(np.dot(dummy.T,dummy))\n",
    "\n",
    "diagnosis_vec=oMEDA\n",
    "\n",
    "diagnosis_vec"
   ]
  },
  {
   "cell_type": "code",
   "execution_count": null,
   "metadata": {},
   "outputs": [],
   "source": []
  },
  {
   "cell_type": "code",
   "execution_count": null,
   "metadata": {},
   "outputs": [],
   "source": []
  },
  {
   "cell_type": "code",
   "execution_count": null,
   "metadata": {},
   "outputs": [],
   "source": []
  },
  {
   "cell_type": "code",
   "execution_count": null,
   "metadata": {},
   "outputs": [],
   "source": []
  },
  {
   "cell_type": "code",
   "execution_count": null,
   "metadata": {},
   "outputs": [],
   "source": []
  }
 ],
 "metadata": {
  "kernelspec": {
   "display_name": "py27",
   "language": "python",
   "name": "py27"
  },
  "language_info": {
   "codemirror_mode": {
    "name": "ipython",
    "version": 2
   },
   "file_extension": ".py",
   "mimetype": "text/x-python",
   "name": "python",
   "nbconvert_exporter": "python",
   "pygments_lexer": "ipython2",
   "version": "2.7.18"
  }
 },
 "nbformat": 4,
 "nbformat_minor": 2
}
